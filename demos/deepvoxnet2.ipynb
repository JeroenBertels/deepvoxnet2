{
 "cells": [
  {
   "cell_type": "markdown",
   "source": [
    "## DeepVoxNet 2: 1/2/3 D image classification/segmentation\n"
   ],
   "metadata": {
    "collapsed": false,
    "pycharm": {
     "name": "#%% md\n"
    }
   }
  },
  {
   "cell_type": "code",
   "execution_count": 10,
   "outputs": [],
   "source": [
    "import numpy as np\n",
    "from deepvoxnet2.components.mirc import Mirc, Dataset, Case, Record, ArrayModality\n",
    "from skimage.draw import disk\n",
    "from matplotlib import pyplot as plt"
   ],
   "metadata": {
    "collapsed": false,
    "pycharm": {
     "name": "#%%\n",
     "is_executing": false
    }
   }
  },
  {
   "cell_type": "markdown",
   "source": [
    "1. Organise your data as a Mirc object\n",
    "\n",
    "In the following example we will create a dummy tumor segmentation dataset, consisting of 100 cases (i.e. subjects). Each case will have one tumor record, consisting of a head CT and a manual tumor segmentation."
   ],
   "metadata": {
    "collapsed": false,
    "pycharm": {
     "name": "#%% md\n"
    }
   }
  },
  {
   "cell_type": "code",
   "execution_count": 11,
   "outputs": [
    {
     "data": {
      "text/plain": "<Figure size 432x288 with 2 Axes>",
      "image/png": "[encoded data removed]"
     },
     "metadata": {
      "needs_background": "light"
     },
     "output_type": "display_data"
    }
   ],
   "source": [
    "def generate_record(record_id):\n",
    "    record = Record(record_id=record_id)\n",
    "    head = np.zeros((100, 100))\n",
    "    head_center = np.random.randint(40, 60, 2)\n",
    "    head_radius = np.random.randint(20, 25)\n",
    "    head_xs, head_ys = disk(head_center, head_radius)\n",
    "    head[head_xs, head_ys] = 1\n",
    "    tumor = np.zeros((100, 100))\n",
    "    tumor_center = (np.random.randint(head_center[0] - 10, head_center[0] + 10), np.random.randint(head_center[1] - 10, head_center[1] + 10))\n",
    "    tumor_radius = np.random.randint(5, 10)\n",
    "    tumor_xs, tumor_ys = disk(tumor_center, tumor_radius)\n",
    "    tumor[tumor_xs, tumor_ys] = 1\n",
    "    record.add(ArrayModality(\"ct\", head + tumor))\n",
    "    record.add(ArrayModality(\"tumor\", tumor))\n",
    "    return record\n",
    "\n",
    "mirc = Mirc()\n",
    "dataset = Dataset(dataset_id=\"dataset_0\")\n",
    "for i in range(100):\n",
    "    case = Case(case_id=f\"case_{i}\")\n",
    "    case.add(generate_record(record_id=\"record_0\"))\n",
    "    dataset.add(case)\n",
    "\n",
    "mirc.add(dataset)\n",
    "record = mirc[\"dataset_0\"][\"case_0\"][\"record_0\"]\n",
    "ct = record[\"ct\"].load()\n",
    "tumor = record[\"tumor\"].load()\n",
    "fig, axs = plt.subplots(1, 2)\n",
    "axs[0].imshow(ct[0, :, :, 0, 0], cmap=\"gray\")\n",
    "axs[1].imshow(tumor[0, :, :, 0, 0], cmap=\"gray\")\n",
    "plt.show()\n"
   ],
   "metadata": {
    "collapsed": false,
    "pycharm": {
     "name": "#%%\n",
     "is_executing": false
    }
   }
  }
 ],
 "metadata": {
  "kernelspec": {
   "display_name": "Python 3",
   "language": "python",
   "name": "python3"
  },
  "language_info": {
   "codemirror_mode": {
    "name": "ipython",
    "version": 2
   },
   "file_extension": ".py",
   "mimetype": "text/x-python",
   "name": "python",
   "nbconvert_exporter": "python",
   "pygments_lexer": "ipython2",
   "version": "2.7.6"
  },
  "pycharm": {
   "stem_cell": {
    "cell_type": "raw",
    "source": [],
    "metadata": {
     "collapsed": false
    }
   }
  }
 },
 "nbformat": 4,
 "nbformat_minor": 0
}