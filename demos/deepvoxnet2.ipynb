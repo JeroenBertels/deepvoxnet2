{
 "cells": [
  {
   "cell_type": "markdown",
   "source": [
    "# DeepVoxNet 2: Yet another CNN framework"
   ],
   "metadata": {
    "collapsed": false,
    "pycharm": {
     "name": "#%% md\n"
    }
   }
  },
  {
   "cell_type": "markdown",
   "source": [
    "# 1. Introduction\n",
    "Yes, we are introducing yet another CNN framework.\n",
    "However, to the best of our knowledge there are no libraries that stay true to the aspects that we introduced in Section 1 in the previous chapter.\n",
    "The main driver behind the creation of DeepVoxNet2 (DVN2) was that we wanted to make something that gives insights, rather than something that is super efficient or fully self-configuring (e.g. nnU-Net)."
   ],
   "metadata": {
    "collapsed": false,
    "pycharm": {
     "name": "#%% md\n"
    }
   }
  },
  {
   "cell_type": "markdown",
   "source": [
    "# 2. Installation\n",
    "The DVN2 repository can be installed as a Python library such that all dependencies are also configured correctly.\n",
    "In fact, even when you do not want to use the functionalities of DVN2 explicitly, installing it will provide users with a complete and working Python environment for doing medical image analysis in general.\n",
    "As of now, it is best to add DVN2 to an empty Python 3.9 environment, e.g. using the Anaconda package manager to first create and activate such an environment via:\n",
    "```\n",
    "conda create --name dvn2env python=3.9\n",
    "conda activate dvn2env\n",
    "```\n",
    "Once you have activated your Python 3.9 environment correctly, there are two options to install DVN2 together with al its dependencies, and as a result make your environment medical image analysis proof:\n",
    "\n",
    "- First cloning or downloading the repository and then via:\n",
    "```\n",
    "pip install -e /path/to/deepvoxnet2\n",
    "```\n",
    "- Installing it directly from Github via:\n",
    "```\n",
    "pip install git+https://github.com/JeroenBertels/deepvoxnet2\n",
    "```\n",
    "\n",
    "The first method is particularly useful if you want to develop and contribute to the DVN2 library yourself.\n",
    "To upgrade your installation using the first method, simply download the latest version and repeat the process or ```git pull``` the new version.\n",
    "When using the second method simply repeat the command but add the ```--upgrade``` flag.\n",
    "You can also install or revert to a specific version of DVN2. In that case, append ```@version_tag``` (e.g. *\\@deepvoxnet-2.12.1*) to the paths in the above commands.\n",
    "Some functions require the SimpleITK and SimpleElastix software to be installed. To install these packages, please append the paths in the above commands with ```[sitk]```.\n",
    "These are not installed by default because they are only available for a limited number of operating systems."
   ],
   "metadata": {
    "collapsed": false,
    "pycharm": {
     "name": "#%% md\n"
    }
   }
  },
  {
   "cell_type": "markdown",
   "source": [
    "# 2. Schematic overview\n",
    "blabla"
   ],
   "metadata": {
    "collapsed": false,
    "pycharm": {
     "name": "#%% md\n"
    }
   }
  },
  {
   "cell_type": "markdown",
   "source": [
    "# 3. The Sample object\n",
    "One of the core objects of DVN2 is the Sample object.\n",
    "In line with the definitions of $X$ and $Y$ from the previous chapter, the Sample represents an array with a batch axis $\\mathcal{B}$, a spatial axis $\\mathcal{I}$ and a feature axis $\\mathcal{F}$.\n",
    "The spatial axis itself is 3D, hence the Sample object is a 5D array of size B x $\\mathrm{I}_0$ x $\\mathrm{I}_1$ x $\\mathrm{I}_2$ x F.\n",
    "Different from the standard Numpy array, the Sample object also has an affine attribute.\n",
    "This affine attribute stores the voxel-to-world transformation matrix for each batch element.\n",
    "As a result, the affine is a 3D array of size B x 4 x 4, thus assuming the same voxel-to-world transformation for each feature $f$ given a batch element $b$."
   ],
   "metadata": {
    "collapsed": false,
    "pycharm": {
     "name": "#%% md\n"
    }
   }
  },
  {
   "cell_type": "code",
   "execution_count": 23,
   "outputs": [
    {
     "name": "stdout",
     "output_type": "stream",
     "text": [
      "(1, 2, 100, 100, 3)\n",
      "[[[1. 0. 0. 0.]\n",
      "  [0. 1. 0. 0.]\n",
      "  [0. 0. 1. 0.]\n",
      "  [0. 0. 0. 1.]]]\n"
     ]
    }
   ],
   "source": [
    "import numpy as np\n",
    "from deepvoxnet2.components.sample import Sample\n",
    "\n",
    "array_of_ones = np.ones((2, 100, 100, 3))\n",
    "sample_of_ones = Sample(array_of_ones, affine=None)\n",
    "print(sample_of_ones.shape)\n",
    "print(sample_of_ones.affine)"
   ],
   "metadata": {
    "collapsed": false,
    "pycharm": {
     "name": "#%%\n"
    }
   }
  },
  {
   "cell_type": "markdown",
   "source": [
    "It should be clear that upon creation the Sample object makes sure the underlying array is 5D and that an affine is specified.\n",
    "Therefore, be careful and be specific.\n",
    "It is best practice to always fully provide the 5D array and affine yourself to avoid unexpected behavior.\n",
    "In that sense, when you are indeed working with only two spatial dimensions, it would be straightforward to set the fourth dimension of the Sample object as the singleton dimension."
   ],
   "metadata": {
    "collapsed": false,
    "pycharm": {
     "name": "#%% md\n"
    }
   }
  },
  {
   "cell_type": "code",
   "execution_count": 24,
   "outputs": [
    {
     "name": "stdout",
     "output_type": "stream",
     "text": [
      "(2, 100, 100, 1, 3)\n",
      "[[[1. 0. 0. 0.]\n",
      "  [0. 1. 0. 0.]\n",
      "  [0. 0. 1. 0.]\n",
      "  [0. 0. 0. 1.]]\n",
      "\n",
      " [[1. 0. 0. 0.]\n",
      "  [0. 1. 0. 0.]\n",
      "  [0. 0. 1. 0.]\n",
      "  [0. 0. 0. 1.]]]\n"
     ]
    }
   ],
   "source": [
    "default_affine = np.eye(4)\n",
    "sample_of_ones = Sample(array_of_ones[:, :, :, None, :], affine=np.stack([default_affine] * 2, axis=0))\n",
    "print(sample_of_ones.shape)\n",
    "print(sample_of_ones.affine)"
   ],
   "metadata": {
    "collapsed": false,
    "pycharm": {
     "name": "#%%\n"
    }
   }
  },
  {
   "cell_type": "markdown",
   "source": [
    "It is possible that you have a medical image, for example in Nifti format, and that you want to convert this into a Sample object.\n",
    "In this case, you can load the image and use the internal data and affine to create the Sample.\n",
    "Below we do this for the FLAIR image and the ground truth whole tumor segmentation (GT) of the first subject.\n",
    "It should not be surprising that both the FLAIR and GT are equal in size and have the same voxel-to-word transformation."
   ],
   "metadata": {
    "collapsed": false,
    "pycharm": {
     "name": "#%% md\n"
    }
   }
  },
  {
   "cell_type": "code",
   "execution_count": 25,
   "outputs": [
    {
     "name": "stdout",
     "output_type": "stream",
     "text": [
      "(240, 240, 155)\n",
      "[[ -1.  -0.  -0.   0.]\n",
      " [ -0.  -1.  -0. 239.]\n",
      " [  0.   0.   1.   0.]\n",
      " [  0.   0.   0.   1.]]\n",
      "(1, 240, 240, 155, 1)\n",
      "[[[ -1.  -0.  -0.   0.]\n",
      "  [ -0.  -1.  -0. 239.]\n",
      "  [  0.   0.   1.   0.]\n",
      "  [  0.   0.   0.   1.]]]\n",
      "(1, 240, 240, 155, 1)\n",
      "[[[ -1.  -0.  -0.   0.]\n",
      "  [ -0.  -1.  -0. 239.]\n",
      "  [  0.   0.   1.   0.]\n",
      "  [  0.   0.   0.   1.]]]\n"
     ]
    }
   ],
   "source": [
    "import os\n",
    "import nibabel as nib\n",
    "from deepvoxnet2 import DEMO_DIR  # modify the DEMO_DIR accordingly\n",
    "\n",
    "flair_path = os.path.join(DEMO_DIR, \"brats_2018\", \"case_0\", \"FLAIR.nii.gz\")\n",
    "flair_image = nib.load(flair_path)\n",
    "print(flair_image.shape)\n",
    "print(flair_image.affine)\n",
    "flair_sample = Sample(flair_image.get_fdata()[None, ..., None], affine=flair_image.affine[None, ...])\n",
    "print(flair_sample.shape)\n",
    "print(flair_sample.affine)\n",
    "gt_path = os.path.join(DEMO_DIR, \"brats_2018\", \"case_0\", \"GT_W.nii.gz\")\n",
    "gt_image = nib.load(gt_path)\n",
    "gt_sample = Sample(gt_image.get_fdata()[None, ..., None], affine=gt_image.affine[None, ...])\n",
    "print(gt_sample.shape)\n",
    "print(gt_sample.affine)"
   ],
   "metadata": {
    "collapsed": false,
    "pycharm": {
     "name": "#%%\n"
    }
   }
  },
  {
   "cell_type": "markdown",
   "source": [
    "# 4. Organizing the data\n",
    "Now that we have defined the Sample object, which can represent any $x$ or $y$, we now want to start organizing our data, starting with the set $\\mathcal{S}'$.\n",
    "Remember that the set $\\mathcal{S}'$ represents pairs of native images (e.g. samples drawn from the distribution ($\\mathcal{X},\\mathcal{Y}$)) rather than pairs that will be processed by the CNN.\n",
    "For this purpose we have created a hierarchical structure of dictionaries: Mirc > Dataset > Case > Record > Modality.\n",
    "When creating instantiations of a Dataset, Case, Record or Modality, we will need to specify an ID.\n",
    "As a result, each dictionary consists of key-value pairs, with the keys corresponding to the lower level object's IDs.\n",
    "The purpose of the Mirc object is to group multiple Dataset objects and provide the user with higher-level functionalities of which we will explain a few at the end of this section."
   ],
   "metadata": {
    "collapsed": false,
    "pycharm": {
     "name": "#%% md\n"
    }
   }
  },
  {
   "cell_type": "markdown",
   "source": [
    "## 4.1 The Modality object\n",
    "Starting from the lowest level, a Modality is simply something that returns a Sample object when ```load()``` is called.\n",
    "This is useful because when having a large dataset, it is not possible to load every image at the same time, and thus the ```load``` method provides a way to only create a Sample object from it when needed.\n",
    "Note that the Modality is an abstract class, and to really make use of the aforementioned feature, we should e.g. use the NiftiFileModality.\n",
    "When the dataset is small, or for e.g. metadata such as age, it could be more efficient or appropriate to load everything to disk and use the NiftiModality or ArrayModality instead.\n",
    "Other Modality subtypes that are readily available are ImageFileModality and ImageFileMultiModality.\n",
    "These use the Image library to load 2D images from disk (e.g. PNG, JPG) and convert them to 5D correctly (setting the fourth dimension as the singleton dimension as mentioned before)."
   ],
   "metadata": {
    "collapsed": false,
    "pycharm": {
     "name": "#%% md\n"
    }
   }
  },
  {
   "cell_type": "code",
   "execution_count": 26,
   "outputs": [
    {
     "name": "stdout",
     "output_type": "stream",
     "text": [
      "(1, 240, 240, 155, 1)\n",
      "[[[ -1.  -0.  -0.   0.]\n",
      "  [ -0.  -1.  -0. 239.]\n",
      "  [  0.   0.   1.   0.]\n",
      "  [  0.   0.   0.   1.]]]\n",
      "(1, 1, 1, 1, 1)\n",
      "[[[1. 0. 0. 0.]\n",
      "  [0. 1. 0. 0.]\n",
      "  [0. 0. 1. 0.]\n",
      "  [0. 0. 0. 1.]]]\n"
     ]
    }
   ],
   "source": [
    "from deepvoxnet2.components.mirc import NiftiFileModality, NiftiModality, ArrayModality\n",
    "\n",
    "flair_modality = NiftiFileModality(\"flair\", file_path=flair_path)\n",
    "flair_modality_ = NiftiModality(\"flair\", nifty=flair_image)\n",
    "flair_modality__ = ArrayModality(\"flair\", array=flair_image.get_fdata(), affine=flair_image.affine)\n",
    "assert np.array_equal(flair_modality.load(), flair_modality_.load())\n",
    "assert np.array_equal(flair_modality.load(), flair_modality__.load())\n",
    "print(flair_modality.load().shape)\n",
    "print(flair_modality.load().affine)\n",
    "gt_modality = NiftiFileModality(\"gt\", file_path=flair_path)\n",
    "metadata_modality = ArrayModality(\"age\", array=45)  # just an example how we could make a metadata Sample, e.g. of age\n",
    "print(metadata_modality.load().shape)\n",
    "print(metadata_modality.load().affine)"
   ],
   "metadata": {
    "collapsed": false,
    "pycharm": {
     "name": "#%%\n"
    }
   }
  },
  {
   "cell_type": "markdown",
   "source": [
    "## 4.2 The Record, Case and Dataset objects\n",
    "To create pairs of data, we should group multiple Modality objects under a so-called Record.\n",
    "On its turn, multiple Record objects need to be grouped under a Case object.\n",
    "The idea between the existence of both a Case and a Record is that there might be multiple *records* (e.g. observations) for a certain *case* (e.g. a subject).\n",
    "Imagine that you have multiple experts annotating the same subject or that you have multiple parts of the body scanned separately.\n",
    "Finally, cases should be grouped under a Dataset object.\n",
    "Let's construct a tumor dataset based on data of 10 subjects from BRATS 2018 below."
   ],
   "metadata": {
    "collapsed": false,
    "pycharm": {
     "name": "#%% md\n"
    }
   }
  },
  {
   "cell_type": "code",
   "execution_count": 27,
   "outputs": [
    {
     "name": "stdout",
     "output_type": "stream",
     "text": [
      "train_dataset contains 8 cases:\n",
      "\tsubject_0 contains 1 records:\n",
      "\t\tobservation_0 contains 3 modalities:\n",
      "\t\t\tage\n",
      "\t\t\tflair\n",
      "\t\t\tgt\n",
      "\tsubject_1 contains 1 records:\n",
      "\t\tobservation_0 contains 3 modalities:\n",
      "\t\t\tage\n",
      "\t\t\tflair\n",
      "\t\t\tgt\n",
      "\tsubject_2 contains 1 records:\n",
      "\t\tobservation_0 contains 3 modalities:\n",
      "\t\t\tage\n",
      "\t\t\tflair\n",
      "\t\t\tgt\n",
      "\tsubject_3 contains 1 records:\n",
      "\t\tobservation_0 contains 3 modalities:\n",
      "\t\t\tage\n",
      "\t\t\tflair\n",
      "\t\t\tgt\n",
      "\tsubject_4 contains 1 records:\n",
      "\t\tobservation_0 contains 3 modalities:\n",
      "\t\t\tage\n",
      "\t\t\tflair\n",
      "\t\t\tgt\n",
      "\tsubject_5 contains 1 records:\n",
      "\t\tobservation_0 contains 3 modalities:\n",
      "\t\t\tage\n",
      "\t\t\tflair\n",
      "\t\t\tgt\n",
      "\tsubject_6 contains 1 records:\n",
      "\t\tobservation_0 contains 3 modalities:\n",
      "\t\t\tage\n",
      "\t\t\tflair\n",
      "\t\t\tgt\n",
      "\tsubject_7 contains 1 records:\n",
      "\t\tobservation_0 contains 3 modalities:\n",
      "\t\t\tage\n",
      "\t\t\tflair\n",
      "\t\t\tgt\n"
     ]
    }
   ],
   "source": [
    "from deepvoxnet2.components.mirc import Dataset, Case, Record\n",
    "\n",
    "def get_tumor_dataset(dataset_id, case_indices):\n",
    "    tumor_dataset = Dataset(dataset_id)\n",
    "    for i in case_indices:\n",
    "        subject = Case(f\"subject_{i}\")\n",
    "        for j in range(1):  # we only have a single observation for each subject here\n",
    "            observation = Record(f\"observation_{j}\")\n",
    "            flair_modality = NiftiFileModality(\"flair\", file_path=os.path.join(DEMO_DIR, \"brats_2018\", f\"case_{i}\", \"FLAIR.nii.gz\"))\n",
    "            gt_modality = NiftiFileModality(\"gt\", file_path=os.path.join(DEMO_DIR, \"brats_2018\", f\"case_{i}\", \"GT_W.nii.gz\"))\n",
    "            age_modality = ArrayModality(\"age\", np.random.randint(20, 80))\n",
    "            observation.add(flair_modality)\n",
    "            observation.add(gt_modality)\n",
    "            observation.add(age_modality)\n",
    "            subject.add(observation)\n",
    "\n",
    "        tumor_dataset.add(subject)\n",
    "\n",
    "    return tumor_dataset\n",
    "\n",
    "tumor_dataset = get_tumor_dataset(\"train_dataset\", range(8))\n",
    "print(f\"{tumor_dataset.dataset_id} contains {len(tumor_dataset)} cases:\")\n",
    "for case_id in tumor_dataset:\n",
    "    print(f\"\\t{case_id} contains {len(tumor_dataset[case_id])} records:\")\n",
    "    for record_id in tumor_dataset[case_id]:\n",
    "        print(f\"\\t\\t{record_id} contains {len(tumor_dataset[case_id][record_id])} modalities:\")\n",
    "        for modality_id in tumor_dataset[case_id][record_id]:\n",
    "            print(f\"\\t\\t\\t{modality_id}\")"
   ],
   "metadata": {
    "collapsed": false,
    "pycharm": {
     "name": "#%%\n"
    }
   }
  },
  {
   "cell_type": "markdown",
   "source": [
    "## 4.3 The Mirc object\n",
    "When we have build our dataset, we can group it, optionally with other datasets, into a Mirc object.\n",
    "The Mirc object is a powerful tool to get a complete overview of all your data.\n",
    "Calling ```get_dataset_ids()```, ```get_case_ids()```, ```get_record_ids()``` or ```get_modality_ids()``` you can get a quick overview on what data is available in your Mirc object.\n",
    "You can also calculate the mean and standard deviation for a particular modality by using the ```mean_and_std``` method.\n",
    "The ```inspect``` method is particularly useful to check multiple modalities for spatial consistency and get an overview of the distribution of voxel sizes and other spatial characteristics of your data.\n",
    "Using the ```get_df``` method it is possible to acquire a Pandas DataFrame such that you could do other types of analyses or inspections.\n",
    "This is particularly useful if you want to inspect distributions of non-imaging data, such as age."
   ],
   "metadata": {
    "collapsed": false,
    "pycharm": {
     "name": "#%% md\n"
    }
   }
  },
  {
   "cell_type": "code",
   "execution_count": 28,
   "outputs": [
    {
     "name": "stdout",
     "output_type": "stream",
     "text": [
      "['train_dataset', 'val_dataset']\n",
      "['subject_0', 'subject_1', 'subject_2', 'subject_3', 'subject_4', 'subject_5', 'subject_6', 'subject_7', 'subject_8', 'subject_9']\n",
      "['observation_0']\n",
      "['age', 'flair', 'gt']\n",
      "(26.520628640232975, 66.88867846141157)\n",
      "Total number of different dataset ids: 2\n",
      "Total number of different case ids: 10\n",
      "Total number of different record ids: 1\n",
      "Total number of different modality ids: 2\n"
     ]
    },
    {
     "data": {
      "text/plain": "<Figure size 648x648 with 9 Axes>",
      "image/png": "[encoded data removed]"
     },
     "metadata": {
      "needs_background": "light"
     },
     "output_type": "display_data"
    },
    {
     "name": "stdout",
     "output_type": "stream",
     "text": [
      "Mean and standard deviation of 'flair': (26.520628640232975, 66.88867846141157)\n",
      "Mean and standard deviation of 'gt': (0.013233926971326165, 0.11427506354513185)\n"
     ]
    },
    {
     "data": {
      "text/plain": "<Figure size 432x216 with 2 Axes>",
      "image/png": "[encoded data removed]"
     },
     "metadata": {
      "needs_background": "light"
     },
     "output_type": "display_data"
    },
    {
     "name": "stdout",
     "output_type": "stream",
     "text": [
      "None\n",
      "modality_id                                      age\n",
      "dataset_id    case_id   record_id                   \n",
      "train_dataset subject_0 observation_0  [[[[[57.]]]]]\n",
      "              subject_1 observation_0  [[[[[38.]]]]]\n",
      "              subject_2 observation_0  [[[[[76.]]]]]\n",
      "              subject_3 observation_0  [[[[[61.]]]]]\n",
      "              subject_4 observation_0  [[[[[23.]]]]]\n",
      "              subject_5 observation_0  [[[[[61.]]]]]\n",
      "              subject_6 observation_0  [[[[[78.]]]]]\n",
      "              subject_7 observation_0  [[[[[42.]]]]]\n",
      "val_dataset   subject_8 observation_0  [[[[[41.]]]]]\n",
      "              subject_9 observation_0  [[[[[43.]]]]]\n"
     ]
    }
   ],
   "source": [
    "from deepvoxnet2.components.mirc import Mirc\n",
    "\n",
    "train_tumor_dataset = tumor_dataset\n",
    "val_tumor_dataset = get_tumor_dataset(\"val_dataset\", range(8, 10))\n",
    "my_mirc = Mirc(train_tumor_dataset, val_tumor_dataset)\n",
    "print(my_mirc.get_dataset_ids())\n",
    "print(my_mirc.get_case_ids())\n",
    "print(my_mirc.get_record_ids())\n",
    "print(my_mirc.get_modality_ids())\n",
    "print(my_mirc.mean_and_std(\"flair\", n=2))  # computing the mean and standard deviation using all your images might be too expensive, therefore limit the number of images used setting the n option\n",
    "print(my_mirc.inspect([\"flair\", \"gt\"], ns=[2, 2]))\n",
    "print(my_mirc.get_df(\"age\"))"
   ],
   "metadata": {
    "collapsed": false,
    "pycharm": {
     "name": "#%%\n"
    }
   }
  },
  {
   "cell_type": "markdown",
   "source": [
    "You might have noticed that we already gave the previously created ```tumor_dataset``` the ID *train_dataset*.\n",
    "In a similar manner, we have now also created a *val_dataset*.\n",
    "In the aforementioned usage example of the Mirc object we have grouped both our training and our validation set under one Mirc object.\n",
    "Keep in mind that this was just for illustration purposes.\n",
    "It is always a good idea to keep the two separate."
   ],
   "metadata": {
    "collapsed": false,
    "pycharm": {
     "name": "#%% md\n"
    }
   }
  },
  {
   "cell_type": "markdown",
   "source": [
    "# 5. Data transformation\n",
    "Once that we have defined the sets $\\mathcal{S'}_\\mathrm{train}$ and $\\mathcal{S'}_\\mathrm{val}$, e.g. by means of Mirc objects, we need to start thinking about the sampling function $s''$ that produces the learning or inference sets $\\mathcal{S}_\\mathrm{train}$ and $\\mathcal{S}_\\mathrm{val}$, respectively.\n",
    "It turns out that we can often view $s''$ as first sampling a data pair, e.g. a Record from a Mirc object, and then applying some form of data transformation, e.g. cropping or more complex data augmentation.\n",
    "\n",
    "At this point it should be clear that a Record is just another representation of a list of Sample objects, with the additional benefit that not all data needed to be loaded into memory and that it is more structured.\n",
    "As a result, the sets $\\mathcal{S}$ and $\\mathcal{S'}$ are lists of Records, and thus lists of lists of Sample objects.\n",
    "Indeed, this is exactly how the sets $\\mathcal{S}$ and $\\mathcal{S'}$ were defined in the previous chapter.\n",
    "\n",
    "In DVN2, the first part is implemented by means of the Sampler object and will be discussed in the next section.\n",
    "For now assume that we have selected a certain record and that we want to generate one or more learning pairs."
   ],
   "metadata": {
    "collapsed": false,
    "pycharm": {
     "name": "#%% md\n"
    }
   }
  },
  {
   "cell_type": "markdown",
   "source": [
    "# 6. Data sampling\n",
    "\n",
    "## 6.1 The Sampler object\n",
    "We chose to define a Sampler as a rather simple object, more specifically a list of *identifiers*, but with some additional functionalities.\n",
    "An Identifier object can be any object and will be discussed in the next subsection.\n",
    "For now, you can view an identifier as a record.\n",
    "\n",
    "## 6.2 The identifier object"
   ],
   "metadata": {
    "collapsed": false,
    "pycharm": {
     "name": "#%% md\n"
    }
   }
  }
 ],
 "metadata": {
  "kernelspec": {
   "display_name": "Python 3",
   "language": "python",
   "name": "python3"
  },
  "language_info": {
   "codemirror_mode": {
    "name": "ipython",
    "version": 2
   },
   "file_extension": ".py",
   "mimetype": "text/x-python",
   "name": "python",
   "nbconvert_exporter": "python",
   "pygments_lexer": "ipython2",
   "version": "2.7.6"
  }
 },
 "nbformat": 4,
 "nbformat_minor": 0
}