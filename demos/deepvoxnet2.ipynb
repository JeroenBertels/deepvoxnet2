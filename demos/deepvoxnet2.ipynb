{
 "cells": [
  {
   "cell_type": "markdown",
   "metadata": {
    "pycharm": {
     "name": "#%% md\n"
    }
   },
   "source": [
    "# DeepVoxNet 2: Yet another CNN framework\n",
    "We noticed that to do CNN-based image analysis, not only the CNN but also the sampling function is of paramount importance, and that both functions operate in the same space, having an image axis and a feature axis.\n",
    "Remarkably, we found that no frameworks existed that unified the two and kept track of the spatiality of the data.\n",
    "In fact, based on our own practical experience, we found the latter to often result in complex coding and pipelines that are difficult to exchange.\n",
    "We therefore introduce our own framework: DeepVoxNet2 (DVN2).\n",
    "This tutorial uses data of the Multimodal Brain Tumor Image Segmentation Benchmark (BRATS) of 2018 to show an example of a 3D segmentation pipeline."
   ]
  },
  {
   "cell_type": "markdown",
   "metadata": {
    "pycharm": {
     "name": "#%% md\n"
    }
   },
   "source": [
    "# 1. Introduction\n",
    "Yes, we are introducing yet another CNN framework.\n",
    "However, DVN2 is actually much more than that.\n",
    "It also includes many other essential tools not only to train and test a CNN, but also to process medical images, organize your experiments and analyze the results.\n",
    "\n",
    "## 1.1 Installation\n",
    "The DVN2 repository can be installed as a Python library such that all dependencies are also configured correctly.\n",
    "In fact, even when you do not want to use the functionalities of DVN2 explicitly, installing it will provide users with a complete and working Python environment for doing medical image analysis in general.\n",
    "As of now, it is best to add DVN2 to an empty Python 3.9 environment, e.g. using the Anaconda package manager to first create and activate such an environment via:\n",
    "```\n",
    "conda create --name dvn2env python=3.9\n",
    "conda activate dvn2env\n",
    "```\n",
    "Once you have activated your Python 3.9 environment correctly, there are two options to install DVN2 together with al its dependencies, and as a result make your environment medical image analysis proof:\n",
    "\n",
    "- First cloning or downloading the repository and then via:\n",
    "```\n",
    "pip install -e /path/to/deepvoxnet2\n",
    "```\n",
    "- Installing it directly from Github via:\n",
    "```\n",
    "pip install git+https://github.com/JeroenBertels/deepvoxnet2\n",
    "```\n",
    "\n",
    "The first method is particularly useful if you want to develop and contribute to the DVN2 library yourself.\n",
    "To upgrade your installation using the first method, simply download the latest version and repeat the process or ```git pull``` the new version.\n",
    "When using the second method simply repeat the command but add the ```--upgrade``` flag.\n",
    "You can also install or revert to a specific version of DVN2. In that case, append ```@version_tag``` (e.g. *\\@deepvoxnet-2.12.1*) to the paths in the above commands.\n",
    "Some functions require the SimpleITK and SimpleElastix software to be installed. To install these packages, please append the paths in the above commands with ```[sitk]```.\n",
    "These are not installed by default because they are only available for a limited number of operating systems.\n",
    "\n",
    "## 1.2 Schematic overview\n",
    "The main driver behind the creation of DeepVoxNet2 (DVN2) was that we wanted to make something that gives insights, rather than something that is super efficient or fully self-configuring.\n",
    "To the best of our knowledge, we find that most libraries are oriented towards the latter and there are no libraries that follow the supervised learning paradigm more closely.\n",
    "In DVN2, the focus lies on transforming one set of *data pairs* into another.\n",
    "We make no difference between the CNN and sampling function, seeing them both as mapping functions that transform one distribution into another, albeit implicitly, ánd keep track of the spatiality of the data.\n",
    "By doing so, the entire pipeline can be constructed in an end-to-end fashion:\n",
    "\n",
    "$$\\mathcal{\\hat{S}'} \\xleftarrow[]{s''^{-1}} \\mathcal{\\hat{S}''} \\xleftarrow[]{m} \\mathcal{S''} \\xleftarrow[]{s''} \\mathcal{S'} \\xleftarrow[]{s'} (\\mathcal{X},\\mathcal{Y}).$$\n",
    "\n",
    "With $(\\mathcal{X},\\mathcal{Y})$ we denote the joint probability distribution of all the *elements* that make up a data pair and is often present only implicitly as the empirical distribution arising from the observed set of data pairs $\\mathcal{S'}$.\n",
    "In a simple and straightforward supervised learning setting, a data pair may consist of the input variable $X$ and output variable $Y$.\n",
    "However, in DVN2 we generalized this concept and make no difference between $X$ and $Y$.\n",
    "In fact, they can be represented using the same abstraction, i.e. the Sample object (Sect. 2).\n",
    "Furthermore, a data pair does not necessarily represent a pair, but can represent any number of Sample objects.\n",
    "To organize a data pair and the set of data pairs $\\mathcal{S'}$ in a structured manner, in DVN2 we can use the hierarchical structure of the Mirc, Dataset, Case, Record and Modality objects (Sect. 3).\n",
    "\n",
    "In DVN2, we represent any transformed set $\\mathcal{S''}$ implicitly, by implementing the sampling function $s''$ using the successive application of (i) a Sampler object that can sample a data pair from $\\mathcal{S'}$ in the form of an Identifier object (Sect. 4), and (ii) a network of Transformer objects (as a Creator object) that can transform the data pair (Sect. 5).\n",
    "A crucial design aspect is that the Transformer keeps track of the spatiality of a Sample object, thus keeping track of the voxel-to-world transformation matrix.\n",
    "The combination of this together with the fact that a Transformer is a generator, allows the construction of complex pipelines end-to-end.\n",
    "This way we can view a CNN also as a Transformer that converts a data pair into another.\n",
    "\n",
    "By viewing the CNN as just another Transformer, we were able to create the holistic CNN framework that DVN2 is (Sect. 6).\n",
    "If for example $\\mathcal{S'}$ operates in the orginal image space and the set $\\mathcal{S''}$ uses image crops, you can extend the Transformer network straightforwardly.\n",
    "For example, first resulting in a set $\\mathcal{\\hat{S}''}$ after application of the CNN, e.g. as the sampling function $m$, and then reversing  $s''$ such that  $\\mathcal{\\hat{S}''}$ operates again in the original image space.\n",
    "As a result, we can build one large Transformer network and simply select which outputs are used for training the CNN.\n",
    "\n",
    "Furthermore, DVN2 contains functions to construct U-Net and DeepMedic CNN architectures and gives insights about crucial design aspects such as the receptive field and the possible output sizes.\n",
    "It also contains a wide variety of metrics and losses that consistently work and give results in 5D.\n",
    "Other functionalities are in light of analyses (e.g. statistical testing), conversions (e.g. image I/O such as dicom reading), transformations (e.g. registration, resampling) and plotting (Sect. 7)."
   ]
  },
  {
   "cell_type": "markdown",
   "metadata": {
    "pycharm": {
     "name": "#%% md\n"
    }
   },
   "source": [
    "# 2. The Sample object\n",
    "One of the core objects of DVN2 is the Sample object.\n",
    "The Sample represents an array with a batch axis $\\mathcal{B}$, a spatial axis $\\mathcal{I}$ and a feature axis $\\mathcal{F}$.\n",
    "The spatial axis itself is 3D, hence the Sample object is a 5D array of size B x $\\mathrm{I}_0$ x $\\mathrm{I}_1$ x $\\mathrm{I}_2$ x F.\n",
    "Different from the standard Numpy array, the Sample object also has an affine attribute.\n",
    "This affine attribute stores the voxel-to-world transformation matrix for each batch element.\n",
    "As a result, the affine is a 3D array of size B x 4 x 4, thus assuming the same voxel-to-world transformation for each feature $f$ given a batch element $b$."
   ]
  },
  {
   "cell_type": "code",
   "execution_count": 1,
   "metadata": {
    "pycharm": {
     "name": "#%%\n"
    }
   },
   "outputs": [
    {
     "name": "stdout",
     "output_type": "stream",
     "text": [
      "(1, 2, 100, 100, 3)\n",
      "[[[1. 0. 0. 0.]\n",
      "  [0. 1. 0. 0.]\n",
      "  [0. 0. 1. 0.]\n",
      "  [0. 0. 0. 1.]]]\n"
     ]
    }
   ],
   "source": [
    "import numpy as np\n",
    "from deepvoxnet2.components.sample import Sample\n",
    "\n",
    "array_of_ones = np.ones((2, 100, 100, 3))\n",
    "sample_of_ones = Sample(array_of_ones, affine=None)\n",
    "print(sample_of_ones.shape)\n",
    "print(sample_of_ones.affine)"
   ]
  },
  {
   "cell_type": "markdown",
   "metadata": {
    "pycharm": {
     "name": "#%% md\n"
    }
   },
   "source": [
    "It should be clear that upon creation the Sample object makes sure the underlying array is 5D and that an affine is specified.\n",
    "Therefore, be careful and be specific.\n",
    "It is best practice to always fully provide the 5D array and affine yourself to avoid unexpected behavior.\n",
    "In that sense, when you are indeed working with only two spatial dimensions, it would be straightforward to set the fourth dimension of the Sample object as the singleton dimension."
   ]
  },
  {
   "cell_type": "code",
   "execution_count": 2,
   "metadata": {
    "pycharm": {
     "name": "#%%\n"
    }
   },
   "outputs": [
    {
     "name": "stdout",
     "output_type": "stream",
     "text": [
      "(2, 100, 100, 1, 3)\n",
      "[[[1. 0. 0. 0.]\n",
      "  [0. 1. 0. 0.]\n",
      "  [0. 0. 1. 0.]\n",
      "  [0. 0. 0. 1.]]\n",
      "\n",
      " [[1. 0. 0. 0.]\n",
      "  [0. 1. 0. 0.]\n",
      "  [0. 0. 1. 0.]\n",
      "  [0. 0. 0. 1.]]]\n"
     ]
    }
   ],
   "source": [
    "default_affine = np.eye(4)\n",
    "sample_of_ones = Sample(array_of_ones[:, :, :, None, :], affine=np.stack([default_affine] * 2, axis=0))\n",
    "print(sample_of_ones.shape)\n",
    "print(sample_of_ones.affine)"
   ]
  },
  {
   "cell_type": "markdown",
   "metadata": {
    "pycharm": {
     "name": "#%% md\n"
    }
   },
   "source": [
    "It is possible that you have a medical image, for example in Nifti format, and that you want to convert this into a Sample object.\n",
    "In this case, you can load the image and use the internal data and affine to create the Sample.\n",
    "Below we do this for the FLAIR image and the ground truth (GT), here the whole tumor segmentation of the first subject.\n",
    "It should not be surprising that both the FLAIR and GT are equal in size and have the same voxel-to-word transformation."
   ]
  },
  {
   "cell_type": "code",
   "execution_count": 3,
   "metadata": {
    "pycharm": {
     "name": "#%%\n"
    }
   },
   "outputs": [
    {
     "name": "stdout",
     "output_type": "stream",
     "text": [
      "(240, 240, 155)\n",
      "[[ -1.  -0.  -0.   0.]\n",
      " [ -0.  -1.  -0. 239.]\n",
      " [  0.   0.   1.   0.]\n",
      " [  0.   0.   0.   1.]]\n",
      "(1, 240, 240, 155, 1)\n",
      "[[[ -1.  -0.  -0.   0.]\n",
      "  [ -0.  -1.  -0. 239.]\n",
      "  [  0.   0.   1.   0.]\n",
      "  [  0.   0.   0.   1.]]]\n",
      "(1, 240, 240, 155, 1)\n",
      "[[[ -1.  -0.  -0.   0.]\n",
      "  [ -0.  -1.  -0. 239.]\n",
      "  [  0.   0.   1.   0.]\n",
      "  [  0.   0.   0.   1.]]]\n"
     ]
    }
   ],
   "source": [
    "import os\n",
    "import nibabel as nib\n",
    "from deepvoxnet2 import DEMO_DIR  # modify the DEMO_DIR accordingly\n",
    "\n",
    "flair_path = os.path.join(DEMO_DIR, \"brats_2018\", \"case_0\", \"FLAIR.nii.gz\")\n",
    "flair_image = nib.load(flair_path)\n",
    "print(flair_image.shape)\n",
    "print(flair_image.affine)\n",
    "flair_sample = Sample(flair_image.get_fdata()[None, ..., None], affine=flair_image.affine[None, ...])\n",
    "print(flair_sample.shape)\n",
    "print(flair_sample.affine)\n",
    "gt_path = os.path.join(DEMO_DIR, \"brats_2018\", \"case_0\", \"GT_W.nii.gz\")\n",
    "gt_image = nib.load(gt_path)\n",
    "gt_sample = Sample(gt_image.get_fdata()[None, ..., None], affine=gt_image.affine[None, ...])\n",
    "print(gt_sample.shape)\n",
    "print(gt_sample.affine)"
   ]
  },
  {
   "cell_type": "markdown",
   "metadata": {
    "pycharm": {
     "name": "#%% md\n"
    }
   },
   "source": [
    "It should be clear that a Sample object is not so different from a Numpy array.\n",
    "If you do not care about the spatiality of the data, you can always use the default affine and ignore it.\n",
    "Let us already define a visualization function that will become handy later on in this tutorial.\n",
    "For a list of Sample objects, it will simply depict for the first batch element and first feature the middle slice of each Sample in the list."
   ]
  },
  {
   "cell_type": "code",
   "execution_count": 4,
   "metadata": {
    "pycharm": {
     "name": "#%%\n"
    }
   },
   "outputs": [
    {
     "data": {
      "text/plain": "<Figure size 432x216 with 2 Axes>",
      "image/png": "[encoded data removed]"
     },
     "metadata": {
      "needs_background": "light"
     },
     "output_type": "display_data"
    }
   ],
   "source": [
    "from matplotlib import pyplot as plt\n",
    "\n",
    "def visualize_list_of_samples(list_of_samples):\n",
    "    n_cols = len(list_of_samples)\n",
    "    fig, axs = plt.subplots(1, n_cols, figsize=(n_cols * 3 * list_of_samples[0].shape[1] / 240, 3 * list_of_samples[0].shape[1] / 240))\n",
    "    axs = [axs] if n_cols == 1 else axs\n",
    "    for i, sample in enumerate(list_of_samples):\n",
    "        axs[i].imshow(sample[0, :, :, sample.shape[3] // 2, 0].T, cmap=\"gray\"), axs[i].axis(\"off\")\n",
    "\n",
    "    plt.subplots_adjust(wspace=0, hspace=0)\n",
    "    plt.show()\n",
    "\n",
    "visualize_list_of_samples((flair_sample, gt_sample))"
   ]
  },
  {
   "cell_type": "markdown",
   "metadata": {
    "pycharm": {
     "name": "#%% md\n"
    }
   },
   "source": [
    "# 3. Organizing the data\n",
    "Now that we have defined the Sample object, which can represent any $x$ or $y$, we could potentially start constructing multiple sets of data pairs, e.g. $S'$, $S''$, etc.\n",
    "In fact, we could do so by simply having a list of lists of Sample objects.\n",
    "If we only had one data pair, this would look as follows:"
   ]
  },
  {
   "cell_type": "code",
   "execution_count": 5,
   "metadata": {
    "pycharm": {
     "name": "#%%\n"
    }
   },
   "outputs": [],
   "source": [
    "simple_set = [(flair_sample, gt_sample)]"
   ]
  },
  {
   "cell_type": "markdown",
   "metadata": {
    "pycharm": {
     "name": "#%% md\n"
    }
   },
   "source": [
    "However, such a representation is nor valid, nor feasible due to various reasons.\n",
    "Remember that the set $\\mathcal{S}'$ represents pairs of native data, e.g. samples drawn from the distribution ($\\mathcal{X},\\mathcal{Y}$).\n",
    "For large datasets or large data it would become impossible to load everything into memory at once.\n",
    "Furthermore, the subsequently derived sets $\\mathcal{S''}$, etc, are in fact (practically) infinite, e.g. data augmentation, and thus impossible to represent with a simple list.\n",
    "We therefore chose to only organize the native data, i.e. the set $\\mathcal{S}'$, in a more structured manner.\n",
    "The other sets are represented implicitly by defining the sampling functions $s''$, etc (see Sect. 4 and 5).\n",
    "\n",
    "To organize our data we have created a hierarchical structure of dictionaries: Mirc > Dataset > Case > Record > Modality.\n",
    "When creating instantiations of a Dataset, Case, Record or Modality, we will need to specify an ID.\n",
    "As a result, each dictionary consists of key-value pairs, with the keys corresponding to the lower level object's IDs.\n",
    "The purpose of the Mirc object is to group multiple Dataset objects and provide the user with higher-level functionalities of which we will explain a few at the end of this section."
   ]
  },
  {
   "cell_type": "markdown",
   "metadata": {
    "pycharm": {
     "name": "#%% md\n"
    }
   },
   "source": [
    "## 3.1 The Modality object\n",
    "Starting from the lowest level, a Modality is simply something that returns a Sample object when ```load()``` is called.\n",
    "This is useful because when having a large dataset, it is not possible to load every image at the same time, and thus the ```load``` method provides a way to only create a Sample object from it when needed.\n",
    "Note that the Modality is an abstract class, and to really make use of the aforementioned feature, we should e.g. use the NiftiFileModality.\n",
    "When the dataset is small, or for e.g. *metadata* such as age, it could be more efficient or appropriate to load everything to disk and use the NiftiModality or ArrayModality instead.\n",
    "Other Modality subtypes that are readily available are ImageFileModality and ImageFileMultiModality.\n",
    "These use the Image library to load 2D images from disk (e.g. PNG, JPG) and convert them to 5D correctly (setting the fourth dimension as the singleton dimension as mentioned before)."
   ]
  },
  {
   "cell_type": "code",
   "execution_count": 6,
   "metadata": {
    "pycharm": {
     "name": "#%%\n"
    }
   },
   "outputs": [
    {
     "name": "stdout",
     "output_type": "stream",
     "text": [
      "(1, 240, 240, 155, 1)\n",
      "[[[ -1.  -0.  -0.   0.]\n",
      "  [ -0.  -1.  -0. 239.]\n",
      "  [  0.   0.   1.   0.]\n",
      "  [  0.   0.   0.   1.]]]\n",
      "(1, 1, 1, 1, 1)\n",
      "[[[1. 0. 0. 0.]\n",
      "  [0. 1. 0. 0.]\n",
      "  [0. 0. 1. 0.]\n",
      "  [0. 0. 0. 1.]]]\n"
     ]
    }
   ],
   "source": [
    "from deepvoxnet2.components.mirc import NiftiFileModality, NiftiModality, ArrayModality\n",
    "\n",
    "flair_modality = NiftiFileModality(\"flair\", file_path=flair_path)\n",
    "flair_modality_ = NiftiModality(\"flair\", nifty=flair_image)\n",
    "flair_modality__ = ArrayModality(\"flair\", array=flair_image.get_fdata(), affine=flair_image.affine)\n",
    "assert np.array_equal(flair_modality.load(), flair_modality_.load())\n",
    "assert np.array_equal(flair_modality.load(), flair_modality__.load())\n",
    "print(flair_modality.load().shape)\n",
    "print(flair_modality.load().affine)\n",
    "gt_modality = NiftiFileModality(\"gt\", file_path=flair_path)\n",
    "metadata_modality = ArrayModality(\"age\", array=45)  # just an example how we could make a metadata Sample, e.g. of age\n",
    "print(metadata_modality.load().shape)\n",
    "print(metadata_modality.load().affine)"
   ]
  },
  {
   "cell_type": "markdown",
   "metadata": {
    "pycharm": {
     "name": "#%% md\n"
    }
   },
   "source": [
    "Notice that we have created a \"flair\" Modality in three ways, but that the final Sample objects are in fact the same.\n",
    "As such, always think of what is the most efficient way to represent a certain data type and Sample object in your specific situation."
   ]
  },
  {
   "cell_type": "markdown",
   "metadata": {
    "pycharm": {
     "name": "#%% md\n"
    }
   },
   "source": [
    "## 3.2 The Record, Case and Dataset objects\n",
    "To create \"pairs\" of data, we should group multiple Modality objects under a so-called Record.\n",
    "On its turn, multiple Record objects need to be grouped under a Case object.\n",
    "The idea between the existence of both a Case and a Record is that there might be multiple *records* (e.g. observations) for a certain *case* (e.g. a subject).\n",
    "Imagine that you have multiple experts annotating the same subject or that you have multiple parts of the body scanned separately.\n",
    "Finally, cases should be grouped under a Dataset object.\n",
    "Let's construct two tumor datasets based on data from BRATS 2018 below."
   ]
  },
  {
   "cell_type": "code",
   "execution_count": 7,
   "metadata": {
    "pycharm": {
     "name": "#%%\n"
    }
   },
   "outputs": [
    {
     "name": "stdout",
     "output_type": "stream",
     "text": [
      "train_dataset contains 8 cases:\n",
      "\tsubject_0 contains 1 records:\n",
      "\t\tobservation_0 contains 3 modalities:\n",
      "\t\t\tage\n",
      "\t\t\tflair\n",
      "\t\t\tgt\n",
      "\tsubject_1 contains 1 records:\n",
      "\t\tobservation_0 contains 3 modalities:\n",
      "\t\t\tage\n",
      "\t\t\tflair\n",
      "\t\t\tgt\n",
      "\tsubject_2 contains 1 records:\n",
      "\t\tobservation_0 contains 3 modalities:\n",
      "\t\t\tage\n",
      "\t\t\tflair\n",
      "\t\t\tgt\n",
      "\tsubject_3 contains 1 records:\n",
      "\t\tobservation_0 contains 3 modalities:\n",
      "\t\t\tage\n",
      "\t\t\tflair\n",
      "\t\t\tgt\n",
      "\tsubject_4 contains 1 records:\n",
      "\t\tobservation_0 contains 3 modalities:\n",
      "\t\t\tage\n",
      "\t\t\tflair\n",
      "\t\t\tgt\n",
      "\tsubject_5 contains 1 records:\n",
      "\t\tobservation_0 contains 3 modalities:\n",
      "\t\t\tage\n",
      "\t\t\tflair\n",
      "\t\t\tgt\n",
      "\tsubject_6 contains 1 records:\n",
      "\t\tobservation_0 contains 3 modalities:\n",
      "\t\t\tage\n",
      "\t\t\tflair\n",
      "\t\t\tgt\n",
      "\tsubject_7 contains 1 records:\n",
      "\t\tobservation_0 contains 3 modalities:\n",
      "\t\t\tage\n",
      "\t\t\tflair\n",
      "\t\t\tgt\n",
      "val_dataset contains 2 cases:\n",
      "\tsubject_8 contains 1 records:\n",
      "\t\tobservation_0 contains 3 modalities:\n",
      "\t\t\tage\n",
      "\t\t\tflair\n",
      "\t\t\tgt\n",
      "\tsubject_9 contains 1 records:\n",
      "\t\tobservation_0 contains 3 modalities:\n",
      "\t\t\tage\n",
      "\t\t\tflair\n",
      "\t\t\tgt\n"
     ]
    }
   ],
   "source": [
    "from deepvoxnet2.components.mirc import Dataset, Case, Record\n",
    "\n",
    "def get_tumor_dataset(dataset_id, case_indices):\n",
    "    tumor_dataset = Dataset(dataset_id)\n",
    "    for i in case_indices:\n",
    "        subject = Case(f\"subject_{i}\")\n",
    "        for j in range(1):  # we only have a single observation for each subject here\n",
    "            observation = Record(f\"observation_{j}\")\n",
    "            flair_modality = NiftiFileModality(\"flair\", file_path=os.path.join(DEMO_DIR, \"brats_2018\", f\"case_{i}\", \"FLAIR.nii.gz\"))\n",
    "            gt_modality = NiftiFileModality(\"gt\", file_path=os.path.join(DEMO_DIR, \"brats_2018\", f\"case_{i}\", \"GT_W.nii.gz\"))\n",
    "            age_modality = ArrayModality(\"age\", np.random.randint(20, 80))\n",
    "            observation.add(flair_modality)\n",
    "            observation.add(gt_modality)\n",
    "            observation.add(age_modality)\n",
    "            subject.add(observation)\n",
    "\n",
    "        tumor_dataset.add(subject)\n",
    "\n",
    "    return tumor_dataset\n",
    "\n",
    "train_tumor_dataset = get_tumor_dataset(\"train_dataset\", range(0, 8))\n",
    "val_tumor_dataset = get_tumor_dataset(\"val_dataset\", range(8, 10))\n",
    "for tumor_dataset in [train_tumor_dataset, val_tumor_dataset]:\n",
    "    print(f\"{tumor_dataset.dataset_id} contains {len(tumor_dataset)} cases:\")\n",
    "    for case_id in tumor_dataset:\n",
    "        print(f\"\\t{case_id} contains {len(tumor_dataset[case_id])} records:\")\n",
    "        for record_id in tumor_dataset[case_id]:\n",
    "            print(f\"\\t\\t{record_id} contains {len(tumor_dataset[case_id][record_id])} modalities:\")\n",
    "            for modality_id in tumor_dataset[case_id][record_id]:\n",
    "                print(f\"\\t\\t\\t{modality_id}\")"
   ]
  },
  {
   "cell_type": "markdown",
   "metadata": {
    "pycharm": {
     "name": "#%% md\n"
    }
   },
   "source": [
    "## 3.3 The Mirc object\n",
    "When we have build our dataset, we can group it, optionally with other datasets, into a Mirc object.\n",
    "The Mirc object is a powerful tool to get a complete overview of all your data.\n",
    "Calling ```get_dataset_ids()```, ```get_case_ids()```, ```get_record_ids()``` or ```get_modality_ids()``` you can get a quick overview on what data is available in your Mirc object.\n",
    "You can also calculate the mean and standard deviation for a particular modality by using the ```mean_and_std``` method.\n",
    "The ```inspect``` method is particularly useful to check multiple modalities for spatial consistency within a certain Record and get an overview of the distribution of voxel sizes and other spatial characteristics of your data.\n",
    "Using the ```get_df``` method it is possible to acquire a Pandas DataFrame such that you could do other types of analyses or inspections.\n",
    "This is particularly useful if you want to inspect distributions of non-imaging data, such as age."
   ]
  },
  {
   "cell_type": "code",
   "execution_count": 8,
   "metadata": {
    "pycharm": {
     "name": "#%%\n"
    }
   },
   "outputs": [
    {
     "name": "stdout",
     "output_type": "stream",
     "text": [
      "['train_dataset', 'val_dataset']\n",
      "['subject_0', 'subject_1', 'subject_2', 'subject_3', 'subject_4', 'subject_5', 'subject_6', 'subject_7', 'subject_8', 'subject_9']\n",
      "['observation_0']\n",
      "['age', 'flair', 'gt']\n",
      "(26.520628640232975, 66.88867846141157)\n",
      "Total number of different dataset ids: 2\n",
      "Total number of different case ids: 10\n",
      "Total number of different record ids: 1\n",
      "Total number of different modality ids: 2\n"
     ]
    },
    {
     "data": {
      "text/plain": "<Figure size 648x720 with 9 Axes>",
      "image/png": "[encoded data removed]"
     },
     "metadata": {
      "needs_background": "light"
     },
     "output_type": "display_data"
    },
    {
     "name": "stdout",
     "output_type": "stream",
     "text": [
      "Mean and standard deviation of 'flair': (26.520628640232975, 66.88867846141157)\n",
      "Mean and standard deviation of 'gt': (0.013233926971326165, 0.11427506354513185)\n"
     ]
    },
    {
     "data": {
      "text/plain": "<Figure size 432x288 with 2 Axes>",
      "image/png": "[encoded data removed]"
     },
     "metadata": {
      "needs_background": "light"
     },
     "output_type": "display_data"
    },
    {
     "name": "stdout",
     "output_type": "stream",
     "text": [
      "None\n",
      "modality_id                                      age\n",
      "dataset_id    case_id   record_id                   \n",
      "train_dataset subject_0 observation_0  [[[[[36.]]]]]\n",
      "              subject_1 observation_0  [[[[[67.]]]]]\n",
      "              subject_2 observation_0  [[[[[40.]]]]]\n",
      "              subject_3 observation_0  [[[[[44.]]]]]\n",
      "              subject_4 observation_0  [[[[[77.]]]]]\n",
      "              subject_5 observation_0  [[[[[75.]]]]]\n",
      "              subject_6 observation_0  [[[[[44.]]]]]\n",
      "              subject_7 observation_0  [[[[[58.]]]]]\n",
      "val_dataset   subject_8 observation_0  [[[[[48.]]]]]\n",
      "              subject_9 observation_0  [[[[[73.]]]]]\n"
     ]
    }
   ],
   "source": [
    "from deepvoxnet2.components.mirc import Mirc\n",
    "\n",
    "my_mirc = Mirc(train_tumor_dataset, val_tumor_dataset)\n",
    "print(my_mirc.get_dataset_ids())\n",
    "print(my_mirc.get_case_ids())\n",
    "print(my_mirc.get_record_ids())\n",
    "print(my_mirc.get_modality_ids())\n",
    "print(my_mirc.mean_and_std(\"flair\", n=2))  # computing the mean and standard deviation using all your images might be too expensive, therefore limit the number of images used setting the n option\n",
    "print(my_mirc.inspect([\"flair\", \"gt\"], ns=[2, 2]))\n",
    "print(my_mirc.get_df(\"age\"))"
   ]
  },
  {
   "cell_type": "markdown",
   "metadata": {
    "pycharm": {
     "name": "#%% md\n"
    }
   },
   "source": [
    "In the aforementioned usage example of the Mirc object we have grouped both our training and our validation set under one Mirc object.\n",
    "Keep in mind that this was just for illustration purposes.\n",
    "It is always a good idea to keep the two separate."
   ]
  },
  {
   "cell_type": "code",
   "execution_count": 9,
   "outputs": [],
   "source": [
    "my_train_mirc = Mirc(train_tumor_dataset)\n",
    "my_val_mirc = Mirc(val_tumor_dataset)"
   ],
   "metadata": {
    "collapsed": false,
    "pycharm": {
     "name": "#%%\n"
    }
   }
  },
  {
   "cell_type": "markdown",
   "metadata": {
    "pycharm": {
     "name": "#%% md\n"
    }
   },
   "source": [
    "# 4. Data sampling\n",
    "Once that we have defined the set $\\mathcal{S'}$, e.g. by means of a Mirc object containing Record objects at its lowest level or simply a list of lists of Sample objects, we can start thinking about the sampling functions, e.g. the function $s''$ that produces the set $\\mathcal{S''}$ from $\\mathcal{S'}$.\n",
    "It turns out that we can often view any sampling function, that goes from one set of data pairs to another, as something that first samples a data pair and then applies some form of data transformation to it creating zero, one or more transformed data pairs.\n",
    "In this section, we will discuss the first part of the sampling function, more specifically the Sampler object.\n",
    "For now, you can view the Sampler object as having an internal list of objects that we can index to retrieve the object.\n",
    "While the retrieved object could be a Record object or a list of Sample objects, we chose to define it as a new object, i.e. the Identifier object.\n",
    "\n",
    "## 4.1 The Identifier object\n",
    "Actually, let us start by saying that the Identifier object could be any object, since we could define the word *sampling* as retrieving *something* from a list.\n",
    "In our specific use case, the returned Identifier object will be used by the data transformation function (see Sect. 5), and thus should contain all information that is necessary to do the tranformation.\n",
    "Letting the Identifier represent a list of Samples or a Record would be sufficient in that case.\n",
    "However, if representing a Record, the Identifier has no notion from which Dataset or which Case it was from.\n",
    "For this purpose, if we want to keep track of this additional information we could wrap a Record as a MircIdentifier."
   ]
  },
  {
   "cell_type": "code",
   "execution_count": 10,
   "metadata": {
    "pycharm": {
     "name": "#%%\n"
    }
   },
   "outputs": [
    {
     "name": "stdout",
     "output_type": "stream",
     "text": [
      "('train_dataset', 'subject_0', 'observation_0', None)\n",
      "age\n",
      "flair\n",
      "gt\n"
     ]
    }
   ],
   "source": [
    "from deepvoxnet2.components.sampler import MircIdentifier\n",
    "\n",
    "record_identifier = MircIdentifier(my_mirc, dataset_id=\"train_dataset\", case_id=\"subject_0\", record_id=\"observation_0\")\n",
    "print(record_identifier())\n",
    "for modality_id in record_identifier.mirc[record_identifier.dataset_id][record_identifier.case_id][record_identifier.record_id]:\n",
    "    print(modality_id)"
   ]
  },
  {
   "cell_type": "markdown",
   "metadata": {
    "pycharm": {
     "name": "#%% md\n"
    }
   },
   "source": [
    "## 4.2 The Sampler object\n",
    "As mentioned before, we chose to define a Sampler as a rather simple object, more specifically a list of Identifier objects, but with some additional functionalities.\n",
    "An important functionality is the ability to *shuffle* its internal list of Identifier objects by calling ```randomize()```.\n",
    "Whether this call will do anything depends on the value of the ```shuffle``` option when you create the Sampler, which defaults to ```False```.\n",
    "The shuffling itself is a new permutation of the list of Identifiers, potentially with replacement according to the probability density if specified using the ```weights``` option.\n",
    "In DVN2 you can use the MircSampler to convert a Mirc object to a Sampler of MircIdentifiers.\n",
    "Depending on the ```mode``` option, either ```\"per_case\"``` or ```\"per_record\"```, the internal list of MircIdentifiers and its shuffling will be different.\n",
    "Using ```mode=\"per_case\"``` the size of the list will be the number of Case objects in the Mirc object, thus with Record objects selected uniformly across all Case objects.\n",
    "Using ```mode=\"per_record\"``` the size of the list will be the number of Record objects in the Mirc object, thus with Records selected uniformly across all Record objects."
   ]
  },
  {
   "cell_type": "code",
   "execution_count": 11,
   "metadata": {
    "pycharm": {
     "name": "#%%\n"
    }
   },
   "outputs": [
    {
     "name": "stdout",
     "output_type": "stream",
     "text": [
      "a_simple_sampler at iteration 0:  [3, 3, 3, 3, 2]\n",
      "a_simple_sampler at iteration 1:  [2, 3, 3, 5, 2]\n",
      "a_simple_sampler at iteration 2:  [3, 1, 2, 3, 3]\n",
      "a_simple_sampler at iteration 3:  [3, 3, 3, 3, 3]\n",
      "a_simple_sampler at iteration 4:  [3, 2, 3, 3, 3]\n",
      "my_train_sampler at iteration 0:  ['subject_2', 'subject_0', 'subject_7', 'subject_1', 'subject_6', 'subject_5', 'subject_4', 'subject_3']\n",
      "my_val_sampler at iteration 0:  ['subject_8', 'subject_9']\n",
      "my_train_sampler at iteration 1:  ['subject_6', 'subject_4', 'subject_3', 'subject_5', 'subject_7', 'subject_2', 'subject_0', 'subject_1']\n",
      "my_val_sampler at iteration 1:  ['subject_8', 'subject_9']\n",
      "my_train_sampler at iteration 2:  ['subject_4', 'subject_3', 'subject_6', 'subject_2', 'subject_1', 'subject_5', 'subject_7', 'subject_0']\n",
      "my_val_sampler at iteration 2:  ['subject_8', 'subject_9']\n",
      "my_train_sampler at iteration 3:  ['subject_4', 'subject_3', 'subject_5', 'subject_1', 'subject_6', 'subject_0', 'subject_2', 'subject_7']\n",
      "my_val_sampler at iteration 3:  ['subject_8', 'subject_9']\n",
      "my_train_sampler at iteration 4:  ['subject_0', 'subject_6', 'subject_4', 'subject_3', 'subject_2', 'subject_7', 'subject_5', 'subject_1']\n",
      "my_val_sampler at iteration 4:  ['subject_8', 'subject_9']\n"
     ]
    }
   ],
   "source": [
    "from deepvoxnet2.components.sampler import Sampler, MircSampler\n",
    "\n",
    "a_simple_sampler = Sampler([1, 2, 3, 4, 5], shuffle=True, weights=[1, 1, 10, 1, 1])\n",
    "for i in range(5):\n",
    "    print(f\"a_simple_sampler at iteration {i}: \", [a_simple_sampler[j] for j in range(len(a_simple_sampler))])\n",
    "    a_simple_sampler.randomize()\n",
    "\n",
    "my_train_sampler = MircSampler(my_train_mirc, mode=\"per_case\", shuffle=True)  # shuffle=True typically for training\n",
    "my_val_sampler = MircSampler(my_val_mirc, mode=\"per_case\", shuffle=False)  # shuffle=False typically for validation\n",
    "for i in range(5):\n",
    "    print(f\"my_train_sampler at iteration {i}: \", [my_train_sampler[j].case_id for j in range(len(my_train_sampler))])\n",
    "    print(f\"my_val_sampler at iteration {i}: \", [my_val_sampler[j].case_id for j in range(len(my_val_sampler))])\n",
    "    my_train_sampler.randomize()\n",
    "    my_val_sampler.randomize()"
   ]
  },
  {
   "cell_type": "markdown",
   "metadata": {
    "pycharm": {
     "name": "#%% md\n"
    }
   },
   "source": [
    "It might look strange that a Sampler has a finite internal list and is not just something that *generates* Identifier objects indefinitely or until completion.\n",
    "However, using this abstraction it is easier to keep track of having seen all data pairs at least once before shuffling (without ```weights``` specified), etc."
   ]
  },
  {
   "cell_type": "markdown",
   "metadata": {
    "pycharm": {
     "name": "#%% md\n"
    }
   },
   "source": [
    "# 5. Data transformation\n",
    "Now that we have selected a data pair from our set $S'$, e.g. as a MircIdentifier using a MircSampler constructed from a Mirc object, we want to transform this data pair into zero, one or more transformed data pairs.\n",
    "To do so, DVN2 uses Transformer objects.\n",
    "To achieve complex transformations, a network of Transformer objects can be constructed and wrapped as a Creator object to unlock higher-level functionalities.\n",
    "\n",
    "To start, we can view a Transformer object as having an input and an output, both using the simplest representation of a data pair, i.e. a list of Sample objects.\n",
    "Furthermore, from its input it can generate zero, one or more (potentially infinite) outputs.\n",
    "What transformation and how many exactly depends on the type of Transformer and what options you specify.\n",
    "Typically, the input of one Transformer is the output of another.\n",
    "\n",
    "## 5.1 The InputTransformer object\n",
    "While all Transformers work as input-to-output and use a list-of-Sample-objects representation, there is one type of Transformer that is slightly different: the InputTransformer.\n",
    "In a sense, the InputTransformer has no input and thus can not be connected to the output of another Transformer.\n",
    "They serve as the start of your Transformer network and exist to convert any type of Identifier into a list of Sample objects.\n",
    "It is this property that makes it possible to work with a more structured form of your dataset, using any type of Identifier produced by the Sampler.\n",
    "In fact, the sole thing that must be foreseen is a dedicated InputTransformer that knows how to convert the Identifier to a list of Sample objects that it will present at its output.\n",
    "When making use of MircIdentifiers, we can use the MircInput InputTransformer.\n",
    "When making use of a list of Sample objects already, we should use the SampleInput InputTransformer.\n",
    "Typically for any InputTransformer, is that we need to load the Identifier into the Transformer *manually* by using its ```load``` method."
   ]
  },
  {
   "cell_type": "code",
   "execution_count": 12,
   "metadata": {
    "pycharm": {
     "name": "#%%\n"
    }
   },
   "outputs": [
    {
     "name": "stdout",
     "output_type": "stream",
     "text": [
      "Evaluation 0:\n"
     ]
    },
    {
     "data": {
      "text/plain": "<Figure size 432x216 with 2 Axes>",
      "image/png": "[encoded data removed]"
     },
     "metadata": {
      "needs_background": "light"
     },
     "output_type": "display_data"
    },
    {
     "name": "stdout",
     "output_type": "stream",
     "text": [
      "Generation stopped after n=1 evaluations\n"
     ]
    }
   ],
   "source": [
    "from deepvoxnet2.components.transformers import _MircInput\n",
    "\n",
    "mirc_input = _MircInput([\"flair\", \"gt\"], n=1)  # the use of _MircInput(...) is for illustrative purposes only\n",
    "mirc_input.load(my_val_sampler[1])  # here we do this manually, but usually we use the higher-level Creator, which we can also use for debugging\n",
    "x_y = mirc_input()  # normally we will use MircInput(...) instead, which does _MircInput(...)() in one go\n",
    "\n",
    "def visualize_transformer_output(transformer_output):\n",
    "    for i in range(100):\n",
    "        try:\n",
    "            transformer_output_i = transformer_output.eval()\n",
    "            print(f\"Evaluation {i}:\")\n",
    "            visualize_list_of_samples(transformer_output_i)\n",
    "\n",
    "        except StopIteration:\n",
    "            print(f\"Generation stopped after n={i} evaluations\")\n",
    "            break\n",
    "\n",
    "visualize_transformer_output(x_y)"
   ]
  },
  {
   "cell_type": "markdown",
   "metadata": {
    "pycharm": {
     "name": "#%% md\n"
    }
   },
   "source": [
    "In the above example, the InputTransformer ran out of generating new data pairs after one iteration.\n",
    "In fact, by setting the ```n``` option differently (```n=1``` by default for most Transformers), you can let the Transformer generate n outputs from one input."
   ]
  },
  {
   "cell_type": "markdown",
   "metadata": {
    "pycharm": {
     "name": "#%% md\n"
    }
   },
   "source": [
    "## 5.2 The Creator object\n",
    "Suppose we not only want to load the Identifier, but also want to *transform* it, such that in combination with the Sampler we create an implicit new set of data pairs.\n",
    "For this purpose, the returned output of any Transformer, e.g. ```x_y``` in the above code snippet, is a Connection object that can be *connected* to the input of another Transformer.\n",
    "Without going in too much detail, it is simply a reference to a list of Sample objects at a certain output index (a Transformer can have multiple inputs and outputs; see later) of a certain Transformer.\n",
    "It is this abstraction that allows us to build a network of Transformers.\n",
    "Suppose we want to create a new set in which we remove the Y and only keep X, or vice versa:"
   ]
  },
  {
   "cell_type": "code",
   "execution_count": 13,
   "metadata": {
    "pycharm": {
     "name": "#%%\n"
    }
   },
   "outputs": [
    {
     "name": "stdout",
     "output_type": "stream",
     "text": [
      "Generation stopped after n=0 evaluations\n",
      "Generation stopped after n=0 evaluations\n"
     ]
    }
   ],
   "source": [
    "from deepvoxnet2.components.transformers import Split\n",
    "\n",
    "x = Split(indices=(0,), n=1)(x_y)\n",
    "visualize_transformer_output(x)\n",
    "y = Split(indices=(1,), n=1)(x_y)\n",
    "visualize_transformer_output(y)"
   ]
  },
  {
   "cell_type": "markdown",
   "metadata": {
    "pycharm": {
     "name": "#%% md\n"
    }
   },
   "source": [
    "Even though we ask to produce a total of N=1\\*1=1 transformed data pairs (for each new identifier), the generation stops immediately.\n",
    "This is because we already ran that same MircInput object (i.e. *mirc_input*) until completion in the previous code snippet.\n",
    "As soon as the Split Transformer wants to read the output of *mirc_input*, the latter will tell it has already been depleted.\n",
    "To overcome this burden, e.g. when debugging or when the Transformer network has run until completion for Identfier A but we want to reuse it and run it for Identifier B, we can use the Creator object.\n",
    "The Creator object has a higher-level view on the Transformer network.\n",
    "For example, it can find all InputTransformer objects in the Transformer network and can reset the state of all Transformer objects.\n",
    "Below, let us first rebuild the Transformer network from above and then wrap it as a Creator."
   ]
  },
  {
   "cell_type": "code",
   "execution_count": 14,
   "metadata": {
    "pycharm": {
     "name": "#%%\n"
    }
   },
   "outputs": [
    {
     "name": "stdout",
     "output_type": "stream",
     "text": [
      "Evaluation 0:\n",
      "\tOutput of Transformer 0:\n"
     ]
    },
    {
     "data": {
      "text/plain": "<Figure size 216x216 with 1 Axes>",
      "image/png": "[encoded data removed]"
     },
     "metadata": {
      "needs_background": "light"
     },
     "output_type": "display_data"
    },
    {
     "name": "stdout",
     "output_type": "stream",
     "text": [
      "Generation stopped after n=1 evaluations\n",
      "Evaluation 0:\n",
      "\tOutput of Transformer 0:\n"
     ]
    },
    {
     "data": {
      "text/plain": "<Figure size 216x216 with 1 Axes>",
      "image/png": "[encoded data removed]"
     },
     "metadata": {
      "needs_background": "light"
     },
     "output_type": "display_data"
    },
    {
     "name": "stdout",
     "output_type": "stream",
     "text": [
      "Generation stopped after n=1 evaluations\n",
      "Evaluation 0:\n",
      "\tOutput of Transformer 0:\n"
     ]
    },
    {
     "data": {
      "text/plain": "<Figure size 216x216 with 1 Axes>",
      "image/png": "[encoded data removed]"
     },
     "metadata": {
      "needs_background": "light"
     },
     "output_type": "display_data"
    },
    {
     "name": "stdout",
     "output_type": "stream",
     "text": [
      "\tOutput of Transformer 1:\n"
     ]
    },
    {
     "data": {
      "text/plain": "<Figure size 216x216 with 1 Axes>",
      "image/png": "[encoded data removed]"
     },
     "metadata": {
      "needs_background": "light"
     },
     "output_type": "display_data"
    },
    {
     "name": "stdout",
     "output_type": "stream",
     "text": [
      "Generation stopped after n=1 evaluations\n"
     ]
    }
   ],
   "source": [
    "from deepvoxnet2.components.transformers import MircInput\n",
    "from deepvoxnet2.components.creator import Creator\n",
    "\n",
    "x_y = MircInput([\"flair\", \"gt\"], n=1, output_shapes=[(1, 240, 240, None, 1), (1, 240, 240, None, 1)])\n",
    "x = Split(indices=(0,), n=1)(x_y)\n",
    "y = Split(indices=(1,), n=1)(x_y)\n",
    "x_creator = Creator(outputs=[x])\n",
    "y_creator = Creator(outputs=[y])\n",
    "x_y_creator = Creator(outputs=[x, y])\n",
    "\n",
    "def visualize_creator_outputs(creator, identifier):\n",
    "    i = 0\n",
    "    for creator_outputs_i in creator.eval(identifier):\n",
    "        print(f\"Evaluation {i}:\")\n",
    "        for j, transformer_output_i in enumerate(creator_outputs_i):\n",
    "            print(f\"\\tOutput of Transformer {j}:\")\n",
    "            visualize_list_of_samples(transformer_output_i)\n",
    "\n",
    "        i += 1\n",
    "\n",
    "    print(f\"Generation stopped after n={i} evaluations\")\n",
    "\n",
    "visualize_creator_outputs(x_creator, my_val_sampler[1])\n",
    "visualize_creator_outputs(y_creator, my_val_sampler[1])\n",
    "visualize_creator_outputs(x_y_creator, my_val_sampler[1])"
   ]
  },
  {
   "cell_type": "markdown",
   "metadata": {
    "pycharm": {
     "name": "#%% md\n"
    }
   },
   "source": [
    "Notice how the Creator object has the potential to evaluate the output of multiple Transformer objects at once (we give it a list of Transformer outputs upon creation).\n",
    "Evaluating the Creator is somewhat different to evaluating a Transformer output as we did before.\n",
    "When we evaluated a Transformer output, we would have first needed to make sure that all InputTransformer objects had loaded the Identifier *manually*.\n",
    "Then, using ```.eval()``` we simply updated that particular output of that particular Transformer.\n",
    "However, when using ```.eval(identifier)``` of the Creator object, the Creator will first reset all Transformer objects, and then load the specified Identifier into all InputTransformer objects it can find in its Transformer network.\n",
    "Finally, this will return a true generator object that you can run until completion (i.e. as soon as at least one InputTransformer is depleted).\n",
    "\n",
    "Other useful, higher-level functionalities of the Creator object, is that it traces back which Transformer objects are actually needed to compute the requested Transformer outputs.\n",
    "As a result, it will simplify the Transformer network internally.\n",
    "Furthermore, we can save the entire Creator as an object and load it for later use using its static ```save_creator``` and ```load_creator``` methods.\n",
    "Last but not least, it will give names to the Transformers and you will be able to summarize the network in a printout.\n",
    "Note that in the code snippet above we also specified some of the input shapes.\n",
    "This is optional, but when doing so, the summary will become more informative and you can keep better track of the shapes."
   ]
  },
  {
   "cell_type": "code",
   "execution_count": 15,
   "metadata": {
    "pycharm": {
     "name": "#%%\n"
    }
   },
   "outputs": [
    {
     "name": "stdout",
     "output_type": "stream",
     "text": [
      "____________________________________________________________________________________________________________________________________________________________________________________________________________________________________________________________________\n",
      "Transformer (type) (n)                             idx        Output shape                                                                Connected to                                                                Extra connected to                                \n",
      "====================================================================================================================================================================================================================================================================\n",
      "_MircInput_0 (_MircInput) (1)                      0          [(1, 240, 240, None, 1), (1, 240, 240, None, 1)]                            []                                                                          []                                                \n",
      "____________________________________________________________________________________________________________________________________________________________________________________________________________________________________________________________________\n",
      "Split_1 (Split) (1)                                0          [(1, 240, 240, None, 1)]                                                    ['_MircInput_0[0]']                                                         []                                                \n",
      "____________________________________________________________________________________________________________________________________________________________________________________________________________________________________________________________________\n",
      "Split_0 (Split) (1)                                0          [(1, 240, 240, None, 1)]                                                    ['_MircInput_0[0]']                                                         []                                                \n",
      "____________________________________________________________________________________________________________________________________________________________________________________________________________________________________________________________________\n",
      "\n"
     ]
    }
   ],
   "source": [
    "import tempfile\n",
    "\n",
    "tmp_dir = tempfile.TemporaryDirectory()\n",
    "tmp_file = os.path.join(tmp_dir.name, \"x_y_creator.pkl\")\n",
    "Creator.save_creator(x_y_creator, file_path=tmp_file)  # or x_y_creator.save(tmp_file)\n",
    "x_y_creator = Creator.load_creator(tmp_file)\n",
    "x_y_creator.summary()\n",
    "tmp_dir.cleanup()"
   ]
  },
  {
   "cell_type": "markdown",
   "source": [
    "Be careful with saving and loading Creator objects as soon as you have KerasModel Transformer objects in your network of Transformer objects (see later in Sect. 6.1).\n",
    "The Keras models will be cleared before saving, and thus you should manually save, load and set them using the ```set_keras_models``` method.\n",
    "As soon as you use a DvnModel (Sect. 6.3), and you use its own save and load methods, this will be taken care of for you."
   ],
   "metadata": {
    "collapsed": false,
    "pycharm": {
     "name": "#%% md\n"
    }
   }
  },
  {
   "cell_type": "markdown",
   "metadata": {
    "pycharm": {
     "name": "#%% md\n"
    }
   },
   "source": [
    "## 5.3 More complex Transformer networks\n",
    "The beauty of the Transformer network is that the transformation can become arbitrarily complex, while the construction of it remains relatively simple.\n",
    "Without describing the functioning of all available Transformer objects, there are a couple of intricacies that are still useful to explain.\n",
    "\n",
    "The first thing has to do with the data pair, i.e. a list of Sample objects, and was actually already part of the above example code.\n",
    "Just to be clear, it is important to not view a data pair as a pair, but rather as a list containing one or more Sample objects.\n",
    "When flowing through the Transformer network, this pair does not need to remain intact.\n",
    "As a result, when applying a sampling function (i.e. combination of Sampler and Transformer network), the resulting set may look entirely different.\n",
    "After the use of the Split Transformer, we could use the Group Transformer to group again, which would result in a set that is identical to the original (depending on the Sampler of course)."
   ]
  },
  {
   "cell_type": "code",
   "execution_count": 16,
   "outputs": [
    {
     "name": "stdout",
     "output_type": "stream",
     "text": [
      "Evaluation 0:\n",
      "\tOutput of Transformer 0:\n"
     ]
    },
    {
     "data": {
      "text/plain": "<Figure size 432x216 with 2 Axes>",
      "image/png": "[encoded data removed]"
     },
     "metadata": {
      "needs_background": "light"
     },
     "output_type": "display_data"
    },
    {
     "name": "stdout",
     "output_type": "stream",
     "text": [
      "Generation stopped after n=1 evaluations\n"
     ]
    }
   ],
   "source": [
    "from deepvoxnet2.components.transformers import Group\n",
    "\n",
    "x_y = Group()([x, y])\n",
    "x_y_creator = Creator(outputs=[x_y])\n",
    "visualize_creator_outputs(x_y_creator, my_val_sampler[1])"
   ],
   "metadata": {
    "collapsed": false,
    "pycharm": {
     "name": "#%%\n"
    }
   }
  },
  {
   "cell_type": "markdown",
   "source": [
    "Also note that you can use multiple InputTransformers and that they will see the same Identifier.\n",
    "This can be useful since it allows you to build one network and wrap different parts of it in different Creator objects.\n",
    "Since the Creator simplifies the underlying Transformer network, it is possible that not all InputTransformers are used and thus you could evaluate certain parts with an Identifier lacking certain information.\n",
    "Just as an example how we could use two InputTransformer objects instead:"
   ],
   "metadata": {
    "collapsed": false,
    "pycharm": {
     "name": "#%% md\n"
    }
   }
  },
  {
   "cell_type": "code",
   "execution_count": 17,
   "metadata": {
    "pycharm": {
     "name": "#%%\n"
    }
   },
   "outputs": [
    {
     "name": "stdout",
     "output_type": "stream",
     "text": [
      "Evaluation 0:\n",
      "\tOutput of Transformer 0:\n"
     ]
    },
    {
     "data": {
      "text/plain": "<Figure size 432x216 with 2 Axes>",
      "image/png": "[encoded data removed]"
     },
     "metadata": {
      "needs_background": "light"
     },
     "output_type": "display_data"
    },
    {
     "name": "stdout",
     "output_type": "stream",
     "text": [
      "Generation stopped after n=1 evaluations\n"
     ]
    }
   ],
   "source": [
    "x = x_input = MircInput([\"flair\"], n=1, output_shapes=[(1, 240, 240, None, 1)])\n",
    "y = y_input = MircInput([\"gt\"], n=1, output_shapes=[(1, 240, 240, None, 1)])\n",
    "x_y = Group()([x, y])\n",
    "x_y_creator = Creator(outputs=[x_y])\n",
    "visualize_creator_outputs(x_y_creator, my_val_sampler[1])"
   ]
  },
  {
   "cell_type": "markdown",
   "source": [
    "Second, some Transformer objects need a reference Transformer to calculate their internal transformation.\n",
    "For example, if we want to deform the Samples using an affine transformation, we want to first compute the affine transform based on a reference Sample.\n",
    "Similarly, if we want to produce some crops, we might want those to originate from non-zero portions of a certain Sample.\n",
    "For this purpose it is always a good idea to have the reference output be a list of only one Sample, such that there is no ambiguity in which Sample is used as a reference."
   ],
   "metadata": {
    "collapsed": false
   }
  },
  {
   "cell_type": "code",
   "execution_count": 18,
   "outputs": [
    {
     "name": "stdout",
     "output_type": "stream",
     "text": [
      "Evaluation 0:\n",
      "\tOutput of Transformer 0:\n"
     ]
    },
    {
     "data": {
      "text/plain": "<Figure size 153x76.5 with 2 Axes>",
      "image/png": "[encoded data removed]"
     },
     "metadata": {
      "needs_background": "light"
     },
     "output_type": "display_data"
    },
    {
     "name": "stdout",
     "output_type": "stream",
     "text": [
      "Evaluation 1:\n",
      "\tOutput of Transformer 0:\n"
     ]
    },
    {
     "data": {
      "text/plain": "<Figure size 153x76.5 with 2 Axes>",
      "image/png": "[encoded data removed]"
     },
     "metadata": {
      "needs_background": "light"
     },
     "output_type": "display_data"
    },
    {
     "name": "stdout",
     "output_type": "stream",
     "text": [
      "Evaluation 2:\n",
      "\tOutput of Transformer 0:\n"
     ]
    },
    {
     "data": {
      "text/plain": "<Figure size 153x76.5 with 2 Axes>",
      "image/png": "[encoded data removed]"
     },
     "metadata": {
      "needs_background": "light"
     },
     "output_type": "display_data"
    },
    {
     "name": "stdout",
     "output_type": "stream",
     "text": [
      "Evaluation 3:\n",
      "\tOutput of Transformer 0:\n"
     ]
    },
    {
     "data": {
      "text/plain": "<Figure size 153x76.5 with 2 Axes>",
      "image/png": "[encoded data removed]"
     },
     "metadata": {
      "needs_background": "light"
     },
     "output_type": "display_data"
    },
    {
     "name": "stdout",
     "output_type": "stream",
     "text": [
      "Evaluation 4:\n",
      "\tOutput of Transformer 0:\n"
     ]
    },
    {
     "data": {
      "text/plain": "<Figure size 153x76.5 with 2 Axes>",
      "image/png": "[encoded data removed]"
     },
     "metadata": {
      "needs_background": "light"
     },
     "output_type": "display_data"
    },
    {
     "name": "stdout",
     "output_type": "stream",
     "text": [
      "Evaluation 5:\n",
      "\tOutput of Transformer 0:\n"
     ]
    },
    {
     "data": {
      "text/plain": "<Figure size 153x76.5 with 2 Axes>",
      "image/png": "[encoded data removed]"
     },
     "metadata": {
      "needs_background": "light"
     },
     "output_type": "display_data"
    },
    {
     "name": "stdout",
     "output_type": "stream",
     "text": [
      "Evaluation 6:\n",
      "\tOutput of Transformer 0:\n"
     ]
    },
    {
     "data": {
      "text/plain": "<Figure size 153x76.5 with 2 Axes>",
      "image/png": "[encoded data removed]"
     },
     "metadata": {
      "needs_background": "light"
     },
     "output_type": "display_data"
    },
    {
     "name": "stdout",
     "output_type": "stream",
     "text": [
      "Evaluation 7:\n",
      "\tOutput of Transformer 0:\n"
     ]
    },
    {
     "data": {
      "text/plain": "<Figure size 153x76.5 with 2 Axes>",
      "image/png": "[encoded data removed]"
     },
     "metadata": {
      "needs_background": "light"
     },
     "output_type": "display_data"
    },
    {
     "name": "stdout",
     "output_type": "stream",
     "text": [
      "Generation stopped after n=8 evaluations\n",
      "Evaluation 0:\n",
      "\tOutput of Transformer 0:\n"
     ]
    },
    {
     "data": {
      "text/plain": "<Figure size 432x216 with 2 Axes>",
      "image/png": "[encoded data removed]"
     },
     "metadata": {
      "needs_background": "light"
     },
     "output_type": "display_data"
    },
    {
     "name": "stdout",
     "output_type": "stream",
     "text": [
      "\tOutput of Transformer 1:\n"
     ]
    },
    {
     "data": {
      "text/plain": "<Figure size 432x216 with 2 Axes>",
      "image/png": "[encoded data removed]"
     },
     "metadata": {
      "needs_background": "light"
     },
     "output_type": "display_data"
    },
    {
     "name": "stdout",
     "output_type": "stream",
     "text": [
      "\tOutput of Transformer 2:\n"
     ]
    },
    {
     "data": {
      "text/plain": "<Figure size 216x216 with 1 Axes>",
      "image/png": "[encoded data removed]"
     },
     "metadata": {
      "needs_background": "light"
     },
     "output_type": "display_data"
    },
    {
     "name": "stdout",
     "output_type": "stream",
     "text": [
      "\tOutput of Transformer 3:\n"
     ]
    },
    {
     "data": {
      "text/plain": "<Figure size 153x76.5 with 2 Axes>",
      "image/png": "[encoded data removed]"
     },
     "metadata": {
      "needs_background": "light"
     },
     "output_type": "display_data"
    },
    {
     "name": "stdout",
     "output_type": "stream",
     "text": [
      "Generation stopped after n=1 evaluations\n"
     ]
    }
   ],
   "source": [
    "from deepvoxnet2.components.transformers import AffineDeformation, RandomCrop, Threshold, Flip\n",
    "\n",
    "x_y_affine = AffineDeformation(x, rotation_window_width=(1, 0, 0), translation_window_width=(10, 10, 0))(x_y)\n",
    "x_y_flip = Flip(flip_probabilities=(0.5, 0, 0), n=2)(x_y_affine)\n",
    "x_flip = Split(indices=(0,))(x_y_flip)\n",
    "mask_flip = Threshold(lower_threshold=0)(x_flip)\n",
    "x_y_crop = RandomCrop(mask_flip, (85, 85, 85), nonzero=True, n=4)(x_y_flip)\n",
    "x_y_crop_creator = Creator(outputs=[x_y_crop])\n",
    "visualize_creator_outputs(x_y_crop_creator, my_val_sampler[1])\n",
    "x_y_crop_creator_ = Creator(outputs=[x_y_affine, x_y_flip, mask_flip, x_y_crop])\n",
    "visualize_creator_outputs(x_y_crop_creator_, my_val_sampler[1])"
   ],
   "metadata": {
    "collapsed": false,
    "pycharm": {
     "name": "#%%\n"
    }
   }
  },
  {
   "cell_type": "markdown",
   "source": [
    "Notice how *x_y_crop_creator* generates N=1\\*1\\*1\\*1\\*2\\*4=8 crops while the *x_y_crop_creator_* only generates a single crop.\n",
    "This is because the *x_y_crop_creator_* also generates the output of the AffineDeformation Transformer, and requesting it to generate an output the second time will deplete the underlying InputTransformer objects already (```n=1``` for most Transformer objects by default).\n",
    "So be careful with so-called *shortcut connections*."
   ],
   "metadata": {
    "collapsed": false,
    "pycharm": {
     "name": "#%% md\n"
    }
   }
  },
  {
   "cell_type": "markdown",
   "source": [
    "Third, remember that we said that the input and output of a Transformer is a list of Sample objects.\n",
    "In fact, this is only partly true and this has to do with the concept that a Transformer is applying the same random transformation to all Sample objects it can find at its input.\n",
    "A Transformer can be connected to multiple inputs, resulting in multiple outputs, meaning that a Transformer may transform multiple data pairs that are connected to the Transformer.\n",
    "As such, we could have constructed the Transformer network from above in a many different ways, so always choose the most efficient route.\n",
    "Try to find some differences in the below code:"
   ],
   "metadata": {
    "collapsed": false
   }
  },
  {
   "cell_type": "code",
   "execution_count": 19,
   "metadata": {
    "pycharm": {
     "name": "#%%\n"
    }
   },
   "outputs": [
    {
     "name": "stdout",
     "output_type": "stream",
     "text": [
      "Evaluation 0:\n",
      "\tOutput of Transformer 0:\n"
     ]
    },
    {
     "data": {
      "text/plain": "<Figure size 153x76.5 with 2 Axes>",
      "image/png": "[encoded data removed]"
     },
     "metadata": {
      "needs_background": "light"
     },
     "output_type": "display_data"
    },
    {
     "name": "stdout",
     "output_type": "stream",
     "text": [
      "Evaluation 1:\n",
      "\tOutput of Transformer 0:\n"
     ]
    },
    {
     "data": {
      "text/plain": "<Figure size 153x76.5 with 2 Axes>",
      "image/png": "[encoded data removed]"
     },
     "metadata": {
      "needs_background": "light"
     },
     "output_type": "display_data"
    },
    {
     "name": "stdout",
     "output_type": "stream",
     "text": [
      "Evaluation 2:\n",
      "\tOutput of Transformer 0:\n"
     ]
    },
    {
     "data": {
      "text/plain": "<Figure size 153x76.5 with 2 Axes>",
      "image/png": "[encoded data removed]"
     },
     "metadata": {
      "needs_background": "light"
     },
     "output_type": "display_data"
    },
    {
     "name": "stdout",
     "output_type": "stream",
     "text": [
      "Evaluation 3:\n",
      "\tOutput of Transformer 0:\n"
     ]
    },
    {
     "data": {
      "text/plain": "<Figure size 153x76.5 with 2 Axes>",
      "image/png": "[encoded data removed]"
     },
     "metadata": {
      "needs_background": "light"
     },
     "output_type": "display_data"
    },
    {
     "name": "stdout",
     "output_type": "stream",
     "text": [
      "Evaluation 4:\n",
      "\tOutput of Transformer 0:\n"
     ]
    },
    {
     "data": {
      "text/plain": "<Figure size 153x76.5 with 2 Axes>",
      "image/png": "[encoded data removed]"
     },
     "metadata": {
      "needs_background": "light"
     },
     "output_type": "display_data"
    },
    {
     "name": "stdout",
     "output_type": "stream",
     "text": [
      "Evaluation 5:\n",
      "\tOutput of Transformer 0:\n"
     ]
    },
    {
     "data": {
      "text/plain": "<Figure size 153x76.5 with 2 Axes>",
      "image/png": "[encoded data removed]"
     },
     "metadata": {
      "needs_background": "light"
     },
     "output_type": "display_data"
    },
    {
     "name": "stdout",
     "output_type": "stream",
     "text": [
      "Evaluation 6:\n",
      "\tOutput of Transformer 0:\n"
     ]
    },
    {
     "data": {
      "text/plain": "<Figure size 153x76.5 with 2 Axes>",
      "image/png": "[encoded data removed]"
     },
     "metadata": {
      "needs_background": "light"
     },
     "output_type": "display_data"
    },
    {
     "name": "stdout",
     "output_type": "stream",
     "text": [
      "Evaluation 7:\n",
      "\tOutput of Transformer 0:\n"
     ]
    },
    {
     "data": {
      "text/plain": "<Figure size 153x76.5 with 2 Axes>",
      "image/png": "[encoded data removed]"
     },
     "metadata": {
      "needs_background": "light"
     },
     "output_type": "display_data"
    },
    {
     "name": "stdout",
     "output_type": "stream",
     "text": [
      "Generation stopped after n=8 evaluations\n"
     ]
    }
   ],
   "source": [
    "affine_transformer = AffineDeformation(x, rotation_window_width=(1, 0, 0), translation_window_width=(10, 10, 0))\n",
    "x_affine, y_affine = affine_transformer(x_input, y_input)\n",
    "flip_transformer = Flip(flip_probabilities=(0.5, 0, 0), n=2)\n",
    "x_flip = flip_transformer(x_affine)\n",
    "y_flip = flip_transformer(y_affine)\n",
    "mask_flip = Threshold(lower_threshold=0)(x_flip)\n",
    "x_crop, y_crop = RandomCrop(mask_flip, (85, 85, 85), nonzero=True, n=4)(x_flip, y_flip)\n",
    "x_y_crop = Group()([x_crop, y_crop])\n",
    "x_y_crop_creator = Creator(outputs=[x_y_crop])\n",
    "visualize_creator_outputs(x_y_crop_creator, my_val_sampler[1])"
   ]
  },
  {
   "cell_type": "markdown",
   "metadata": {
    "pycharm": {
     "name": "#%% md\n"
    }
   },
   "source": [
    "Again, notice how the above Transformer network is able to generated 8 transformed data pairs starting from a certain identifier.\n",
    "As soon as the network is getting more complex, it is always a good idea if the number generated corresponds to what you had in mind.\n",
    "It is possible that an InputTransformer triggers to stop the generation too soon due to unwanted shortcuts in your network, e.g. your network contains parallel paths with one path generating more than the other.\n",
    "\n",
    "Finally, the coolest thing about the Transformer network, is that it works with Sample objects, hence it always has notion of where the Sample is located in the *world*.\n",
    "We could use the Put Transformer to *put back* all the image crops into a reference Sample space of choice."
   ]
  },
  {
   "cell_type": "code",
   "execution_count": 20,
   "metadata": {
    "pycharm": {
     "name": "#%%\n"
    }
   },
   "outputs": [
    {
     "name": "stdout",
     "output_type": "stream",
     "text": [
      "Evaluation 0:\n",
      "\tOutput of Transformer 0:\n"
     ]
    },
    {
     "data": {
      "text/plain": "<Figure size 216x216 with 1 Axes>",
      "image/png": "[encoded data removed]"
     },
     "metadata": {
      "needs_background": "light"
     },
     "output_type": "display_data"
    },
    {
     "name": "stdout",
     "output_type": "stream",
     "text": [
      "Generation stopped after n=1 evaluations\n"
     ]
    }
   ],
   "source": [
    "from deepvoxnet2.components.transformers import Buffer, Put\n",
    "\n",
    "x_buffer = Buffer(buffer_size=None)(x_crop)\n",
    "x_put = Put(reference_connection=x_input)(x_buffer)\n",
    "x_put_creator = Creator(outputs=[x_put])\n",
    "visualize_creator_outputs(x_put_creator, my_val_sampler[1])"
   ]
  },
  {
   "cell_type": "markdown",
   "source": [
    "As an exercise, you can explore what would happen with the reconstructed image if you would take more crops (increase n of RandomCrop).\n",
    "Alternatively, what happens if you use the GridCrop instead of the RandomCrop using the default ```n=None``` option?"
   ],
   "metadata": {
    "collapsed": false,
    "pycharm": {
     "name": "#%% md\n"
    }
   }
  },
  {
   "cell_type": "markdown",
   "metadata": {
    "pycharm": {
     "name": "#%% md\n"
    }
   },
   "source": [
    "# 6. DVN2 for CNN-based applications\n",
    "At this point we can generate, albeit still implicitly, a wide variety of sets, e.g. $\\mathcal{S''}$, starting from the set $S'$.\n",
    "Using the suggested DVN2 way, we could operate as follows:\n",
    "\n",
    "- organize the set of data pairs $\\mathcal{S'}$ as Record objects in a Mirc object;\n",
    "- create a MircSampler from the Mirc object to sample MircIdentifiers;\n",
    "- make a Transformer network (as a Creator) that starts from a MircIdentifier and generates new data pairs.\n",
    "\n",
    "As a result, we have a powerful tool at our disposal that we can use to make CNN-based application pipelines.\n",
    "In order to effectively use it, in DVN2 we made the link with the Tensorflow library, in particular Keras.\n",
    "Nevertheless, up till this point everything was coded in Python in a way that is independent of the deep learning framework.\n",
    "When desired, the following functions can be adapted to be used with other deep learning frameworks such as Pytorch."
   ]
  },
  {
   "cell_type": "markdown",
   "source": [
    "## 6.1 The KerasModel Transformer\n",
    "First of all, in DVN2 we have provided functions to create a DeepMedic- or U-Net-like CNN architecture as a Keras model.\n",
    "It provides a variety of options, such as different types of layer normalizations, residual connections, siam networks, padding, etc.\n",
    "Furthermore, it provides the user with plenty of information, for example the receptive field and possible output sizes, and even an estimated memory usage.\n",
    "When using the default settings, it will create the No-New Net variant of the standard U-Net:"
   ],
   "metadata": {
    "collapsed": false
   }
  },
  {
   "cell_type": "code",
   "execution_count": 21,
   "outputs": [
    {
     "name": "stderr",
     "output_type": "stream",
     "text": [
      "/Users/jberte3/opt/anaconda3/envs/deepvoxnet2/lib/python3.8/site-packages/tensorflow_addons/utils/ensure_tf_install.py:53: UserWarning: Tensorflow Addons supports using Python ops for all Tensorflow versions above or equal to 2.4.0 and strictly below 2.7.0 (nightly versions are not supported). \n",
      " The versions of TensorFlow you are currently using is 2.3.4 and is not supported. \n",
      "Some things might work, some things might not.\n",
      "If you were to encounter a bug, do not file an issue.\n",
      "If you want to make sure you're using a tested and supported configuration, either change the TensorFlow version or the TensorFlow Addons's version. \n",
      "You can find the compatibility matrix in TensorFlow Addon's readme:\n",
      "https://github.com/tensorflow/addons\n",
      "  warnings.warn(\n"
     ]
    },
    {
     "name": "stdout",
     "output_type": "stream",
     "text": [
      "\n",
      "field of view:\t[185, 185, 185]\t(theoretical)\n",
      "output size:\t[128, 128, 128]\t(user defined)\n",
      "input size:\t[312, 312, 312]\t(inferred with theoretical field of view (less meaningful if padding='same'))\n",
      "input size:\t[128, 128, 128]\t(true input size of the network)\n",
      "\n",
      "possible output sizes:\n",
      "x: [16, 32, 48, 64, 80, 96, 112, 128, 144, 160, 176, 192, 208, 224, 240, 256, 272, 288, 304, 320, 336, 352, 368, 384, 400, 416, 432, 448, 464, 480, 496]\n",
      "y: [16, 32, 48, 64, 80, 96, 112, 128, 144, 160, 176, 192, 208, 224, 240, 256, 272, 288, 304, 320, 336, 352, 368, 384, 400, 416, 432, 448, 464, 480, 496]\n",
      "z: [16, 32, 48, 64, 80, 96, 112, 128, 144, 160, 176, 192, 208, 224, 240, 256, 272, 288, 304, 320, 336, 352, 368, 384, 400, 416, 432, 448, 464, 480, 496]\n",
      "\n",
      "possible input sizes (corresponding with the possible output sizes):\n",
      "x: [16, 32, 48, 64, 80, 96, 112, 128, 144, 160, 176, 192, 208, 224, 240, 256, 272, 288, 304, 320, 336, 352, 368, 384, 400, 416, 432, 448, 464, 480, 496]\n",
      "y: [16, 32, 48, 64, 80, 96, 112, 128, 144, 160, 176, 192, 208, 224, 240, 256, 272, 288, 304, 320, 336, 352, 368, 384, 400, 416, 432, 448, 464, 480, 496]\n",
      "z: [16, 32, 48, 64, 80, 96, 112, 128, 144, 160, 176, 192, 208, 224, 240, 256, 272, 288, 304, 320, 336, 352, 368, 384, 400, 416, 432, 448, 464, 480, 496]\n",
      "\n",
      "possible output sizes when using dynamic shapes (based on output size [128, 128, 128]):\n",
      "x: [16, 32, 48, 64, 80, 96, 112, 128, 144, 160, 176, 192, 208, 224, 240, 256, 272, 288, 304, 320, 336, 352, 368, 384, 400, 416, 432, 448, 464, 480, 496]\n",
      "y: [16, 32, 48, 64, 80, 96, 112, 128, 144, 160, 176, 192, 208, 224, 240, 256, 272, 288, 304, 320, 336, 352, 368, 384, 400, 416, 432, 448, 464, 480, 496]\n",
      "z: [16, 32, 48, 64, 80, 96, 112, 128, 144, 160, 176, 192, 208, 224, 240, 256, 272, 288, 304, 320, 336, 352, 368, 384, 400, 416, 432, 448, 464, 480, 496]\n",
      "\n",
      "possible input sizes when using dynamic shapes (based on output size [128, 128, 128]):\n",
      "x: [16, 32, 48, 64, 80, 96, 112, 128, 144, 160, 176, 192, 208, 224, 240, 256, 272, 288, 304, 320, 336, 352, 368, 384, 400, 416, 432, 448, 464, 480, 496]\n",
      "y: [16, 32, 48, 64, 80, 96, 112, 128, 144, 160, 176, 192, 208, 224, 240, 256, 272, 288, 304, 320, 336, 352, 368, 384, 400, 416, 432, 448, 464, 480, 496]\n",
      "z: [16, 32, 48, 64, 80, 96, 112, 128, 144, 160, 176, 192, 208, 224, 240, 256, 272, 288, 304, 320, 336, 352, 368, 384, 400, 416, 432, 448, 464, 480, 496]\n"
     ]
    },
    {
     "name": "stderr",
     "output_type": "stream",
     "text": [
      "2022-05-19 13:17:06.635160: I tensorflow/core/platform/cpu_feature_guard.cc:142] This TensorFlow binary is optimized with oneAPI Deep Neural Network Library (oneDNN)to use the following CPU instructions in performance-critical operations:  AVX2 FMA\n",
      "To enable them in other operations, rebuild TensorFlow with the appropriate compiler flags.\n",
      "2022-05-19 13:17:06.695669: I tensorflow/compiler/xla/service/service.cc:168] XLA service 0x7fe0c3f72250 initialized for platform Host (this does not guarantee that XLA will be used). Devices:\n",
      "2022-05-19 13:17:06.695683: I tensorflow/compiler/xla/service/service.cc:176]   StreamExecutor device (0): Host, Default Version\n"
     ]
    },
    {
     "name": "stdout",
     "output_type": "stream",
     "text": [
      "\n",
      "Network summary:\n",
      "Model: \"functional_1\"\n",
      "__________________________________________________________________________________________________\n",
      "Layer (type)                    Output Shape         Param #     Connected to                     \n",
      "==================================================================================================\n",
      "siam0_input (InputLayer)        [(None, 128, 128, 12 0                                            \n",
      "__________________________________________________________________________________________________\n",
      "max_pooling3d (MaxPooling3D)    (None, 128, 128, 128 0           siam0_input[0][0]                \n",
      "__________________________________________________________________________________________________\n",
      "max_pooling3d_1 (MaxPooling3D)  (None, 128, 128, 128 0           max_pooling3d[0][0]              \n",
      "__________________________________________________________________________________________________\n",
      "1_0 (Conv3D)                    (None, 128, 128, 128 3270        max_pooling3d_1[0][0]            \n",
      "__________________________________________________________________________________________________\n",
      "instance_normalization (Instanc (None, 128, 128, 128 60          1_0[0][0]                        \n",
      "__________________________________________________________________________________________________\n",
      "down_p1_activation1 (LeakyReLU) (None, 128, 128, 128 0           instance_normalization[0][0]     \n",
      "__________________________________________________________________________________________________\n",
      "1_1 (Conv3D)                    (None, 128, 128, 128 24330       down_p1_activation1[0][0]        \n",
      "__________________________________________________________________________________________________\n",
      "max_pooling3d_2 (MaxPooling3D)  (None, 64, 64, 64, 3 0           1_1[0][0]                        \n",
      "__________________________________________________________________________________________________\n",
      "instance_normalization_1 (Insta (None, 64, 64, 64, 3 60          max_pooling3d_2[0][0]            \n",
      "__________________________________________________________________________________________________\n",
      "down_p2_activation0 (LeakyReLU) (None, 64, 64, 64, 3 0           instance_normalization_1[0][0]   \n",
      "__________________________________________________________________________________________________\n",
      "2_0 (Conv3D)                    (None, 64, 64, 64, 6 48660       down_p2_activation0[0][0]        \n",
      "__________________________________________________________________________________________________\n",
      "instance_normalization_2 (Insta (None, 64, 64, 64, 6 120         2_0[0][0]                        \n",
      "__________________________________________________________________________________________________\n",
      "down_p2_activation1 (LeakyReLU) (None, 64, 64, 64, 6 0           instance_normalization_2[0][0]   \n",
      "__________________________________________________________________________________________________\n",
      "2_1 (Conv3D)                    (None, 64, 64, 64, 6 97260       down_p2_activation1[0][0]        \n",
      "__________________________________________________________________________________________________\n",
      "max_pooling3d_3 (MaxPooling3D)  (None, 32, 32, 32, 6 0           2_1[0][0]                        \n",
      "__________________________________________________________________________________________________\n",
      "instance_normalization_3 (Insta (None, 32, 32, 32, 6 120         max_pooling3d_3[0][0]            \n",
      "__________________________________________________________________________________________________\n",
      "down_p3_activation0 (LeakyReLU) (None, 32, 32, 32, 6 0           instance_normalization_3[0][0]   \n",
      "__________________________________________________________________________________________________\n",
      "3_0 (Conv3D)                    (None, 32, 32, 32, 1 194520      down_p3_activation0[0][0]        \n",
      "__________________________________________________________________________________________________\n",
      "instance_normalization_4 (Insta (None, 32, 32, 32, 1 240         3_0[0][0]                        \n",
      "__________________________________________________________________________________________________\n",
      "down_p3_activation1 (LeakyReLU) (None, 32, 32, 32, 1 0           instance_normalization_4[0][0]   \n",
      "__________________________________________________________________________________________________\n",
      "3_1 (Conv3D)                    (None, 32, 32, 32, 1 388920      down_p3_activation1[0][0]        \n",
      "__________________________________________________________________________________________________\n",
      "max_pooling3d_4 (MaxPooling3D)  (None, 16, 16, 16, 1 0           3_1[0][0]                        \n",
      "__________________________________________________________________________________________________\n",
      "instance_normalization_5 (Insta (None, 16, 16, 16, 1 240         max_pooling3d_4[0][0]            \n",
      "__________________________________________________________________________________________________\n",
      "down_p4_activation0 (LeakyReLU) (None, 16, 16, 16, 1 0           instance_normalization_5[0][0]   \n",
      "__________________________________________________________________________________________________\n",
      "4_0 (Conv3D)                    (None, 16, 16, 16, 2 777840      down_p4_activation0[0][0]        \n",
      "__________________________________________________________________________________________________\n",
      "instance_normalization_6 (Insta (None, 16, 16, 16, 2 480         4_0[0][0]                        \n",
      "__________________________________________________________________________________________________\n",
      "down_p4_activation1 (LeakyReLU) (None, 16, 16, 16, 2 0           instance_normalization_6[0][0]   \n",
      "__________________________________________________________________________________________________\n",
      "4_1 (Conv3D)                    (None, 16, 16, 16, 2 1555440     down_p4_activation1[0][0]        \n",
      "__________________________________________________________________________________________________\n",
      "max_pooling3d_5 (MaxPooling3D)  (None, 8, 8, 8, 240) 0           4_1[0][0]                        \n",
      "__________________________________________________________________________________________________\n",
      "instance_normalization_7 (Insta (None, 8, 8, 8, 240) 480         max_pooling3d_5[0][0]            \n",
      "__________________________________________________________________________________________________\n",
      "down_p5_activation0 (LeakyReLU) (None, 8, 8, 8, 240) 0           instance_normalization_7[0][0]   \n",
      "__________________________________________________________________________________________________\n",
      "5_0 (Conv3D)                    (None, 8, 8, 8, 480) 3110880     down_p5_activation0[0][0]        \n",
      "__________________________________________________________________________________________________\n",
      "instance_normalization_8 (Insta (None, 8, 8, 8, 480) 960         5_0[0][0]                        \n",
      "__________________________________________________________________________________________________\n",
      "down_p5_activation1 (LeakyReLU) (None, 8, 8, 8, 480) 0           instance_normalization_8[0][0]   \n",
      "__________________________________________________________________________________________________\n",
      "5_1 (Conv3D)                    (None, 8, 8, 8, 240) 3110640     down_p5_activation1[0][0]        \n",
      "__________________________________________________________________________________________________\n",
      "average_pooling3d (AveragePooli (None, 8, 8, 8, 240) 0           5_1[0][0]                        \n",
      "__________________________________________________________________________________________________\n",
      "up_sampling3d (UpSampling3D)    (None, 16, 16, 16, 2 0           average_pooling3d[0][0]          \n",
      "__________________________________________________________________________________________________\n",
      "cropping3d (Cropping3D)         (None, 16, 16, 16, 2 0           4_1[0][0]                        \n",
      "__________________________________________________________________________________________________\n",
      "average_pooling3d_1 (AveragePoo (None, 16, 16, 16, 2 0           up_sampling3d[0][0]              \n",
      "__________________________________________________________________________________________________\n",
      "concatenate (Concatenate)       (None, 16, 16, 16, 4 0           cropping3d[0][0]                 \n",
      "                                                                 average_pooling3d_1[0][0]        \n",
      "__________________________________________________________________________________________________\n",
      "instance_normalization_9 (Insta (None, 16, 16, 16, 4 960         concatenate[0][0]                \n",
      "__________________________________________________________________________________________________\n",
      "up_p4_activation0 (LeakyReLU)   (None, 16, 16, 16, 4 0           instance_normalization_9[0][0]   \n",
      "__________________________________________________________________________________________________\n",
      "conv3d (Conv3D)                 (None, 16, 16, 16, 2 3110640     up_p4_activation0[0][0]          \n",
      "__________________________________________________________________________________________________\n",
      "instance_normalization_10 (Inst (None, 16, 16, 16, 2 480         conv3d[0][0]                     \n",
      "__________________________________________________________________________________________________\n",
      "up_p4_activation1 (LeakyReLU)   (None, 16, 16, 16, 2 0           instance_normalization_10[0][0]  \n",
      "__________________________________________________________________________________________________\n",
      "conv3d_1 (Conv3D)               (None, 16, 16, 16, 1 777720      up_p4_activation1[0][0]          \n",
      "__________________________________________________________________________________________________\n",
      "up_sampling3d_1 (UpSampling3D)  (None, 32, 32, 32, 1 0           conv3d_1[0][0]                   \n",
      "__________________________________________________________________________________________________\n",
      "cropping3d_1 (Cropping3D)       (None, 32, 32, 32, 1 0           3_1[0][0]                        \n",
      "__________________________________________________________________________________________________\n",
      "average_pooling3d_2 (AveragePoo (None, 32, 32, 32, 1 0           up_sampling3d_1[0][0]            \n",
      "__________________________________________________________________________________________________\n",
      "concatenate_1 (Concatenate)     (None, 32, 32, 32, 2 0           cropping3d_1[0][0]               \n",
      "                                                                 average_pooling3d_2[0][0]        \n",
      "__________________________________________________________________________________________________\n",
      "instance_normalization_11 (Inst (None, 32, 32, 32, 2 480         concatenate_1[0][0]              \n",
      "__________________________________________________________________________________________________\n",
      "up_p3_activation0 (LeakyReLU)   (None, 32, 32, 32, 2 0           instance_normalization_11[0][0]  \n",
      "__________________________________________________________________________________________________\n",
      "conv3d_2 (Conv3D)               (None, 32, 32, 32, 1 777720      up_p3_activation0[0][0]          \n",
      "__________________________________________________________________________________________________\n",
      "instance_normalization_12 (Inst (None, 32, 32, 32, 1 240         conv3d_2[0][0]                   \n",
      "__________________________________________________________________________________________________\n",
      "up_p3_activation1 (LeakyReLU)   (None, 32, 32, 32, 1 0           instance_normalization_12[0][0]  \n",
      "__________________________________________________________________________________________________\n",
      "conv3d_3 (Conv3D)               (None, 32, 32, 32, 6 194460      up_p3_activation1[0][0]          \n",
      "__________________________________________________________________________________________________\n",
      "up_sampling3d_2 (UpSampling3D)  (None, 64, 64, 64, 6 0           conv3d_3[0][0]                   \n",
      "__________________________________________________________________________________________________\n",
      "cropping3d_2 (Cropping3D)       (None, 64, 64, 64, 6 0           2_1[0][0]                        \n",
      "__________________________________________________________________________________________________\n",
      "average_pooling3d_3 (AveragePoo (None, 64, 64, 64, 6 0           up_sampling3d_2[0][0]            \n",
      "__________________________________________________________________________________________________\n",
      "concatenate_2 (Concatenate)     (None, 64, 64, 64, 1 0           cropping3d_2[0][0]               \n",
      "                                                                 average_pooling3d_3[0][0]        \n",
      "__________________________________________________________________________________________________\n",
      "instance_normalization_13 (Inst (None, 64, 64, 64, 1 240         concatenate_2[0][0]              \n",
      "__________________________________________________________________________________________________\n",
      "up_p2_activation0 (LeakyReLU)   (None, 64, 64, 64, 1 0           instance_normalization_13[0][0]  \n",
      "__________________________________________________________________________________________________\n",
      "conv3d_4 (Conv3D)               (None, 64, 64, 64, 6 194460      up_p2_activation0[0][0]          \n",
      "__________________________________________________________________________________________________\n",
      "instance_normalization_14 (Inst (None, 64, 64, 64, 6 120         conv3d_4[0][0]                   \n",
      "__________________________________________________________________________________________________\n",
      "up_p2_activation1 (LeakyReLU)   (None, 64, 64, 64, 6 0           instance_normalization_14[0][0]  \n",
      "__________________________________________________________________________________________________\n",
      "conv3d_5 (Conv3D)               (None, 64, 64, 64, 3 48630       up_p2_activation1[0][0]          \n",
      "__________________________________________________________________________________________________\n",
      "up_sampling3d_3 (UpSampling3D)  (None, 128, 128, 128 0           conv3d_5[0][0]                   \n",
      "__________________________________________________________________________________________________\n",
      "cropping3d_3 (Cropping3D)       (None, 128, 128, 128 0           1_1[0][0]                        \n",
      "__________________________________________________________________________________________________\n",
      "average_pooling3d_4 (AveragePoo (None, 128, 128, 128 0           up_sampling3d_3[0][0]            \n",
      "__________________________________________________________________________________________________\n",
      "concatenate_3 (Concatenate)     (None, 128, 128, 128 0           cropping3d_3[0][0]               \n",
      "                                                                 average_pooling3d_4[0][0]        \n",
      "__________________________________________________________________________________________________\n",
      "instance_normalization_15 (Inst (None, 128, 128, 128 120         concatenate_3[0][0]              \n",
      "__________________________________________________________________________________________________\n",
      "up_p1_activation0 (LeakyReLU)   (None, 128, 128, 128 0           instance_normalization_15[0][0]  \n",
      "__________________________________________________________________________________________________\n",
      "conv3d_6 (Conv3D)               (None, 128, 128, 128 48630       up_p1_activation0[0][0]          \n",
      "__________________________________________________________________________________________________\n",
      "instance_normalization_16 (Inst (None, 128, 128, 128 60          conv3d_6[0][0]                   \n",
      "__________________________________________________________________________________________________\n",
      "up_p1_activation1 (LeakyReLU)   (None, 128, 128, 128 0           instance_normalization_16[0][0]  \n",
      "__________________________________________________________________________________________________\n",
      "conv3d_7 (Conv3D)               (None, 128, 128, 128 24330       up_p1_activation1[0][0]          \n",
      "__________________________________________________________________________________________________\n",
      "up_sampling3d_4 (UpSampling3D)  (None, 128, 128, 128 0           conv3d_7[0][0]                   \n",
      "__________________________________________________________________________________________________\n",
      "average_pooling3d_5 (AveragePoo (None, 128, 128, 128 0           up_sampling3d_4[0][0]            \n",
      "__________________________________________________________________________________________________\n",
      "up_sampling3d_5 (UpSampling3D)  (None, 128, 128, 128 0           average_pooling3d_5[0][0]        \n",
      "__________________________________________________________________________________________________\n",
      "instance_normalization_17 (Inst (None, 128, 128, 128 60          up_sampling3d_5[0][0]            \n",
      "__________________________________________________________________________________________________\n",
      "c_activation0 (LeakyReLU)       (None, 128, 128, 128 0           instance_normalization_17[0][0]  \n",
      "__________________________________________________________________________________________________\n",
      "s0 (Conv3D)                     (None, 128, 128, 128 31          c_activation0[0][0]              \n",
      "==================================================================================================\n",
      "Total params: 14,493,901\n",
      "Trainable params: 14,493,901\n",
      "Non-trainable params: 0\n",
      "__________________________________________________________________________________________________\n",
      "None\n",
      "With a batch size of 1 this model needs 6.701 GB on the GPU.\n"
     ]
    }
   ],
   "source": [
    "from deepvoxnet2.keras.models.unet_generalized_v2 import create_generalized_unet_v2_model\n",
    "\n",
    "no_new_net_model = create_generalized_unet_v2_model()"
   ],
   "metadata": {
    "collapsed": false,
    "pycharm": {
     "name": "#%%\n"
    }
   }
  },
  {
   "cell_type": "markdown",
   "source": [
    "We can see that the model performs internal padding because both the output and input size is 128 x 128 x 128 voxels$^3$.\n",
    "We also see that the receptive field size is 185 x 185 x 185 voxels$^3$.\n",
    "Besides plenty of other information, the summary provides us with potential alternative output and input sizes.\n",
    "Suppose we want to create a simple U-Net-like CNN that transforms a single input patch of size 85 x 85 x 85 voxels$^3$ into an output patch of 53 x 53 x 53 voxels$^3$, representing the predicted segmentation.\n",
    "To do so, we could modify some of the default options like below:"
   ],
   "metadata": {
    "collapsed": false,
    "pycharm": {
     "name": "#%% md\n"
    }
   }
  },
  {
   "cell_type": "code",
   "execution_count": 22,
   "outputs": [
    {
     "name": "stdout",
     "output_type": "stream",
     "text": [
      "\n",
      "field of view:\t[33, 33, 33]\t(theoretical)\n",
      "output size:\t[53, 53, 53]\t(user defined)\n",
      "input size:\t[85, 85, 85]\t(inferred with theoretical field of view (less meaningful if padding='same'))\n",
      "input size:\t[85, 85, 85]\t(true input size of the network)\n",
      "\n",
      "possible output sizes:\n",
      "x: [2, 5, 8, 11, 14, 17, 20, 23, 26, 29, 32, 35, 38, 41, 44, 47, 50, 53, 56, 59, 62, 65, 68, 71, 74, 77, 80, 83, 86, 89, 92, 95, 98, 101, 104, 107, 110, 113, 116, 119, 122, 125, 128, 131, 134, 137, 140, 143, 146, 149, 152, 155, 158, 161, 164, 167, 170, 173, 176, 179, 182, 185, 188, 191, 194, 197, 200, 203, 206, 209, 212, 215, 218, 221, 224, 227, 230, 233, 236, 239, 242, 245, 248, 251, 254, 257, 260, 263, 266, 269, 272, 275, 278, 281, 284, 287, 290, 293, 296, 299, 302, 305, 308, 311, 314, 317, 320, 323, 326, 329, 332, 335, 338, 341, 344, 347, 350, 353, 356, 359, 362, 365, 368, 371, 374, 377, 380, 383, 386, 389, 392, 395, 398, 401, 404, 407, 410, 413, 416, 419, 422, 425, 428, 431, 434, 437, 440, 443, 446, 449, 452, 455, 458, 461, 464, 467]\n",
      "y: [2, 5, 8, 11, 14, 17, 20, 23, 26, 29, 32, 35, 38, 41, 44, 47, 50, 53, 56, 59, 62, 65, 68, 71, 74, 77, 80, 83, 86, 89, 92, 95, 98, 101, 104, 107, 110, 113, 116, 119, 122, 125, 128, 131, 134, 137, 140, 143, 146, 149, 152, 155, 158, 161, 164, 167, 170, 173, 176, 179, 182, 185, 188, 191, 194, 197, 200, 203, 206, 209, 212, 215, 218, 221, 224, 227, 230, 233, 236, 239, 242, 245, 248, 251, 254, 257, 260, 263, 266, 269, 272, 275, 278, 281, 284, 287, 290, 293, 296, 299, 302, 305, 308, 311, 314, 317, 320, 323, 326, 329, 332, 335, 338, 341, 344, 347, 350, 353, 356, 359, 362, 365, 368, 371, 374, 377, 380, 383, 386, 389, 392, 395, 398, 401, 404, 407, 410, 413, 416, 419, 422, 425, 428, 431, 434, 437, 440, 443, 446, 449, 452, 455, 458, 461, 464, 467]\n",
      "z: [2, 5, 8, 11, 14, 17, 20, 23, 26, 29, 32, 35, 38, 41, 44, 47, 50, 53, 56, 59, 62, 65, 68, 71, 74, 77, 80, 83, 86, 89, 92, 95, 98, 101, 104, 107, 110, 113, 116, 119, 122, 125, 128, 131, 134, 137, 140, 143, 146, 149, 152, 155, 158, 161, 164, 167, 170, 173, 176, 179, 182, 185, 188, 191, 194, 197, 200, 203, 206, 209, 212, 215, 218, 221, 224, 227, 230, 233, 236, 239, 242, 245, 248, 251, 254, 257, 260, 263, 266, 269, 272, 275, 278, 281, 284, 287, 290, 293, 296, 299, 302, 305, 308, 311, 314, 317, 320, 323, 326, 329, 332, 335, 338, 341, 344, 347, 350, 353, 356, 359, 362, 365, 368, 371, 374, 377, 380, 383, 386, 389, 392, 395, 398, 401, 404, 407, 410, 413, 416, 419, 422, 425, 428, 431, 434, 437, 440, 443, 446, 449, 452, 455, 458, 461, 464, 467]\n",
      "\n",
      "possible input sizes (corresponding with the possible output sizes):\n",
      "x: [34, 37, 40, 43, 46, 49, 52, 55, 58, 61, 64, 67, 70, 73, 76, 79, 82, 85, 88, 91, 94, 97, 100, 103, 106, 109, 112, 115, 118, 121, 124, 127, 130, 133, 136, 139, 142, 145, 148, 151, 154, 157, 160, 163, 166, 169, 172, 175, 178, 181, 184, 187, 190, 193, 196, 199, 202, 205, 208, 211, 214, 217, 220, 223, 226, 229, 232, 235, 238, 241, 244, 247, 250, 253, 256, 259, 262, 265, 268, 271, 274, 277, 280, 283, 286, 289, 292, 295, 298, 301, 304, 307, 310, 313, 316, 319, 322, 325, 328, 331, 334, 337, 340, 343, 346, 349, 352, 355, 358, 361, 364, 367, 370, 373, 376, 379, 382, 385, 388, 391, 394, 397, 400, 403, 406, 409, 412, 415, 418, 421, 424, 427, 430, 433, 436, 439, 442, 445, 448, 451, 454, 457, 460, 463, 466, 469, 472, 475, 478, 481, 484, 487, 490, 493, 496, 499]\n",
      "y: [34, 37, 40, 43, 46, 49, 52, 55, 58, 61, 64, 67, 70, 73, 76, 79, 82, 85, 88, 91, 94, 97, 100, 103, 106, 109, 112, 115, 118, 121, 124, 127, 130, 133, 136, 139, 142, 145, 148, 151, 154, 157, 160, 163, 166, 169, 172, 175, 178, 181, 184, 187, 190, 193, 196, 199, 202, 205, 208, 211, 214, 217, 220, 223, 226, 229, 232, 235, 238, 241, 244, 247, 250, 253, 256, 259, 262, 265, 268, 271, 274, 277, 280, 283, 286, 289, 292, 295, 298, 301, 304, 307, 310, 313, 316, 319, 322, 325, 328, 331, 334, 337, 340, 343, 346, 349, 352, 355, 358, 361, 364, 367, 370, 373, 376, 379, 382, 385, 388, 391, 394, 397, 400, 403, 406, 409, 412, 415, 418, 421, 424, 427, 430, 433, 436, 439, 442, 445, 448, 451, 454, 457, 460, 463, 466, 469, 472, 475, 478, 481, 484, 487, 490, 493, 496, 499]\n",
      "z: [34, 37, 40, 43, 46, 49, 52, 55, 58, 61, 64, 67, 70, 73, 76, 79, 82, 85, 88, 91, 94, 97, 100, 103, 106, 109, 112, 115, 118, 121, 124, 127, 130, 133, 136, 139, 142, 145, 148, 151, 154, 157, 160, 163, 166, 169, 172, 175, 178, 181, 184, 187, 190, 193, 196, 199, 202, 205, 208, 211, 214, 217, 220, 223, 226, 229, 232, 235, 238, 241, 244, 247, 250, 253, 256, 259, 262, 265, 268, 271, 274, 277, 280, 283, 286, 289, 292, 295, 298, 301, 304, 307, 310, 313, 316, 319, 322, 325, 328, 331, 334, 337, 340, 343, 346, 349, 352, 355, 358, 361, 364, 367, 370, 373, 376, 379, 382, 385, 388, 391, 394, 397, 400, 403, 406, 409, 412, 415, 418, 421, 424, 427, 430, 433, 436, 439, 442, 445, 448, 451, 454, 457, 460, 463, 466, 469, 472, 475, 478, 481, 484, 487, 490, 493, 496, 499]\n",
      "\n",
      "possible output sizes when using dynamic shapes (based on output size [53, 53, 53]):\n",
      "x: [2, 5, 8, 11, 14, 17, 20, 23, 26, 29, 32, 35, 38, 41, 44, 47, 50, 53, 56, 59, 62, 65, 68, 71, 74, 77, 80, 83, 86, 89, 92, 95, 98, 101, 104, 107, 110, 113, 116, 119, 122, 125, 128, 131, 134, 137, 140, 143, 146, 149, 152, 155, 158, 161, 164, 167, 170, 173, 176, 179, 182, 185, 188, 191, 194, 197, 200, 203, 206, 209, 212, 215, 218, 221, 224, 227, 230, 233, 236, 239, 242, 245, 248, 251, 254, 257, 260, 263, 266, 269, 272, 275, 278, 281, 284, 287, 290, 293, 296, 299, 302, 305, 308, 311, 314, 317, 320, 323, 326, 329, 332, 335, 338, 341, 344, 347, 350, 353, 356, 359, 362, 365, 368, 371, 374, 377, 380, 383, 386, 389, 392, 395, 398, 401, 404, 407, 410, 413, 416, 419, 422, 425, 428, 431, 434, 437, 440, 443, 446, 449, 452, 455, 458, 461, 464, 467]\n",
      "y: [2, 5, 8, 11, 14, 17, 20, 23, 26, 29, 32, 35, 38, 41, 44, 47, 50, 53, 56, 59, 62, 65, 68, 71, 74, 77, 80, 83, 86, 89, 92, 95, 98, 101, 104, 107, 110, 113, 116, 119, 122, 125, 128, 131, 134, 137, 140, 143, 146, 149, 152, 155, 158, 161, 164, 167, 170, 173, 176, 179, 182, 185, 188, 191, 194, 197, 200, 203, 206, 209, 212, 215, 218, 221, 224, 227, 230, 233, 236, 239, 242, 245, 248, 251, 254, 257, 260, 263, 266, 269, 272, 275, 278, 281, 284, 287, 290, 293, 296, 299, 302, 305, 308, 311, 314, 317, 320, 323, 326, 329, 332, 335, 338, 341, 344, 347, 350, 353, 356, 359, 362, 365, 368, 371, 374, 377, 380, 383, 386, 389, 392, 395, 398, 401, 404, 407, 410, 413, 416, 419, 422, 425, 428, 431, 434, 437, 440, 443, 446, 449, 452, 455, 458, 461, 464, 467]\n",
      "z: [2, 5, 8, 11, 14, 17, 20, 23, 26, 29, 32, 35, 38, 41, 44, 47, 50, 53, 56, 59, 62, 65, 68, 71, 74, 77, 80, 83, 86, 89, 92, 95, 98, 101, 104, 107, 110, 113, 116, 119, 122, 125, 128, 131, 134, 137, 140, 143, 146, 149, 152, 155, 158, 161, 164, 167, 170, 173, 176, 179, 182, 185, 188, 191, 194, 197, 200, 203, 206, 209, 212, 215, 218, 221, 224, 227, 230, 233, 236, 239, 242, 245, 248, 251, 254, 257, 260, 263, 266, 269, 272, 275, 278, 281, 284, 287, 290, 293, 296, 299, 302, 305, 308, 311, 314, 317, 320, 323, 326, 329, 332, 335, 338, 341, 344, 347, 350, 353, 356, 359, 362, 365, 368, 371, 374, 377, 380, 383, 386, 389, 392, 395, 398, 401, 404, 407, 410, 413, 416, 419, 422, 425, 428, 431, 434, 437, 440, 443, 446, 449, 452, 455, 458, 461, 464, 467]\n",
      "\n",
      "possible input sizes when using dynamic shapes (based on output size [53, 53, 53]):\n",
      "x: [34, 37, 40, 43, 46, 49, 52, 55, 58, 61, 64, 67, 70, 73, 76, 79, 82, 85, 88, 91, 94, 97, 100, 103, 106, 109, 112, 115, 118, 121, 124, 127, 130, 133, 136, 139, 142, 145, 148, 151, 154, 157, 160, 163, 166, 169, 172, 175, 178, 181, 184, 187, 190, 193, 196, 199, 202, 205, 208, 211, 214, 217, 220, 223, 226, 229, 232, 235, 238, 241, 244, 247, 250, 253, 256, 259, 262, 265, 268, 271, 274, 277, 280, 283, 286, 289, 292, 295, 298, 301, 304, 307, 310, 313, 316, 319, 322, 325, 328, 331, 334, 337, 340, 343, 346, 349, 352, 355, 358, 361, 364, 367, 370, 373, 376, 379, 382, 385, 388, 391, 394, 397, 400, 403, 406, 409, 412, 415, 418, 421, 424, 427, 430, 433, 436, 439, 442, 445, 448, 451, 454, 457, 460, 463, 466, 469, 472, 475, 478, 481, 484, 487, 490, 493, 496, 499]\n",
      "y: [34, 37, 40, 43, 46, 49, 52, 55, 58, 61, 64, 67, 70, 73, 76, 79, 82, 85, 88, 91, 94, 97, 100, 103, 106, 109, 112, 115, 118, 121, 124, 127, 130, 133, 136, 139, 142, 145, 148, 151, 154, 157, 160, 163, 166, 169, 172, 175, 178, 181, 184, 187, 190, 193, 196, 199, 202, 205, 208, 211, 214, 217, 220, 223, 226, 229, 232, 235, 238, 241, 244, 247, 250, 253, 256, 259, 262, 265, 268, 271, 274, 277, 280, 283, 286, 289, 292, 295, 298, 301, 304, 307, 310, 313, 316, 319, 322, 325, 328, 331, 334, 337, 340, 343, 346, 349, 352, 355, 358, 361, 364, 367, 370, 373, 376, 379, 382, 385, 388, 391, 394, 397, 400, 403, 406, 409, 412, 415, 418, 421, 424, 427, 430, 433, 436, 439, 442, 445, 448, 451, 454, 457, 460, 463, 466, 469, 472, 475, 478, 481, 484, 487, 490, 493, 496, 499]\n",
      "z: [34, 37, 40, 43, 46, 49, 52, 55, 58, 61, 64, 67, 70, 73, 76, 79, 82, 85, 88, 91, 94, 97, 100, 103, 106, 109, 112, 115, 118, 121, 124, 127, 130, 133, 136, 139, 142, 145, 148, 151, 154, 157, 160, 163, 166, 169, 172, 175, 178, 181, 184, 187, 190, 193, 196, 199, 202, 205, 208, 211, 214, 217, 220, 223, 226, 229, 232, 235, 238, 241, 244, 247, 250, 253, 256, 259, 262, 265, 268, 271, 274, 277, 280, 283, 286, 289, 292, 295, 298, 301, 304, 307, 310, 313, 316, 319, 322, 325, 328, 331, 334, 337, 340, 343, 346, 349, 352, 355, 358, 361, 364, 367, 370, 373, 376, 379, 382, 385, 388, 391, 394, 397, 400, 403, 406, 409, 412, 415, 418, 421, 424, 427, 430, 433, 436, 439, 442, 445, 448, 451, 454, 457, 460, 463, 466, 469, 472, 475, 478, 481, 484, 487, 490, 493, 496, 499]\n",
      "\n",
      "Network summary:\n",
      "Model: \"functional_3\"\n",
      "__________________________________________________________________________________________________\n",
      "Layer (type)                    Output Shape         Param #     Connected to                     \n",
      "==================================================================================================\n",
      "siam0_input (InputLayer)        [(None, 85, 85, 85,  0                                            \n",
      "__________________________________________________________________________________________________\n",
      "max_pooling3d_6 (MaxPooling3D)  (None, 85, 85, 85, 1 0           siam0_input[0][0]                \n",
      "__________________________________________________________________________________________________\n",
      "max_pooling3d_7 (MaxPooling3D)  (None, 85, 85, 85, 1 0           max_pooling3d_6[0][0]            \n",
      "__________________________________________________________________________________________________\n",
      "1_0 (Conv3D)                    (None, 83, 83, 83, 3 840         max_pooling3d_7[0][0]            \n",
      "__________________________________________________________________________________________________\n",
      "batch_normalization (BatchNorma (None, 83, 83, 83, 3 120         1_0[0][0]                        \n",
      "__________________________________________________________________________________________________\n",
      "down_p1_activation1 (LeakyReLU) (None, 83, 83, 83, 3 0           batch_normalization[0][0]        \n",
      "__________________________________________________________________________________________________\n",
      "1_1 (Conv3D)                    (None, 81, 81, 81, 3 24330       down_p1_activation1[0][0]        \n",
      "__________________________________________________________________________________________________\n",
      "max_pooling3d_8 (MaxPooling3D)  (None, 27, 27, 27, 3 0           1_1[0][0]                        \n",
      "__________________________________________________________________________________________________\n",
      "batch_normalization_1 (BatchNor (None, 27, 27, 27, 3 120         max_pooling3d_8[0][0]            \n",
      "__________________________________________________________________________________________________\n",
      "down_p2_activation0 (LeakyReLU) (None, 27, 27, 27, 3 0           batch_normalization_1[0][0]      \n",
      "__________________________________________________________________________________________________\n",
      "2_0 (Conv3D)                    (None, 25, 25, 25, 6 48660       down_p2_activation0[0][0]        \n",
      "__________________________________________________________________________________________________\n",
      "batch_normalization_2 (BatchNor (None, 25, 25, 25, 6 240         2_0[0][0]                        \n",
      "__________________________________________________________________________________________________\n",
      "down_p2_activation1 (LeakyReLU) (None, 25, 25, 25, 6 0           batch_normalization_2[0][0]      \n",
      "__________________________________________________________________________________________________\n",
      "2_1 (Conv3D)                    (None, 23, 23, 23, 6 97260       down_p2_activation1[0][0]        \n",
      "__________________________________________________________________________________________________\n",
      "average_pooling3d_6 (AveragePoo (None, 23, 23, 23, 6 0           2_1[0][0]                        \n",
      "__________________________________________________________________________________________________\n",
      "batch_normalization_3 (BatchNor (None, 23, 23, 23, 6 240         average_pooling3d_6[0][0]        \n",
      "__________________________________________________________________________________________________\n",
      "up_p2_activation0 (LeakyReLU)   (None, 23, 23, 23, 6 0           batch_normalization_3[0][0]      \n",
      "__________________________________________________________________________________________________\n",
      "conv3d_8 (Conv3D)               (None, 21, 21, 21, 6 97260       up_p2_activation0[0][0]          \n",
      "__________________________________________________________________________________________________\n",
      "batch_normalization_4 (BatchNor (None, 21, 21, 21, 6 240         conv3d_8[0][0]                   \n",
      "__________________________________________________________________________________________________\n",
      "up_p2_activation1 (LeakyReLU)   (None, 21, 21, 21, 6 0           batch_normalization_4[0][0]      \n",
      "__________________________________________________________________________________________________\n",
      "conv3d_9 (Conv3D)               (None, 19, 19, 19, 3 48630       up_p2_activation1[0][0]          \n",
      "__________________________________________________________________________________________________\n",
      "up_sampling3d_6 (UpSampling3D)  (None, 57, 57, 57, 3 0           conv3d_9[0][0]                   \n",
      "__________________________________________________________________________________________________\n",
      "cropping3d_4 (Cropping3D)       (None, 57, 57, 57, 3 0           1_1[0][0]                        \n",
      "__________________________________________________________________________________________________\n",
      "average_pooling3d_7 (AveragePoo (None, 57, 57, 57, 3 0           up_sampling3d_6[0][0]            \n",
      "__________________________________________________________________________________________________\n",
      "concatenate_4 (Concatenate)     (None, 57, 57, 57, 6 0           cropping3d_4[0][0]               \n",
      "                                                                 average_pooling3d_7[0][0]        \n",
      "__________________________________________________________________________________________________\n",
      "batch_normalization_5 (BatchNor (None, 57, 57, 57, 6 240         concatenate_4[0][0]              \n",
      "__________________________________________________________________________________________________\n",
      "up_p1_activation0 (LeakyReLU)   (None, 57, 57, 57, 6 0           batch_normalization_5[0][0]      \n",
      "__________________________________________________________________________________________________\n",
      "conv3d_10 (Conv3D)              (None, 55, 55, 55, 3 48630       up_p1_activation0[0][0]          \n",
      "__________________________________________________________________________________________________\n",
      "batch_normalization_6 (BatchNor (None, 55, 55, 55, 3 120         conv3d_10[0][0]                  \n",
      "__________________________________________________________________________________________________\n",
      "up_p1_activation1 (LeakyReLU)   (None, 55, 55, 55, 3 0           batch_normalization_6[0][0]      \n",
      "__________________________________________________________________________________________________\n",
      "conv3d_11 (Conv3D)              (None, 53, 53, 53, 3 24330       up_p1_activation1[0][0]          \n",
      "__________________________________________________________________________________________________\n",
      "up_sampling3d_7 (UpSampling3D)  (None, 53, 53, 53, 3 0           conv3d_11[0][0]                  \n",
      "__________________________________________________________________________________________________\n",
      "average_pooling3d_8 (AveragePoo (None, 53, 53, 53, 3 0           up_sampling3d_7[0][0]            \n",
      "__________________________________________________________________________________________________\n",
      "up_sampling3d_8 (UpSampling3D)  (None, 53, 53, 53, 3 0           average_pooling3d_8[0][0]        \n",
      "__________________________________________________________________________________________________\n",
      "batch_normalization_7 (BatchNor (None, 53, 53, 53, 3 120         up_sampling3d_8[0][0]            \n",
      "__________________________________________________________________________________________________\n",
      "c_activation0 (LeakyReLU)       (None, 53, 53, 53, 3 0           batch_normalization_7[0][0]      \n",
      "__________________________________________________________________________________________________\n",
      "s0 (Conv3D)                     (None, 53, 53, 53, 1 31          c_activation0[0][0]              \n",
      "==================================================================================================\n",
      "Total params: 391,411\n",
      "Trainable params: 390,691\n",
      "Non-trainable params: 720\n",
      "__________________________________________________________________________________________________\n",
      "None\n",
      "With a batch size of 1 this model needs 0.637 GB on the GPU.\n"
     ]
    }
   ],
   "source": [
    "my_own_unet_model = create_generalized_unet_v2_model(\n",
    "    number_input_features=1,\n",
    "    subsample_factors_per_pathway=(\n",
    "            (1, 1, 1),\n",
    "            (3, 3, 3)\n",
    "    ),\n",
    "    kernel_sizes_per_pathway=(\n",
    "            (((3, 3, 3), (3, 3, 3)), ((3, 3, 3), (3, 3, 3))),\n",
    "            (((3, 3, 3), (3, 3, 3)), ((3, 3, 3), (3, 3, 3)))\n",
    "    ),\n",
    "    number_features_per_pathway=(\n",
    "            ((30, 30), (30, 30)),\n",
    "            ((60, 60), (60, 30))\n",
    "    ),\n",
    "    output_size=(53, 53, 53),\n",
    "    padding=\"valid\",\n",
    "    instance_normalization=False,\n",
    "    batch_normalization=True\n",
    ")"
   ],
   "metadata": {
    "collapsed": false,
    "pycharm": {
     "name": "#%%\n"
    }
   }
  },
  {
   "cell_type": "markdown",
   "source": [
    "In order to proceed, it is important to understand that a CNN can be seen as a Transformer.\n",
    "The standard view of a CNN, is that it transforms inputs into outputs, more specifically a list of arrays into another list of arrays.\n",
    "Or, sometimes viewed as transforming a certain (joint) distribution into another (join) distribution.\n",
    "Unique to DVN2 is that we keep this view on CNNs, but add the spatiality to it, thus transforming a certain list of Sample objects into another.\n",
    "To do so, DVN2 provides the KerasModel Transformer which simply wraps a CNN as a Transformer that you can use in your Transformer network.\n",
    "Using the default options, it assumes the output Sample objects have the same scale as the first input Sample object and that they are spatially centered.\n",
    "If this is not the case, you can use the ```output_affines``` and ```output_to_input``` options to specify the affine transformations from output to input and the input reference for each output, respectively."
   ],
   "metadata": {
    "collapsed": false,
    "pycharm": {
     "name": "#%% md\n"
    }
   }
  },
  {
   "cell_type": "code",
   "execution_count": 23,
   "outputs": [
    {
     "name": "stdout",
     "output_type": "stream",
     "text": [
      "Evaluation 0:\n",
      "\tOutput of Transformer 0:\n"
     ]
    },
    {
     "data": {
      "text/plain": "<Figure size 216x216 with 1 Axes>",
      "image/png": "[encoded data removed]"
     },
     "metadata": {
      "needs_background": "light"
     },
     "output_type": "display_data"
    },
    {
     "name": "stdout",
     "output_type": "stream",
     "text": [
      "Generation stopped after n=1 evaluations\n"
     ]
    }
   ],
   "source": [
    "from deepvoxnet2.components.transformers import KerasModel\n",
    "\n",
    "x_crop_pred = KerasModel(my_own_unet_model)(x_crop)\n",
    "x_buffer = Buffer(buffer_size=None)(x_crop_pred)\n",
    "x_put = Put(reference_connection=x_input)(x_buffer)\n",
    "x_put_creator = Creator(outputs=[x_put])\n",
    "visualize_creator_outputs(x_put_creator, my_val_sampler[1])"
   ],
   "metadata": {
    "collapsed": false,
    "pycharm": {
     "name": "#%%\n"
    }
   }
  },
  {
   "cell_type": "markdown",
   "source": [
    "Note how we have reconstructed a prediction by letting the crop flow through the CNN and putting it back in the original image space.\n",
    "At this point, the CNN is not trained and the weight are still random.\n",
    "How can we tune these weights?\n",
    "\n",
    "## 6.2 Tensorflow Dataset wrapper\n",
    "In fact, the only thing that we need to do is define the set of data pairs that contain learning pairs that can be used to train the CNN.\n",
    "We can simply identify the right Transformer objects, put them in a Creator and together with a Sampler make a true set of data pairs out of it.\n",
    "For this purpose, the Tensorflow Dataset is used, which is just another representation for a set of data pairs.\n",
    "The combination of a Creator and a Sampler has all information that is necessary to construct a Tensorflow Dataset."
   ],
   "metadata": {
    "collapsed": false,
    "pycharm": {
     "name": "#%% md\n"
    }
   }
  },
  {
   "cell_type": "code",
   "execution_count": 24,
   "metadata": {
    "pycharm": {
     "name": "#%%\n"
    }
   },
   "outputs": [
    {
     "name": "stdout",
     "output_type": "stream",
     "text": [
      "Generation took 2.25 s [[TensorShape([1, 85, 85, 85, 1])], [TensorShape([1, 53, 53, 53, 1])]]\n",
      "Generation took 0.00 s [[TensorShape([1, 85, 85, 85, 1])], [TensorShape([1, 53, 53, 53, 1])]]\n",
      "Generation took 0.00 s [[TensorShape([1, 85, 85, 85, 1])], [TensorShape([1, 53, 53, 53, 1])]]\n",
      "Generation took 0.00 s [[TensorShape([1, 85, 85, 85, 1])], [TensorShape([1, 53, 53, 53, 1])]]\n",
      "Generation took 0.00 s [[TensorShape([1, 85, 85, 85, 1])], [TensorShape([1, 53, 53, 53, 1])]]\n",
      "Generation took 0.00 s [[TensorShape([1, 85, 85, 85, 1])], [TensorShape([1, 53, 53, 53, 1])]]\n",
      "Generation took 0.00 s [[TensorShape([1, 85, 85, 85, 1])], [TensorShape([1, 53, 53, 53, 1])]]\n",
      "Generation took 0.00 s [[TensorShape([1, 85, 85, 85, 1])], [TensorShape([1, 53, 53, 53, 1])]]\n",
      "Generation took 1.83 s [[TensorShape([1, 85, 85, 85, 1])], [TensorShape([1, 53, 53, 53, 1])]]\n",
      "Generation took 0.00 s [[TensorShape([1, 85, 85, 85, 1])], [TensorShape([1, 53, 53, 53, 1])]]\n",
      "Generation took 0.00 s [[TensorShape([1, 85, 85, 85, 1])], [TensorShape([1, 53, 53, 53, 1])]]\n",
      "Generation took 0.00 s [[TensorShape([1, 85, 85, 85, 1])], [TensorShape([1, 53, 53, 53, 1])]]\n",
      "Generation took 0.00 s [[TensorShape([1, 85, 85, 85, 1])], [TensorShape([1, 53, 53, 53, 1])]]\n",
      "Generation took 0.00 s [[TensorShape([1, 85, 85, 85, 1])], [TensorShape([1, 53, 53, 53, 1])]]\n",
      "Generation took 0.00 s [[TensorShape([1, 85, 85, 85, 1])], [TensorShape([1, 53, 53, 53, 1])]]\n",
      "Generation took 0.00 s [[TensorShape([1, 85, 85, 85, 1])], [TensorShape([1, 53, 53, 53, 1])]]\n",
      "Generation took 1.99 s [[TensorShape([1, 85, 85, 85, 1])], [TensorShape([1, 53, 53, 53, 1])]]\n",
      "Generation took 0.00 s [[TensorShape([1, 85, 85, 85, 1])], [TensorShape([1, 53, 53, 53, 1])]]\n",
      "Generation took 0.00 s [[TensorShape([1, 85, 85, 85, 1])], [TensorShape([1, 53, 53, 53, 1])]]\n",
      "Generation took 0.00 s [[TensorShape([1, 85, 85, 85, 1])], [TensorShape([1, 53, 53, 53, 1])]]\n",
      "Generation took 0.00 s [[TensorShape([1, 85, 85, 85, 1])], [TensorShape([1, 53, 53, 53, 1])]]\n",
      "Generation took 0.00 s [[TensorShape([1, 85, 85, 85, 1])], [TensorShape([1, 53, 53, 53, 1])]]\n",
      "Generation took 0.00 s [[TensorShape([1, 85, 85, 85, 1])], [TensorShape([1, 53, 53, 53, 1])]]\n",
      "Generation took 0.00 s [[TensorShape([1, 85, 85, 85, 1])], [TensorShape([1, 53, 53, 53, 1])]]\n",
      "Generation took 1.94 s [[TensorShape([1, 85, 85, 85, 1])], [TensorShape([1, 53, 53, 53, 1])]]\n",
      "Generation took 0.00 s [[TensorShape([1, 85, 85, 85, 1])], [TensorShape([1, 53, 53, 53, 1])]]\n",
      "Generation took 0.00 s [[TensorShape([1, 85, 85, 85, 1])], [TensorShape([1, 53, 53, 53, 1])]]\n",
      "Generation took 0.00 s [[TensorShape([1, 85, 85, 85, 1])], [TensorShape([1, 53, 53, 53, 1])]]\n",
      "Generation took 0.00 s [[TensorShape([1, 85, 85, 85, 1])], [TensorShape([1, 53, 53, 53, 1])]]\n",
      "Generation took 0.00 s [[TensorShape([1, 85, 85, 85, 1])], [TensorShape([1, 53, 53, 53, 1])]]\n",
      "Generation took 0.00 s [[TensorShape([1, 85, 85, 85, 1])], [TensorShape([1, 53, 53, 53, 1])]]\n",
      "Generation took 0.00 s [[TensorShape([1, 85, 85, 85, 1])], [TensorShape([1, 53, 53, 53, 1])]]\n",
      "Generation took 1.75 s [[TensorShape([1, 85, 85, 85, 1])], [TensorShape([1, 53, 53, 53, 1])]]\n",
      "Generation took 0.00 s [[TensorShape([1, 85, 85, 85, 1])], [TensorShape([1, 53, 53, 53, 1])]]\n",
      "Generation took 0.00 s [[TensorShape([1, 85, 85, 85, 1])], [TensorShape([1, 53, 53, 53, 1])]]\n",
      "Generation took 0.00 s [[TensorShape([1, 85, 85, 85, 1])], [TensorShape([1, 53, 53, 53, 1])]]\n",
      "Generation took 0.00 s [[TensorShape([1, 85, 85, 85, 1])], [TensorShape([1, 53, 53, 53, 1])]]\n",
      "Generation took 0.00 s [[TensorShape([1, 85, 85, 85, 1])], [TensorShape([1, 53, 53, 53, 1])]]\n",
      "Generation took 0.00 s [[TensorShape([1, 85, 85, 85, 1])], [TensorShape([1, 53, 53, 53, 1])]]\n",
      "Generation took 0.00 s [[TensorShape([1, 85, 85, 85, 1])], [TensorShape([1, 53, 53, 53, 1])]]\n",
      "Generation took 1.74 s [[TensorShape([1, 85, 85, 85, 1])], [TensorShape([1, 53, 53, 53, 1])]]\n",
      "Generation took 0.00 s [[TensorShape([1, 85, 85, 85, 1])], [TensorShape([1, 53, 53, 53, 1])]]\n",
      "Generation took 0.00 s [[TensorShape([1, 85, 85, 85, 1])], [TensorShape([1, 53, 53, 53, 1])]]\n",
      "Generation took 0.00 s [[TensorShape([1, 85, 85, 85, 1])], [TensorShape([1, 53, 53, 53, 1])]]\n",
      "Generation took 0.00 s [[TensorShape([1, 85, 85, 85, 1])], [TensorShape([1, 53, 53, 53, 1])]]\n",
      "Generation took 0.00 s [[TensorShape([1, 85, 85, 85, 1])], [TensorShape([1, 53, 53, 53, 1])]]\n",
      "Generation took 0.00 s [[TensorShape([1, 85, 85, 85, 1])], [TensorShape([1, 53, 53, 53, 1])]]\n",
      "Generation took 0.00 s [[TensorShape([1, 85, 85, 85, 1])], [TensorShape([1, 53, 53, 53, 1])]]\n",
      "Generation took 1.78 s [[TensorShape([1, 85, 85, 85, 1])], [TensorShape([1, 53, 53, 53, 1])]]\n",
      "Generation took 0.00 s [[TensorShape([1, 85, 85, 85, 1])], [TensorShape([1, 53, 53, 53, 1])]]\n",
      "Generation took 0.00 s [[TensorShape([1, 85, 85, 85, 1])], [TensorShape([1, 53, 53, 53, 1])]]\n",
      "Generation took 0.00 s [[TensorShape([1, 85, 85, 85, 1])], [TensorShape([1, 53, 53, 53, 1])]]\n",
      "Generation took 0.00 s [[TensorShape([1, 85, 85, 85, 1])], [TensorShape([1, 53, 53, 53, 1])]]\n",
      "Generation took 0.00 s [[TensorShape([1, 85, 85, 85, 1])], [TensorShape([1, 53, 53, 53, 1])]]\n",
      "Generation took 0.00 s [[TensorShape([1, 85, 85, 85, 1])], [TensorShape([1, 53, 53, 53, 1])]]\n",
      "Generation took 0.00 s [[TensorShape([1, 85, 85, 85, 1])], [TensorShape([1, 53, 53, 53, 1])]]\n",
      "Generation took 2.13 s [[TensorShape([1, 85, 85, 85, 1])], [TensorShape([1, 53, 53, 53, 1])]]\n",
      "Generation took 0.00 s [[TensorShape([1, 85, 85, 85, 1])], [TensorShape([1, 53, 53, 53, 1])]]\n",
      "Generation took 0.00 s [[TensorShape([1, 85, 85, 85, 1])], [TensorShape([1, 53, 53, 53, 1])]]\n",
      "Generation took 0.00 s [[TensorShape([1, 85, 85, 85, 1])], [TensorShape([1, 53, 53, 53, 1])]]\n",
      "Generation took 0.00 s [[TensorShape([1, 85, 85, 85, 1])], [TensorShape([1, 53, 53, 53, 1])]]\n",
      "Generation took 0.00 s [[TensorShape([1, 85, 85, 85, 1])], [TensorShape([1, 53, 53, 53, 1])]]\n",
      "Generation took 0.00 s [[TensorShape([1, 85, 85, 85, 1])], [TensorShape([1, 53, 53, 53, 1])]]\n",
      "Generation took 0.00 s [[TensorShape([1, 85, 85, 85, 1])], [TensorShape([1, 53, 53, 53, 1])]]\n",
      "The entire my_tf_train_dataset contains 64 elements\n"
     ]
    }
   ],
   "source": [
    "import time\n",
    "from deepvoxnet2.components.transformers import Crop\n",
    "from deepvoxnet2.components.model import TfDataset\n",
    "\n",
    "y_crop_true = Crop(y_crop, (53, 53, 53))(y_crop)\n",
    "learning_set_creator = Creator([x_crop, y_crop_true])\n",
    "my_tf_train_dataset = TfDataset(learning_set_creator, my_train_sampler, batch_size=1)\n",
    "count = 0\n",
    "prev_time = time.time()\n",
    "for element in my_tf_train_dataset:\n",
    "    print(\"Generation took {:.2f} s\".format(time.time() - prev_time), [[sample.shape for sample in transformer_output] for transformer_output in element])\n",
    "    count += 1\n",
    "    prev_time = time.time()\n",
    "\n",
    "print(f\"The entire my_tf_train_dataset contains {count} elements\")"
   ]
  },
  {
   "cell_type": "markdown",
   "metadata": {
    "pycharm": {
     "name": "#%% md\n"
    }
   },
   "source": [
    "Using the standard options, it iterates through *my_train_sampler* only once.\n",
    "Before going to the next Identifier in the Sampler, it will ask the underlying Transformer network in the Creator to run until completion.\n",
    "This is the reason why a total of N=8\\*8 elements were produced, and that it seemed to go in blocks of 8.\n",
    "Looking at the structure and shape of an element, this is exactly what we would expect from our *learning_set_creator*.\n",
    "We could use this dataset to train the CNN.\n",
    "Using a batch size of 1, there would be 64 updates per epoch, which we could define here as one loop through the entire new set of transformed data pairs.\n",
    "In order to better shuffle across subjects (Identifiers actually) and make the generation quicker, we could play around with some options."
   ]
  },
  {
   "cell_type": "code",
   "execution_count": 25,
   "metadata": {
    "pycharm": {
     "name": "#%%\n"
    }
   },
   "outputs": [
    {
     "name": "stderr",
     "output_type": "stream",
     "text": [
      "2022-05-19 13:17:46.777759: I tensorflow/core/kernels/data/shuffle_dataset_op.cc:172] Filling up shuffle buffer (this may take a while): 41 of 64\n"
     ]
    },
    {
     "name": "stdout",
     "output_type": "stream",
     "text": [
      "Generation took 16.12 s [[TensorShape([16, 85, 85, 85, 1])], [TensorShape([16, 53, 53, 53, 1])]]\n",
      "Generation took 0.03 s [[TensorShape([16, 85, 85, 85, 1])], [TensorShape([16, 53, 53, 53, 1])]]\n",
      "Generation took 0.02 s [[TensorShape([16, 85, 85, 85, 1])], [TensorShape([16, 53, 53, 53, 1])]]\n",
      "Generation took 0.01 s [[TensorShape([16, 85, 85, 85, 1])], [TensorShape([16, 53, 53, 53, 1])]]\n",
      "The entire my_tf_train_dataset contains 4 elements\n"
     ]
    },
    {
     "name": "stderr",
     "output_type": "stream",
     "text": [
      "2022-05-19 13:17:51.178629: I tensorflow/core/kernels/data/shuffle_dataset_op.cc:221] Shuffle buffer filled.\n"
     ]
    }
   ],
   "source": [
    "my_tf_train_dataset = TfDataset(learning_set_creator, my_train_sampler, batch_size=16, shuffle_samples=64, prefetch_size=64)\n",
    "count = 0\n",
    "prev_time = time.time()\n",
    "for element in my_tf_train_dataset:\n",
    "    print(\"Generation took {:.2f} s\".format(time.time() - prev_time), [[sample.shape for sample in transformer_output] for transformer_output in element])\n",
    "    count += 1\n",
    "    prev_time = time.time()\n",
    "\n",
    "print(f\"The entire my_tf_train_dataset contains {count} elements\")"
   ]
  },
  {
   "cell_type": "markdown",
   "metadata": {
    "pycharm": {
     "name": "#%% md\n"
    }
   },
   "source": [
    "It is possible to use the native Keras routines from this point onwards to train the CNN."
   ]
  },
  {
   "cell_type": "code",
   "execution_count": 26,
   "outputs": [
    {
     "name": "stdout",
     "output_type": "stream",
     "text": [
      "Epoch 1/100\n"
     ]
    },
    {
     "name": "stderr",
     "output_type": "stream",
     "text": [
      "2022-05-19 13:18:06.962491: I tensorflow/core/kernels/data/shuffle_dataset_op.cc:172] Filling up shuffle buffer (this may take a while): 33 of 64\n",
      "2022-05-19 13:18:13.385443: I tensorflow/core/kernels/data/shuffle_dataset_op.cc:221] Shuffle buffer filled.\n"
     ]
    },
    {
     "name": "stdout",
     "output_type": "stream",
     "text": [
      "4/4 [==============================] - 236s 59s/step - loss: 0.8327\b\b\b\b\b\b\b\b\b\b\b\b\b\b\b\b\b\b\b\b\b\b\b\b\b\b\b\b\b\b\b\b\b\b\b\b\b\b\b\b\b\b\b\b\b\b\b\b\b\b\b\b\b\b\b\b\b\b\b\b\b\b\b\b\b\b\b\b\b\b\b\b\b\b\b\b\b\b\b\b\b\b\b\b\b\b\b\b\b\b\b\b\b\b\b\b\b\b\b\b\b\b\b\b\b\b\b\b\b\b\b\b\b\b\b\b\b\b\b\b\b\b\b\b\b\b\b\b\b\b\b\b\b\b\b\b\b\b\b\b\b\b\b\b\b\b\b\b\b\b\b\b\b\b\b\b\b\b\b\b\b\b\n",
      "Epoch 2/100\n"
     ]
    },
    {
     "name": "stderr",
     "output_type": "stream",
     "text": [
      "2022-05-19 13:23:38.804882: I tensorflow/core/kernels/data/shuffle_dataset_op.cc:172] Filling up shuffle buffer (this may take a while): 33 of 64\n",
      "2022-05-19 13:23:45.458972: I tensorflow/core/kernels/data/shuffle_dataset_op.cc:221] Shuffle buffer filled.\n"
     ]
    },
    {
     "name": "stdout",
     "output_type": "stream",
     "text": [
      "4/4 [==============================] - 228s 57s/step - loss: 0.7598\b\b\b\b\b\b\b\b\b\b\b\b\b\b\b\b\b\b\b\b\b\b\b\b\b\b\b\b\b\b\b\b\b\b\b\b\b\b\b\b\b\b\b\b\b\b\b\b\b\b\b\b\b\b\b\b\b\b\b\b\b\b\b\b\b\b\b\b\b\b\b\b\b\b\b\b\b\b\b\b\b\b\b\b\b\b\b\b\b\b\b\b\b\b\b\b\b\b\b\b\b\b\b\b\b\b\b\b\b\b\b\b\b\b\b\b\b\b\b\b\b\b\b\b\b\b\b\b\b\b\b\b\b\b\b\b\b\b\b\b\b\b\b\b\b\b\b\b\b\b\b\b\b\b\b\b\b\b\b\b\b\b\b\b\b\b\b\b\b\b\b\b\b\b\b\b\b\b\b\b\b\b\b\b\b\b\b\b\b\b\b\b\b\b\b\b\b\b\b\b\b\b\b\b\b\b\b\b\b\b\b\b\b\b\b\b\b\b\b\b\b\b\b\b\b\b\b\b\b\b\b\b\b\b\b\b\b\b\b\b\b\n",
      "Epoch 3/100\n"
     ]
    },
    {
     "name": "stderr",
     "output_type": "stream",
     "text": [
      "2022-05-19 13:29:01.913840: I tensorflow/core/kernels/data/shuffle_dataset_op.cc:172] Filling up shuffle buffer (this may take a while): 41 of 64\n",
      "2022-05-19 13:29:06.871815: I tensorflow/core/kernels/data/shuffle_dataset_op.cc:221] Shuffle buffer filled.\n"
     ]
    },
    {
     "name": "stdout",
     "output_type": "stream",
     "text": [
      "4/4 [==============================] - 238s 59s/step - loss: 0.7912\b\b\b\b\b\b\b\b\b\b\b\b\b\b\b\b\b\b\b\b\b\b\b\b\b\b\b\b\b\b\b\b\b\b\b\b\b\b\b\b\b\b\b\b\b\b\b\b\b\b\b\b\b\b\b\b\b\b\b\b\b\b\b\b\b\b\b\b\b\b\b\b\b\b\b\b\b\b\b\b\b\b\b\b\b\b\b\b\b\b\b\b\b\b\b\b\b\b\b\b\b\b\b\b\b\b\b\b\b\b\b\b\b\b\b\b\b\b\b\b\b\b\b\b\b\b\b\b\b\b\b\b\b\b\b\b\b\b\b\b\b\b\b\b\b\b\b\b\b\b\b\b\b\b\b\b\b\b\b\b\b\b\b\b\b\b\b\b\b\b\b\b\b\b\b\b\b\b\b\b\b\b\b\b\b\b\b\b\b\b\b\b\b\b\b\b\b\b\b\b\b\b\b\b\b\b\b\b\b\b\b\b\b\b\b\b\b\b\b\b\b\b\b\b\b\b\b\b\b\b\b\b\b\b\b\b\b\b\b\b\b\n",
      "Epoch 4/100\n"
     ]
    },
    {
     "name": "stderr",
     "output_type": "stream",
     "text": [
      "2022-05-19 13:34:36.236026: I tensorflow/core/kernels/data/shuffle_dataset_op.cc:172] Filling up shuffle buffer (this may take a while): 33 of 64\n",
      "2022-05-19 13:34:42.062329: I tensorflow/core/kernels/data/shuffle_dataset_op.cc:221] Shuffle buffer filled.\n"
     ]
    },
    {
     "name": "stdout",
     "output_type": "stream",
     "text": [
      "4/4 [==============================] - 229s 57s/step - loss: 0.6953\b\b\b\b\b\b\b\b\b\b\b\b\b\b\b\b\b\b\b\b\b\b\b\b\b\b\b\b\b\b\b\b\b\b\b\b\b\b\b\b\b\b\b\b\b\b\b\b\b\b\b\b\b\b\b\b\b\b\b\b\b\b\b\b\b\b\b\b\b\b\b\b\b\b\b\b\b\b\b\b\b\b\b\b\b\b\b\b\b\b\b\b\b\b\b\b\b\b\b\b\b\b\b\b\b\b\b\b\b\b\b\b\b\b\b\b\b\b\b\b\b\b\b\b\b\b\b\b\b\b\b\b\b\b\b\b\b\b\b\b\b\b\b\b\b\b\b\b\b\b\b\b\b\b\b\b\b\b\b\b\b\b\b\b\b\b\b\b\b\b\b\b\b\b\b\b\b\b\b\b\b\b\b\b\b\b\b\b\b\b\b\b\b\b\b\b\b\b\b\b\b\b\b\b\b\b\b\b\b\b\b\b\b\b\b\b\b\b\b\b\b\b\b\b\b\b\b\b\b\b\b\b\b\b\b\b\b\b\b\b\b\n",
      "Epoch 5/100\n"
     ]
    },
    {
     "name": "stderr",
     "output_type": "stream",
     "text": [
      "2022-05-19 13:40:01.075987: I tensorflow/core/kernels/data/shuffle_dataset_op.cc:172] Filling up shuffle buffer (this may take a while): 33 of 64\n",
      "2022-05-19 13:40:08.355069: I tensorflow/core/kernels/data/shuffle_dataset_op.cc:221] Shuffle buffer filled.\n"
     ]
    },
    {
     "name": "stdout",
     "output_type": "stream",
     "text": [
      "4/4 [==============================] - 222s 55s/step - loss: 0.7596\b\b\b\b\b\b\b\b\b\b\b\b\b\b\b\b\b\b\b\b\b\b\b\b\b\b\b\b\b\b\b\b\b\b\b\b\b\b\b\b\b\b\b\b\b\b\b\b\b\b\b\b\b\b\b\b\b\b\b\b\b\b\b\b\b\b\b\b\b\b\b\b\b\b\b\b\b\b\b\b\b\b\b\b\b\b\b\b\b\b\b\b\b\b\b\b\b\b\b\b\b\b\b\b\b\b\b\b\b\b\b\b\b\b\b\b\b\b\b\b\b\b\b\b\b\b\b\b\b\b\b\b\b\b\b\b\b\b\b\b\b\b\b\b\b\b\b\b\b\b\b\b\b\b\b\b\b\b\b\b\b\b\b\b\b\b\b\b\b\b\b\b\b\b\b\b\b\b\b\b\b\b\b\b\b\b\b\b\b\b\b\b\b\b\b\b\b\b\b\b\b\b\b\b\b\b\b\b\b\b\b\b\b\b\b\b\b\b\b\b\b\b\b\b\b\b\b\b\b\b\b\b\b\b\b\b\b\b\b\b\b\n",
      "Epoch 6/100\n"
     ]
    },
    {
     "name": "stderr",
     "output_type": "stream",
     "text": [
      "2022-05-19 13:45:18.258785: I tensorflow/core/kernels/data/shuffle_dataset_op.cc:172] Filling up shuffle buffer (this may take a while): 33 of 64\n",
      "2022-05-19 13:45:24.799788: I tensorflow/core/kernels/data/shuffle_dataset_op.cc:221] Shuffle buffer filled.\n"
     ]
    },
    {
     "name": "stdout",
     "output_type": "stream",
     "text": [
      "4/4 [==============================] - 224s 56s/step - loss: 0.7371\b\b\b\b\b\b\b\b\b\b\b\b\b\b\b\b\b\b\b\b\b\b\b\b\b\b\b\b\b\b\b\b\b\b\b\b\b\b\b\b\b\b\b\b\b\b\b\b\b\b\b\b\b\b\b\b\b\b\b\b\b\b\b\b\b\b\b\b\b\b\b\b\b\b\b\b\b\b\b\b\b\b\b\b\b\b\b\b\b\b\b\b\b\b\b\b\b\b\b\b\b\b\b\b\b\b\b\b\b\b\b\b\b\b\b\b\b\b\b\b\b\b\b\b\b\b\b\b\b\b\b\b\b\b\b\b\b\b\b\b\b\b\b\b\b\b\b\b\b\b\b\b\b\b\b\b\b\b\b\b\b\b\b\b\b\b\b\b\b\b\b\b\b\b\b\b\b\b\b\b\b\b\b\b\b\b\b\b\b\b\b\b\b\b\b\b\b\b\b\b\b\b\b\b\b\b\b\b\b\b\b\b\b\b\b\b\b\b\b\b\b\b\b\b\b\b\b\b\b\b\b\b\b\b\b\b\b\b\b\b\b\n",
      "Epoch 7/100\n"
     ]
    },
    {
     "name": "stderr",
     "output_type": "stream",
     "text": [
      "2022-05-19 13:50:37.286726: I tensorflow/core/kernels/data/shuffle_dataset_op.cc:172] Filling up shuffle buffer (this may take a while): 41 of 64\n",
      "2022-05-19 13:50:41.097342: I tensorflow/core/kernels/data/shuffle_dataset_op.cc:221] Shuffle buffer filled.\n"
     ]
    },
    {
     "name": "stdout",
     "output_type": "stream",
     "text": [
      "4/4 [==============================] - 218s 54s/step - loss: 0.7304\b\b\b\b\b\b\b\b\b\b\b\b\b\b\b\b\b\b\b\b\b\b\b\b\b\b\b\b\b\b\b\b\b\b\b\b\b\b\b\b\b\b\b\b\b\b\b\b\b\b\b\b\b\b\b\b\b\b\b\b\b\b\b\b\b\b\b\b\b\b\b\b\b\b\b\b\b\b\b\b\b\b\b\b\b\b\b\b\b\b\b\b\b\b\b\b\b\b\b\b\b\b\b\b\b\b\b\b\b\b\b\b\b\b\b\b\b\b\b\b\b\b\b\b\b\b\b\b\b\b\b\b\b\b\b\b\b\b\b\b\b\b\b\b\b\b\b\b\b\b\b\b\b\b\b\b\b\b\b\b\b\b\b\b\b\b\b\b\b\b\b\b\b\b\b\b\b\b\b\b\b\b\b\b\b\b\b\b\b\b\b\b\b\b\b\b\b\b\b\b\b\b\b\b\b\b\b\b\b\b\b\b\b\b\b\b\b\b\b\b\b\b\b\b\b\b\b\b\b\b\b\b\b\b\b\b\b\b\b\b\b\n",
      "Epoch 8/100\n"
     ]
    },
    {
     "name": "stderr",
     "output_type": "stream",
     "text": [
      "2022-05-19 13:55:43.425780: I tensorflow/core/kernels/data/shuffle_dataset_op.cc:172] Filling up shuffle buffer (this may take a while): 33 of 64\n",
      "2022-05-19 13:55:49.288234: I tensorflow/core/kernels/data/shuffle_dataset_op.cc:221] Shuffle buffer filled.\n"
     ]
    },
    {
     "name": "stdout",
     "output_type": "stream",
     "text": [
      "4/4 [==============================] - 236s 59s/step - loss: 0.7550\b\b\b\b\b\b\b\b\b\b\b\b\b\b\b\b\b\b\b\b\b\b\b\b\b\b\b\b\b\b\b\b\b\b\b\b\b\b\b\b\b\b\b\b\b\b\b\b\b\b\b\b\b\b\b\b\b\b\b\b\b\b\b\b\b\b\b\b\b\b\b\b\b\b\b\b\b\b\b\b\b\b\b\b\b\b\b\b\b\b\b\b\b\b\b\b\b\b\b\b\b\b\b\b\b\b\b\b\b\b\b\b\b\b\b\b\b\b\b\b\b\b\b\b\b\b\b\b\b\b\b\b\b\b\b\b\b\b\b\b\b\b\b\b\b\b\b\b\b\b\b\b\b\b\b\b\b\b\b\b\b\b\b\b\b\b\b\b\b\b\b\b\b\b\b\b\b\b\b\b\b\b\b\b\b\b\b\b\b\b\b\b\b\b\b\b\b\b\b\b\b\b\b\b\b\b\b\b\b\b\b\b\b\b\b\b\b\b\b\b\b\b\b\b\b\b\b\b\b\b\b\b\b\b\b\b\b\b\b\b\b\n",
      "Epoch 9/100\n"
     ]
    },
    {
     "name": "stderr",
     "output_type": "stream",
     "text": [
      "2022-05-19 14:01:16.440918: I tensorflow/core/kernels/data/shuffle_dataset_op.cc:172] Filling up shuffle buffer (this may take a while): 41 of 64\n",
      "2022-05-19 14:01:20.048109: I tensorflow/core/kernels/data/shuffle_dataset_op.cc:221] Shuffle buffer filled.\n"
     ]
    },
    {
     "name": "stdout",
     "output_type": "stream",
     "text": [
      "4/4 [==============================] - 210s 52s/step - loss: 0.6978\b\b\b\b\b\b\b\b\b\b\b\b\b\b\b\b\b\b\b\b\b\b\b\b\b\b\b\b\b\b\b\b\b\b\b\b\b\b\b\b\b\b\b\b\b\b\b\b\b\b\b\b\b\b\b\b\b\b\b\b\b\b\b\b\b\b\b\b\b\b\b\b\b\b\b\b\b\b\b\b\b\b\b\b\b\b\b\b\b\b\b\b\b\b\b\b\b\b\b\b\b\b\b\b\b\b\b\b\b\b\b\b\b\b\b\b\b\b\b\b\b\b\b\b\b\b\b\b\b\b\b\b\b\b\b\b\b\b\b\b\b\b\b\b\b\b\b\b\b\b\b\b\b\b\b\b\b\b\b\b\b\b\b\b\b\b\b\b\b\b\b\b\b\b\b\b\b\b\b\b\b\b\b\b\b\b\b\b\b\b\b\b\b\b\b\b\b\b\b\b\b\b\b\b\b\b\b\b\b\b\b\b\b\b\b\b\b\b\b\b\b\b\b\b\b\b\b\b\b\b\b\b\b\b\b\b\b\b\b\b\b\n",
      "Epoch 10/100\n"
     ]
    },
    {
     "name": "stderr",
     "output_type": "stream",
     "text": [
      "2022-05-19 14:06:11.786501: I tensorflow/core/kernels/data/shuffle_dataset_op.cc:172] Filling up shuffle buffer (this may take a while): 33 of 64\n",
      "2022-05-19 14:06:17.216443: I tensorflow/core/kernels/data/shuffle_dataset_op.cc:221] Shuffle buffer filled.\n"
     ]
    },
    {
     "name": "stdout",
     "output_type": "stream",
     "text": [
      "4/4 [==============================] - 210s 52s/step - loss: 0.7376\b\b\b\b\b\b\b\b\b\b\b\b\b\b\b\b\b\b\b\b\b\b\b\b\b\b\b\b\b\b\b\b\b\b\b\b\b\b\b\b\b\b\b\b\b\b\b\b\b\b\b\b\b\b\b\b\b\b\b\b\b\b\b\b\b\b\b\b\b\b\b\b\b\b\b\b\b\b\b\b\b\b\b\b\b\b\b\b\b\b\b\b\b\b\b\b\b\b\b\b\b\b\b\b\b\b\b\b\b\b\b\b\b\b\b\b\b\b\b\b\b\b\b\b\b\b\b\b\b\b\b\b\b\b\b\b\b\b\b\b\b\b\b\b\b\b\b\b\b\b\b\b\b\b\b\b\b\b\b\b\b\b\b\b\b\b\b\b\b\b\b\b\b\b\b\b\b\b\b\b\b\b\b\b\b\b\b\b\b\b\b\b\b\b\b\b\b\b\b\b\b\b\b\b\b\b\b\b\b\b\b\b\b\b\b\b\b\b\b\b\b\b\b\b\b\b\b\b\b\b\b\b\b\b\b\b\b\b\b\b\b\n",
      "Epoch 11/100\n"
     ]
    },
    {
     "name": "stderr",
     "output_type": "stream",
     "text": [
      "2022-05-19 14:11:07.757535: I tensorflow/core/kernels/data/shuffle_dataset_op.cc:172] Filling up shuffle buffer (this may take a while): 41 of 64\n",
      "2022-05-19 14:11:11.417106: I tensorflow/core/kernels/data/shuffle_dataset_op.cc:221] Shuffle buffer filled.\n"
     ]
    },
    {
     "name": "stdout",
     "output_type": "stream",
     "text": [
      "4/4 [==============================] - 209s 52s/step - loss: 0.7610\b\b\b\b\b\b\b\b\b\b\b\b\b\b\b\b\b\b\b\b\b\b\b\b\b\b\b\b\b\b\b\b\b\b\b\b\b\b\b\b\b\b\b\b\b\b\b\b\b\b\b\b\b\b\b\b\b\b\b\b\b\b\b\b\b\b\b\b\b\b\b\b\b\b\b\b\b\b\b\b\b\b\b\b\b\b\b\b\b\b\b\b\b\b\b\b\b\b\b\b\b\b\b\b\b\b\b\b\b\b\b\b\b\b\b\b\b\b\b\b\b\b\b\b\b\b\b\b\b\b\b\b\b\b\b\b\b\b\b\b\b\b\b\b\b\b\b\b\b\b\b\b\b\b\b\b\b\b\b\b\b\b\b\b\b\b\b\b\b\b\b\b\b\b\b\b\b\b\b\b\b\b\b\b\b\b\b\b\b\b\b\b\b\b\b\b\b\b\b\b\b\b\b\b\b\b\b\b\b\b\b\b\b\b\b\b\b\b\b\b\b\b\b\b\b\b\b\b\b\b\b\b\b\b\b\b\b\b\b\b\b\n",
      "Epoch 12/100\n"
     ]
    },
    {
     "name": "stderr",
     "output_type": "stream",
     "text": [
      "2022-05-19 14:16:01.326084: I tensorflow/core/kernels/data/shuffle_dataset_op.cc:172] Filling up shuffle buffer (this may take a while): 41 of 64\n",
      "2022-05-19 14:16:04.923732: I tensorflow/core/kernels/data/shuffle_dataset_op.cc:221] Shuffle buffer filled.\n"
     ]
    },
    {
     "name": "stdout",
     "output_type": "stream",
     "text": [
      "4/4 [==============================] - 210s 52s/step - loss: 0.6886\b\b\b\b\b\b\b\b\b\b\b\b\b\b\b\b\b\b\b\b\b\b\b\b\b\b\b\b\b\b\b\b\b\b\b\b\b\b\b\b\b\b\b\b\b\b\b\b\b\b\b\b\b\b\b\b\b\b\b\b\b\b\b\b\b\b\b\b\b\b\b\b\b\b\b\b\b\b\b\b\b\b\b\b\b\b\b\b\b\b\b\b\b\b\b\b\b\b\b\b\b\b\b\b\b\b\b\b\b\b\b\b\b\b\b\b\b\b\b\b\b\b\b\b\b\b\b\b\b\b\b\b\b\b\b\b\b\b\b\b\b\b\b\b\b\b\b\b\b\b\b\b\b\b\b\b\b\b\b\b\b\b\b\b\b\b\b\b\b\b\b\b\b\b\b\b\b\b\b\b\b\b\b\b\b\b\b\b\b\b\b\b\b\b\b\b\b\b\b\b\b\b\b\b\b\b\b\b\b\b\b\b\b\b\b\b\b\b\b\b\b\b\b\b\b\b\b\b\b\b\b\b\b\b\b\b\b\b\b\b\b\n",
      "Epoch 13/100\n"
     ]
    },
    {
     "name": "stderr",
     "output_type": "stream",
     "text": [
      "2022-05-19 14:20:55.873760: I tensorflow/core/kernels/data/shuffle_dataset_op.cc:172] Filling up shuffle buffer (this may take a while): 41 of 64\n",
      "2022-05-19 14:21:00.265837: I tensorflow/core/kernels/data/shuffle_dataset_op.cc:221] Shuffle buffer filled.\n"
     ]
    },
    {
     "name": "stdout",
     "output_type": "stream",
     "text": [
      "4/4 [==============================] - 210s 53s/step - loss: 0.7323\b\b\b\b\b\b\b\b\b\b\b\b\b\b\b\b\b\b\b\b\b\b\b\b\b\b\b\b\b\b\b\b\b\b\b\b\b\b\b\b\b\b\b\b\b\b\b\b\b\b\b\b\b\b\b\b\b\b\b\b\b\b\b\b\b\b\b\b\b\b\b\b\b\b\b\b\b\b\b\b\b\b\b\b\b\b\b\b\b\b\b\b\b\b\b\b\b\b\b\b\b\b\b\b\b\b\b\b\b\b\b\b\b\b\b\b\b\b\b\b\b\b\b\b\b\b\b\b\b\b\b\b\b\b\b\b\b\b\b\b\b\b\b\b\b\b\b\b\b\b\b\b\b\b\b\b\b\b\b\b\b\b\b\b\b\b\b\b\b\b\b\b\b\b\b\b\b\b\b\b\b\b\b\b\b\b\b\b\b\b\b\b\b\b\b\b\b\b\b\b\b\b\b\b\b\b\b\b\b\b\b\b\b\b\b\b\b\b\b\b\b\b\b\b\b\b\b\b\b\b\b\b\b\b\b\b\b\b\b\b\b\n",
      "Epoch 14/100\n"
     ]
    },
    {
     "name": "stderr",
     "output_type": "stream",
     "text": [
      "2022-05-19 14:25:51.360492: I tensorflow/core/kernels/data/shuffle_dataset_op.cc:172] Filling up shuffle buffer (this may take a while): 41 of 64\n",
      "2022-05-19 14:25:55.104687: I tensorflow/core/kernels/data/shuffle_dataset_op.cc:221] Shuffle buffer filled.\n"
     ]
    },
    {
     "name": "stdout",
     "output_type": "stream",
     "text": [
      "4/4 [==============================] - 219s 55s/step - loss: 0.7210\b\b\b\b\b\b\b\b\b\b\b\b\b\b\b\b\b\b\b\b\b\b\b\b\b\b\b\b\b\b\b\b\b\b\b\b\b\b\b\b\b\b\b\b\b\b\b\b\b\b\b\b\b\b\b\b\b\b\b\b\b\b\b\b\b\b\b\b\b\b\b\b\b\b\b\b\b\b\b\b\b\b\b\b\b\b\b\b\b\b\b\b\b\b\b\b\b\b\b\b\b\b\b\b\b\b\b\b\b\b\b\b\b\b\b\b\b\b\b\b\b\b\b\b\b\b\b\b\b\b\b\b\b\b\b\b\b\b\b\b\b\b\b\b\b\b\b\b\b\b\b\b\b\b\b\b\b\b\b\b\b\b\b\b\b\b\b\b\b\b\b\b\b\b\b\b\b\b\b\b\b\b\b\b\b\b\b\b\b\b\b\b\b\b\b\b\b\b\b\b\b\b\b\b\b\b\b\b\b\b\b\b\b\b\b\b\b\b\b\b\b\b\b\b\b\b\b\b\b\b\b\b\b\b\b\b\b\b\b\b\b\n",
      "Epoch 15/100\n"
     ]
    },
    {
     "name": "stderr",
     "output_type": "stream",
     "text": [
      "2022-05-19 14:30:56.650881: I tensorflow/core/kernels/data/shuffle_dataset_op.cc:172] Filling up shuffle buffer (this may take a while): 41 of 64\n",
      "2022-05-19 14:31:00.794722: I tensorflow/core/kernels/data/shuffle_dataset_op.cc:221] Shuffle buffer filled.\n"
     ]
    },
    {
     "name": "stdout",
     "output_type": "stream",
     "text": [
      "4/4 [==============================] - 222s 56s/step - loss: 0.6267\b\b\b\b\b\b\b\b\b\b\b\b\b\b\b\b\b\b\b\b\b\b\b\b\b\b\b\b\b\b\b\b\b\b\b\b\b\b\b\b\b\b\b\b\b\b\b\b\b\b\b\b\b\b\b\b\b\b\b\b\b\b\b\b\b\b\b\b\b\b\b\b\b\b\b\b\b\b\b\b\b\b\b\b\b\b\b\b\b\b\b\b\b\b\b\b\b\b\b\b\b\b\b\b\b\b\b\b\b\b\b\b\b\b\b\b\b\b\b\b\b\b\b\b\b\b\b\b\b\b\b\b\b\b\b\b\b\b\b\b\b\b\b\b\b\b\b\b\b\b\b\b\b\b\b\b\b\b\b\b\b\b\b\b\b\b\b\b\b\b\b\b\b\b\b\b\b\b\b\b\b\b\b\b\b\b\b\b\b\b\b\b\b\b\b\b\b\b\b\b\b\b\b\b\b\b\b\b\b\b\b\b\b\b\b\b\b\b\b\b\b\b\b\b\b\b\b\b\b\b\b\b\b\b\b\b\b\b\b\b\b\n",
      "Epoch 16/100\n"
     ]
    },
    {
     "name": "stderr",
     "output_type": "stream",
     "text": [
      "2022-05-19 14:36:05.784613: I tensorflow/core/kernels/data/shuffle_dataset_op.cc:172] Filling up shuffle buffer (this may take a while): 33 of 64\n",
      "2022-05-19 14:36:12.560121: I tensorflow/core/kernels/data/shuffle_dataset_op.cc:221] Shuffle buffer filled.\n"
     ]
    },
    {
     "name": "stdout",
     "output_type": "stream",
     "text": [
      "4/4 [==============================] - 227s 57s/step - loss: 0.6272\b\b\b\b\b\b\b\b\b\b\b\b\b\b\b\b\b\b\b\b\b\b\b\b\b\b\b\b\b\b\b\b\b\b\b\b\b\b\b\b\b\b\b\b\b\b\b\b\b\b\b\b\b\b\b\b\b\b\b\b\b\b\b\b\b\b\b\b\b\b\b\b\b\b\b\b\b\b\b\b\b\b\b\b\b\b\b\b\b\b\b\b\b\b\b\b\b\b\b\b\b\b\b\b\b\b\b\b\b\b\b\b\b\b\b\b\b\b\b\b\b\b\b\b\b\b\b\b\b\b\b\b\b\b\b\b\b\b\b\b\b\b\b\b\b\b\b\b\b\b\b\b\b\b\b\b\b\b\b\b\b\b\b\b\b\b\b\b\b\b\b\b\b\b\b\b\b\b\b\b\b\b\b\b\b\b\b\b\b\b\b\b\b\b\b\b\b\b\b\b\b\b\b\b\b\b\b\b\b\b\b\b\b\b\b\b\b\b\b\b\b\b\b\b\b\b\b\b\b\b\b\b\b\b\b\b\b\b\b\b\b\n",
      "Epoch 17/100\n"
     ]
    },
    {
     "name": "stderr",
     "output_type": "stream",
     "text": [
      "2022-05-19 14:41:28.382050: I tensorflow/core/kernels/data/shuffle_dataset_op.cc:172] Filling up shuffle buffer (this may take a while): 41 of 64\n",
      "2022-05-19 14:41:32.196590: I tensorflow/core/kernels/data/shuffle_dataset_op.cc:221] Shuffle buffer filled.\n"
     ]
    },
    {
     "name": "stdout",
     "output_type": "stream",
     "text": [
      "4/4 [==============================] - 224s 56s/step - loss: 0.6523\b\b\b\b\b\b\b\b\b\b\b\b\b\b\b\b\b\b\b\b\b\b\b\b\b\b\b\b\b\b\b\b\b\b\b\b\b\b\b\b\b\b\b\b\b\b\b\b\b\b\b\b\b\b\b\b\b\b\b\b\b\b\b\b\b\b\b\b\b\b\b\b\b\b\b\b\b\b\b\b\b\b\b\b\b\b\b\b\b\b\b\b\b\b\b\b\b\b\b\b\b\b\b\b\b\b\b\b\b\b\b\b\b\b\b\b\b\b\b\b\b\b\b\b\b\b\b\b\b\b\b\b\b\b\b\b\b\b\b\b\b\b\b\b\b\b\b\b\b\b\b\b\b\b\b\b\b\b\b\b\b\b\b\b\b\b\b\b\b\b\b\b\b\b\b\b\b\b\b\b\b\b\b\b\b\b\b\b\b\b\b\b\b\b\b\b\b\b\b\b\b\b\b\b\b\b\b\b\b\b\b\b\b\b\b\b\b\b\b\b\b\b\b\b\b\b\b\b\b\b\b\b\b\b\b\b\b\b\b\b\b\n",
      "Epoch 18/100\n"
     ]
    },
    {
     "name": "stderr",
     "output_type": "stream",
     "text": [
      "2022-05-19 14:46:42.917202: I tensorflow/core/kernels/data/shuffle_dataset_op.cc:172] Filling up shuffle buffer (this may take a while): 41 of 64\n",
      "2022-05-19 14:46:46.735249: I tensorflow/core/kernels/data/shuffle_dataset_op.cc:221] Shuffle buffer filled.\n"
     ]
    },
    {
     "name": "stdout",
     "output_type": "stream",
     "text": [
      "4/4 [==============================] - 224s 56s/step - loss: 0.6166\b\b\b\b\b\b\b\b\b\b\b\b\b\b\b\b\b\b\b\b\b\b\b\b\b\b\b\b\b\b\b\b\b\b\b\b\b\b\b\b\b\b\b\b\b\b\b\b\b\b\b\b\b\b\b\b\b\b\b\b\b\b\b\b\b\b\b\b\b\b\b\b\b\b\b\b\b\b\b\b\b\b\b\b\b\b\b\b\b\b\b\b\b\b\b\b\b\b\b\b\b\b\b\b\b\b\b\b\b\b\b\b\b\b\b\b\b\b\b\b\b\b\b\b\b\b\b\b\b\b\b\b\b\b\b\b\b\b\b\b\b\b\b\b\b\b\b\b\b\b\b\b\b\b\b\b\b\b\b\b\b\b\b\b\b\b\b\b\b\b\b\b\b\b\b\b\b\b\b\b\b\b\b\b\b\b\b\b\b\b\b\b\b\b\b\b\b\b\b\b\b\b\b\b\b\b\b\b\b\b\b\b\b\b\b\b\b\b\b\b\b\b\b\b\b\b\b\b\b\b\b\b\b\b\b\b\b\b\b\b\b\n",
      "Epoch 19/100\n"
     ]
    },
    {
     "name": "stderr",
     "output_type": "stream",
     "text": [
      "2022-05-19 14:51:52.694290: I tensorflow/core/kernels/data/shuffle_dataset_op.cc:172] Filling up shuffle buffer (this may take a while): 33 of 64\n",
      "2022-05-19 14:51:58.433125: I tensorflow/core/kernels/data/shuffle_dataset_op.cc:221] Shuffle buffer filled.\n"
     ]
    },
    {
     "name": "stdout",
     "output_type": "stream",
     "text": [
      "4/4 [==============================] - 226s 56s/step - loss: 0.6424\b\b\b\b\b\b\b\b\b\b\b\b\b\b\b\b\b\b\b\b\b\b\b\b\b\b\b\b\b\b\b\b\b\b\b\b\b\b\b\b\b\b\b\b\b\b\b\b\b\b\b\b\b\b\b\b\b\b\b\b\b\b\b\b\b\b\b\b\b\b\b\b\b\b\b\b\b\b\b\b\b\b\b\b\b\b\b\b\b\b\b\b\b\b\b\b\b\b\b\b\b\b\b\b\b\b\b\b\b\b\b\b\b\b\b\b\b\b\b\b\b\b\b\b\b\b\b\b\b\b\b\b\b\b\b\b\b\b\b\b\b\b\b\b\b\b\b\b\b\b\b\b\b\b\b\b\b\b\b\b\b\b\b\b\b\b\b\b\b\b\b\b\b\b\b\b\b\b\b\b\b\b\b\b\b\b\b\b\b\b\b\b\b\b\b\b\b\b\b\b\b\b\b\b\b\b\b\b\b\b\b\b\b\b\b\b\b\b\b\b\b\b\b\b\b\b\b\b\b\b\b\b\b\b\b\b\b\b\b\b\b\n",
      "Epoch 20/100\n"
     ]
    },
    {
     "name": "stderr",
     "output_type": "stream",
     "text": [
      "2022-05-19 14:57:10.363323: I tensorflow/core/kernels/data/shuffle_dataset_op.cc:172] Filling up shuffle buffer (this may take a while): 33 of 64\n",
      "2022-05-19 14:57:16.015256: I tensorflow/core/kernels/data/shuffle_dataset_op.cc:221] Shuffle buffer filled.\n"
     ]
    },
    {
     "name": "stdout",
     "output_type": "stream",
     "text": [
      "4/4 [==============================] - 229s 57s/step - loss: 0.6415\b\b\b\b\b\b\b\b\b\b\b\b\b\b\b\b\b\b\b\b\b\b\b\b\b\b\b\b\b\b\b\b\b\b\b\b\b\b\b\b\b\b\b\b\b\b\b\b\b\b\b\b\b\b\b\b\b\b\b\b\b\b\b\b\b\b\b\b\b\b\b\b\b\b\b\b\b\b\b\b\b\b\b\b\b\b\b\b\b\b\b\b\b\b\b\b\b\b\b\b\b\b\b\b\b\b\b\b\b\b\b\b\b\b\b\b\b\b\b\b\b\b\b\b\b\b\b\b\b\b\b\b\b\b\b\b\b\b\b\b\b\b\b\b\b\b\b\b\b\b\b\b\b\b\b\b\b\b\b\b\b\b\b\b\b\b\b\b\b\b\b\b\b\b\b\b\b\b\b\b\b\b\b\b\b\b\b\b\b\b\b\b\b\b\b\b\b\b\b\b\b\b\b\b\b\b\b\b\b\b\b\b\b\b\b\b\b\b\b\b\b\b\b\b\b\b\b\b\b\b\b\b\b\b\b\b\b\b\b\b\b\n",
      "Epoch 21/100\n"
     ]
    },
    {
     "name": "stderr",
     "output_type": "stream",
     "text": [
      "2022-05-19 15:02:28.600089: I tensorflow/core/kernels/data/shuffle_dataset_op.cc:172] Filling up shuffle buffer (this may take a while): 41 of 64\n",
      "2022-05-19 15:02:32.169659: I tensorflow/core/kernels/data/shuffle_dataset_op.cc:221] Shuffle buffer filled.\n"
     ]
    },
    {
     "name": "stdout",
     "output_type": "stream",
     "text": [
      "4/4 [==============================] - 216s 54s/step - loss: 0.6683\b\b\b\b\b\b\b\b\b\b\b\b\b\b\b\b\b\b\b\b\b\b\b\b\b\b\b\b\b\b\b\b\b\b\b\b\b\b\b\b\b\b\b\b\b\b\b\b\b\b\b\b\b\b\b\b\b\b\b\b\b\b\b\b\b\b\b\b\b\b\b\b\b\b\b\b\b\b\b\b\b\b\b\b\b\b\b\b\b\b\b\b\b\b\b\b\b\b\b\b\b\b\b\b\b\b\b\b\b\b\b\b\b\b\b\b\b\b\b\b\b\b\b\b\b\b\b\b\b\b\b\b\b\b\b\b\b\b\b\b\b\b\b\b\b\b\b\b\b\b\b\b\b\b\b\b\b\b\b\b\b\b\b\b\b\b\b\b\b\b\b\b\b\b\b\b\b\b\b\b\b\b\b\b\b\b\b\b\b\b\b\b\b\b\b\b\b\b\b\b\b\b\b\b\b\b\b\b\b\b\b\b\b\b\b\b\b\b\b\b\b\b\b\b\b\b\b\b\b\b\b\b\b\b\b\b\b\b\b\b\b\n",
      "Epoch 22/100\n"
     ]
    },
    {
     "name": "stderr",
     "output_type": "stream",
     "text": [
      "2022-05-19 15:07:32.871642: I tensorflow/core/kernels/data/shuffle_dataset_op.cc:172] Filling up shuffle buffer (this may take a while): 41 of 64\n",
      "2022-05-19 15:07:36.601427: I tensorflow/core/kernels/data/shuffle_dataset_op.cc:221] Shuffle buffer filled.\n"
     ]
    },
    {
     "name": "stdout",
     "output_type": "stream",
     "text": [
      "4/4 [==============================] - 213s 53s/step - loss: 0.5617\b\b\b\b\b\b\b\b\b\b\b\b\b\b\b\b\b\b\b\b\b\b\b\b\b\b\b\b\b\b\b\b\b\b\b\b\b\b\b\b\b\b\b\b\b\b\b\b\b\b\b\b\b\b\b\b\b\b\b\b\b\b\b\b\b\b\b\b\b\b\b\b\b\b\b\b\b\b\b\b\b\b\b\b\b\b\b\b\b\b\b\b\b\b\b\b\b\b\b\b\b\b\b\b\b\b\b\b\b\b\b\b\b\b\b\b\b\b\b\b\b\b\b\b\b\b\b\b\b\b\b\b\b\b\b\b\b\b\b\b\b\b\b\b\b\b\b\b\b\b\b\b\b\b\b\b\b\b\b\b\b\b\b\b\b\b\b\b\b\b\b\b\b\b\b\b\b\b\b\b\b\b\b\b\b\b\b\b\b\b\b\b\b\b\b\b\b\b\b\b\b\b\b\b\b\b\b\b\b\b\b\b\b\b\b\b\b\b\b\b\b\b\b\b\b\b\b\b\b\b\b\b\b\b\b\b\b\b\b\b\b\n",
      "Epoch 23/100\n"
     ]
    },
    {
     "name": "stderr",
     "output_type": "stream",
     "text": [
      "2022-05-19 15:12:33.391584: I tensorflow/core/kernels/data/shuffle_dataset_op.cc:172] Filling up shuffle buffer (this may take a while): 41 of 64\n",
      "2022-05-19 15:12:37.584100: I tensorflow/core/kernels/data/shuffle_dataset_op.cc:221] Shuffle buffer filled.\n"
     ]
    },
    {
     "name": "stdout",
     "output_type": "stream",
     "text": [
      "4/4 [==============================] - 209s 52s/step - loss: 0.6783\b\b\b\b\b\b\b\b\b\b\b\b\b\b\b\b\b\b\b\b\b\b\b\b\b\b\b\b\b\b\b\b\b\b\b\b\b\b\b\b\b\b\b\b\b\b\b\b\b\b\b\b\b\b\b\b\b\b\b\b\b\b\b\b\b\b\b\b\b\b\b\b\b\b\b\b\b\b\b\b\b\b\b\b\b\b\b\b\b\b\b\b\b\b\b\b\b\b\b\b\b\b\b\b\b\b\b\b\b\b\b\b\b\b\b\b\b\b\b\b\b\b\b\b\b\b\b\b\b\b\b\b\b\b\b\b\b\b\b\b\b\b\b\b\b\b\b\b\b\b\b\b\b\b\b\b\b\b\b\b\b\b\b\b\b\b\b\b\b\b\b\b\b\b\b\b\b\b\b\b\b\b\b\b\b\b\b\b\b\b\b\b\b\b\b\b\b\b\b\b\b\b\b\b\b\b\b\b\b\b\b\b\b\b\b\b\b\b\b\b\b\b\b\b\b\b\b\b\b\b\b\b\b\b\b\b\b\b\b\b\b\n",
      "Epoch 24/100\n"
     ]
    },
    {
     "name": "stderr",
     "output_type": "stream",
     "text": [
      "2022-05-19 15:17:29.330021: I tensorflow/core/kernels/data/shuffle_dataset_op.cc:172] Filling up shuffle buffer (this may take a while): 41 of 64\n",
      "2022-05-19 15:17:33.665958: I tensorflow/core/kernels/data/shuffle_dataset_op.cc:221] Shuffle buffer filled.\n"
     ]
    },
    {
     "name": "stdout",
     "output_type": "stream",
     "text": [
      "4/4 [==============================] - 209s 52s/step - loss: 0.7156\b\b\b\b\b\b\b\b\b\b\b\b\b\b\b\b\b\b\b\b\b\b\b\b\b\b\b\b\b\b\b\b\b\b\b\b\b\b\b\b\b\b\b\b\b\b\b\b\b\b\b\b\b\b\b\b\b\b\b\b\b\b\b\b\b\b\b\b\b\b\b\b\b\b\b\b\b\b\b\b\b\b\b\b\b\b\b\b\b\b\b\b\b\b\b\b\b\b\b\b\b\b\b\b\b\b\b\b\b\b\b\b\b\b\b\b\b\b\b\b\b\b\b\b\b\b\b\b\b\b\b\b\b\b\b\b\b\b\b\b\b\b\b\b\b\b\b\b\b\b\b\b\b\b\b\b\b\b\b\b\b\b\b\b\b\b\b\b\b\b\b\b\b\b\b\b\b\b\b\b\b\b\b\b\b\b\b\b\b\b\b\b\b\b\b\b\b\b\b\b\b\b\b\b\b\b\b\b\b\b\b\b\b\b\b\b\b\b\b\b\b\b\b\b\b\b\b\b\b\b\b\b\b\b\b\b\b\b\b\b\b\n",
      "Epoch 25/100\n"
     ]
    },
    {
     "name": "stderr",
     "output_type": "stream",
     "text": [
      "2022-05-19 15:22:22.782014: I tensorflow/core/kernels/data/shuffle_dataset_op.cc:172] Filling up shuffle buffer (this may take a while): 33 of 64\n",
      "2022-05-19 15:22:28.197738: I tensorflow/core/kernels/data/shuffle_dataset_op.cc:221] Shuffle buffer filled.\n"
     ]
    },
    {
     "name": "stdout",
     "output_type": "stream",
     "text": [
      "4/4 [==============================] - 210s 52s/step - loss: 0.5288\b\b\b\b\b\b\b\b\b\b\b\b\b\b\b\b\b\b\b\b\b\b\b\b\b\b\b\b\b\b\b\b\b\b\b\b\b\b\b\b\b\b\b\b\b\b\b\b\b\b\b\b\b\b\b\b\b\b\b\b\b\b\b\b\b\b\b\b\b\b\b\b\b\b\b\b\b\b\b\b\b\b\b\b\b\b\b\b\b\b\b\b\b\b\b\b\b\b\b\b\b\b\b\b\b\b\b\b\b\b\b\b\b\b\b\b\b\b\b\b\b\b\b\b\b\b\b\b\b\b\b\b\b\b\b\b\b\b\b\b\b\b\b\b\b\b\b\b\b\b\b\b\b\b\b\b\b\b\b\b\b\b\b\b\b\b\b\b\b\b\b\b\b\b\b\b\b\b\b\b\b\b\b\b\b\b\b\b\b\b\b\b\b\b\b\b\b\b\b\b\b\b\b\b\b\b\b\b\b\b\b\b\b\b\b\b\b\b\b\b\b\b\b\b\b\b\b\b\b\b\b\b\b\b\b\b\b\b\b\b\b\n",
      "Epoch 26/100\n"
     ]
    },
    {
     "name": "stderr",
     "output_type": "stream",
     "text": [
      "2022-05-19 15:27:19.436203: I tensorflow/core/kernels/data/shuffle_dataset_op.cc:172] Filling up shuffle buffer (this may take a while): 33 of 64\n",
      "2022-05-19 15:27:25.332020: I tensorflow/core/kernels/data/shuffle_dataset_op.cc:221] Shuffle buffer filled.\n"
     ]
    },
    {
     "name": "stdout",
     "output_type": "stream",
     "text": [
      "4/4 [==============================] - 209s 52s/step - loss: 0.6345\b\b\b\b\b\b\b\b\b\b\b\b\b\b\b\b\b\b\b\b\b\b\b\b\b\b\b\b\b\b\b\b\b\b\b\b\b\b\b\b\b\b\b\b\b\b\b\b\b\b\b\b\b\b\b\b\b\b\b\b\b\b\b\b\b\b\b\b\b\b\b\b\b\b\b\b\b\b\b\b\b\b\b\b\b\b\b\b\b\b\b\b\b\b\b\b\b\b\b\b\b\b\b\b\b\b\b\b\b\b\b\b\b\b\b\b\b\b\b\b\b\b\b\b\b\b\b\b\b\b\b\b\b\b\b\b\b\b\b\b\b\b\b\b\b\b\b\b\b\b\b\b\b\b\b\b\b\b\b\b\b\b\b\b\b\b\b\b\b\b\b\b\b\b\b\b\b\b\b\b\b\b\b\b\b\b\b\b\b\b\b\b\b\b\b\b\b\b\b\b\b\b\b\b\b\b\b\b\b\b\b\b\b\b\b\b\b\b\b\b\b\b\b\b\b\b\b\b\b\b\b\b\b\b\b\b\b\b\b\b\b\n",
      "Epoch 27/100\n"
     ]
    },
    {
     "name": "stderr",
     "output_type": "stream",
     "text": [
      "2022-05-19 15:32:15.387640: I tensorflow/core/kernels/data/shuffle_dataset_op.cc:172] Filling up shuffle buffer (this may take a while): 41 of 64\n",
      "2022-05-19 15:32:18.937969: I tensorflow/core/kernels/data/shuffle_dataset_op.cc:221] Shuffle buffer filled.\n"
     ]
    },
    {
     "name": "stdout",
     "output_type": "stream",
     "text": [
      "4/4 [==============================] - 211s 53s/step - loss: 0.7224\b\b\b\b\b\b\b\b\b\b\b\b\b\b\b\b\b\b\b\b\b\b\b\b\b\b\b\b\b\b\b\b\b\b\b\b\b\b\b\b\b\b\b\b\b\b\b\b\b\b\b\b\b\b\b\b\b\b\b\b\b\b\b\b\b\b\b\b\b\b\b\b\b\b\b\b\b\b\b\b\b\b\b\b\b\b\b\b\b\b\b\b\b\b\b\b\b\b\b\b\b\b\b\b\b\b\b\b\b\b\b\b\b\b\b\b\b\b\b\b\b\b\b\b\b\b\b\b\b\b\b\b\b\b\b\b\b\b\b\b\b\b\b\b\b\b\b\b\b\b\b\b\b\b\b\b\b\b\b\b\b\b\b\b\b\b\b\b\b\b\b\b\b\b\b\b\b\b\b\b\b\b\b\b\b\b\b\b\b\b\b\b\b\b\b\b\b\b\b\b\b\b\b\b\b\b\b\b\b\b\b\b\b\b\b\b\b\b\b\b\b\b\b\b\b\b\b\b\b\b\b\b\b\b\b\b\b\b\b\b\b\n",
      "Epoch 28/100\n"
     ]
    },
    {
     "name": "stderr",
     "output_type": "stream",
     "text": [
      "2022-05-19 15:37:11.455043: I tensorflow/core/kernels/data/shuffle_dataset_op.cc:172] Filling up shuffle buffer (this may take a while): 33 of 64\n",
      "2022-05-19 15:37:17.064213: I tensorflow/core/kernels/data/shuffle_dataset_op.cc:221] Shuffle buffer filled.\n"
     ]
    },
    {
     "name": "stdout",
     "output_type": "stream",
     "text": [
      "4/4 [==============================] - 211s 53s/step - loss: 0.5408\b\b\b\b\b\b\b\b\b\b\b\b\b\b\b\b\b\b\b\b\b\b\b\b\b\b\b\b\b\b\b\b\b\b\b\b\b\b\b\b\b\b\b\b\b\b\b\b\b\b\b\b\b\b\b\b\b\b\b\b\b\b\b\b\b\b\b\b\b\b\b\b\b\b\b\b\b\b\b\b\b\b\b\b\b\b\b\b\b\b\b\b\b\b\b\b\b\b\b\b\b\b\b\b\b\b\b\b\b\b\b\b\b\b\b\b\b\b\b\b\b\b\b\b\b\b\b\b\b\b\b\b\b\b\b\b\b\b\b\b\b\b\b\b\b\b\b\b\b\b\b\b\b\b\b\b\b\b\b\b\b\b\b\b\b\b\b\b\b\b\b\b\b\b\b\b\b\b\b\b\b\b\b\b\b\b\b\b\b\b\b\b\b\b\b\b\b\b\b\b\b\b\b\b\b\b\b\b\b\b\b\b\b\b\b\b\b\b\b\b\b\b\b\b\b\b\b\b\b\b\b\b\b\b\b\b\b\b\b\b\b\n",
      "Epoch 29/100\n"
     ]
    },
    {
     "name": "stderr",
     "output_type": "stream",
     "text": [
      "2022-05-19 15:42:08.780362: I tensorflow/core/kernels/data/shuffle_dataset_op.cc:172] Filling up shuffle buffer (this may take a while): 33 of 64\n",
      "2022-05-19 15:42:14.695177: I tensorflow/core/kernels/data/shuffle_dataset_op.cc:221] Shuffle buffer filled.\n"
     ]
    },
    {
     "name": "stdout",
     "output_type": "stream",
     "text": [
      "4/4 [==============================] - 212s 53s/step - loss: 0.5351\b\b\b\b\b\b\b\b\b\b\b\b\b\b\b\b\b\b\b\b\b\b\b\b\b\b\b\b\b\b\b\b\b\b\b\b\b\b\b\b\b\b\b\b\b\b\b\b\b\b\b\b\b\b\b\b\b\b\b\b\b\b\b\b\b\b\b\b\b\b\b\b\b\b\b\b\b\b\b\b\b\b\b\b\b\b\b\b\b\b\b\b\b\b\b\b\b\b\b\b\b\b\b\b\b\b\b\b\b\b\b\b\b\b\b\b\b\b\b\b\b\b\b\b\b\b\b\b\b\b\b\b\b\b\b\b\b\b\b\b\b\b\b\b\b\b\b\b\b\b\b\b\b\b\b\b\b\b\b\b\b\b\b\b\b\b\b\b\b\b\b\b\b\b\b\b\b\b\b\b\b\b\b\b\b\b\b\b\b\b\b\b\b\b\b\b\b\b\b\b\b\b\b\b\b\b\b\b\b\b\b\b\b\b\b\b\b\b\b\b\b\b\b\b\b\b\b\b\b\b\b\b\b\b\b\b\b\b\b\b\b\n",
      "Epoch 30/100\n"
     ]
    },
    {
     "name": "stderr",
     "output_type": "stream",
     "text": [
      "2022-05-19 15:47:10.961999: I tensorflow/core/kernels/data/shuffle_dataset_op.cc:172] Filling up shuffle buffer (this may take a while): 41 of 64\n",
      "2022-05-19 15:47:14.905584: I tensorflow/core/kernels/data/shuffle_dataset_op.cc:221] Shuffle buffer filled.\n"
     ]
    },
    {
     "name": "stdout",
     "output_type": "stream",
     "text": [
      "4/4 [==============================] - 211s 53s/step - loss: 0.6362\b\b\b\b\b\b\b\b\b\b\b\b\b\b\b\b\b\b\b\b\b\b\b\b\b\b\b\b\b\b\b\b\b\b\b\b\b\b\b\b\b\b\b\b\b\b\b\b\b\b\b\b\b\b\b\b\b\b\b\b\b\b\b\b\b\b\b\b\b\b\b\b\b\b\b\b\b\b\b\b\b\b\b\b\b\b\b\b\b\b\b\b\b\b\b\b\b\b\b\b\b\b\b\b\b\b\b\b\b\b\b\b\b\b\b\b\b\b\b\b\b\b\b\b\b\b\b\b\b\b\b\b\b\b\b\b\b\b\b\b\b\b\b\b\b\b\b\b\b\b\b\b\b\b\b\b\b\b\b\b\b\b\b\b\b\b\b\b\b\b\b\b\b\b\b\b\b\b\b\b\b\b\b\b\b\b\b\b\b\b\b\b\b\b\b\b\b\b\b\b\b\b\b\b\b\b\b\b\b\b\b\b\b\b\b\b\b\b\b\b\b\b\b\b\b\b\b\b\b\b\b\b\b\b\b\b\b\b\b\b\b\n",
      "Epoch 31/100\n"
     ]
    },
    {
     "name": "stderr",
     "output_type": "stream",
     "text": [
      "2022-05-19 15:52:08.321898: I tensorflow/core/kernels/data/shuffle_dataset_op.cc:172] Filling up shuffle buffer (this may take a while): 41 of 64\n",
      "2022-05-19 15:52:11.915668: I tensorflow/core/kernels/data/shuffle_dataset_op.cc:221] Shuffle buffer filled.\n"
     ]
    },
    {
     "name": "stdout",
     "output_type": "stream",
     "text": [
      "4/4 [==============================] - 209s 52s/step - loss: 0.5124\b\b\b\b\b\b\b\b\b\b\b\b\b\b\b\b\b\b\b\b\b\b\b\b\b\b\b\b\b\b\b\b\b\b\b\b\b\b\b\b\b\b\b\b\b\b\b\b\b\b\b\b\b\b\b\b\b\b\b\b\b\b\b\b\b\b\b\b\b\b\b\b\b\b\b\b\b\b\b\b\b\b\b\b\b\b\b\b\b\b\b\b\b\b\b\b\b\b\b\b\b\b\b\b\b\b\b\b\b\b\b\b\b\b\b\b\b\b\b\b\b\b\b\b\b\b\b\b\b\b\b\b\b\b\b\b\b\b\b\b\b\b\b\b\b\b\b\b\b\b\b\b\b\b\b\b\b\b\b\b\b\b\b\b\b\b\b\b\b\b\b\b\b\b\b\b\b\b\b\b\b\b\b\b\b\b\b\b\b\b\b\b\b\b\b\b\b\b\b\b\b\b\b\b\b\b\b\b\b\b\b\b\b\b\b\b\b\b\b\b\b\b\b\b\b\b\b\b\b\b\b\b\b\b\b\b\b\b\b\b\b\n",
      "Epoch 32/100\n"
     ]
    },
    {
     "name": "stderr",
     "output_type": "stream",
     "text": [
      "2022-05-19 15:57:01.978750: I tensorflow/core/kernels/data/shuffle_dataset_op.cc:172] Filling up shuffle buffer (this may take a while): 41 of 64\n",
      "2022-05-19 15:57:07.902053: I tensorflow/core/kernels/data/shuffle_dataset_op.cc:221] Shuffle buffer filled.\n"
     ]
    },
    {
     "name": "stdout",
     "output_type": "stream",
     "text": [
      "4/4 [==============================] - 210s 52s/step - loss: 0.5015\b\b\b\b\b\b\b\b\b\b\b\b\b\b\b\b\b\b\b\b\b\b\b\b\b\b\b\b\b\b\b\b\b\b\b\b\b\b\b\b\b\b\b\b\b\b\b\b\b\b\b\b\b\b\b\b\b\b\b\b\b\b\b\b\b\b\b\b\b\b\b\b\b\b\b\b\b\b\b\b\b\b\b\b\b\b\b\b\b\b\b\b\b\b\b\b\b\b\b\b\b\b\b\b\b\b\b\b\b\b\b\b\b\b\b\b\b\b\b\b\b\b\b\b\b\b\b\b\b\b\b\b\b\b\b\b\b\b\b\b\b\b\b\b\b\b\b\b\b\b\b\b\b\b\b\b\b\b\b\b\b\b\b\b\b\b\b\b\b\b\b\b\b\b\b\b\b\b\b\b\b\b\b\b\b\b\b\b\b\b\b\b\b\b\b\b\b\b\b\b\b\b\b\b\b\b\b\b\b\b\b\b\b\b\b\b\b\b\b\b\b\b\b\b\b\b\b\b\b\b\b\b\b\b\b\b\b\b\b\b\b\n",
      "Epoch 33/100\n"
     ]
    },
    {
     "name": "stderr",
     "output_type": "stream",
     "text": [
      "2022-05-19 16:01:59.084332: I tensorflow/core/kernels/data/shuffle_dataset_op.cc:172] Filling up shuffle buffer (this may take a while): 41 of 64\n",
      "2022-05-19 16:02:02.838452: I tensorflow/core/kernels/data/shuffle_dataset_op.cc:221] Shuffle buffer filled.\n"
     ]
    },
    {
     "name": "stdout",
     "output_type": "stream",
     "text": [
      "4/4 [==============================] - 209s 52s/step - loss: 0.4405\b\b\b\b\b\b\b\b\b\b\b\b\b\b\b\b\b\b\b\b\b\b\b\b\b\b\b\b\b\b\b\b\b\b\b\b\b\b\b\b\b\b\b\b\b\b\b\b\b\b\b\b\b\b\b\b\b\b\b\b\b\b\b\b\b\b\b\b\b\b\b\b\b\b\b\b\b\b\b\b\b\b\b\b\b\b\b\b\b\b\b\b\b\b\b\b\b\b\b\b\b\b\b\b\b\b\b\b\b\b\b\b\b\b\b\b\b\b\b\b\b\b\b\b\b\b\b\b\b\b\b\b\b\b\b\b\b\b\b\b\b\b\b\b\b\b\b\b\b\b\b\b\b\b\b\b\b\b\b\b\b\b\b\b\b\b\b\b\b\b\b\b\b\b\b\b\b\b\b\b\b\b\b\b\b\b\b\b\b\b\b\b\b\b\b\b\b\b\b\b\b\b\b\b\b\b\b\b\b\b\b\b\b\b\b\b\b\b\b\b\b\b\b\b\b\b\b\b\b\b\b\b\b\b\b\b\b\b\b\b\b\n",
      "Epoch 34/100\n"
     ]
    },
    {
     "name": "stderr",
     "output_type": "stream",
     "text": [
      "2022-05-19 16:06:52.841101: I tensorflow/core/kernels/data/shuffle_dataset_op.cc:172] Filling up shuffle buffer (this may take a while): 41 of 64\n",
      "2022-05-19 16:06:56.381728: I tensorflow/core/kernels/data/shuffle_dataset_op.cc:221] Shuffle buffer filled.\n"
     ]
    },
    {
     "name": "stdout",
     "output_type": "stream",
     "text": [
      "4/4 [==============================] - 210s 52s/step - loss: 0.5980\b\b\b\b\b\b\b\b\b\b\b\b\b\b\b\b\b\b\b\b\b\b\b\b\b\b\b\b\b\b\b\b\b\b\b\b\b\b\b\b\b\b\b\b\b\b\b\b\b\b\b\b\b\b\b\b\b\b\b\b\b\b\b\b\b\b\b\b\b\b\b\b\b\b\b\b\b\b\b\b\b\b\b\b\b\b\b\b\b\b\b\b\b\b\b\b\b\b\b\b\b\b\b\b\b\b\b\b\b\b\b\b\b\b\b\b\b\b\b\b\b\b\b\b\b\b\b\b\b\b\b\b\b\b\b\b\b\b\b\b\b\b\b\b\b\b\b\b\b\b\b\b\b\b\b\b\b\b\b\b\b\b\b\b\b\b\b\b\b\b\b\b\b\b\b\b\b\b\b\b\b\b\b\b\b\b\b\b\b\b\b\b\b\b\b\b\b\b\b\b\b\b\b\b\b\b\b\b\b\b\b\b\b\b\b\b\b\b\b\b\b\b\b\b\b\b\b\b\b\b\b\b\b\b\b\b\b\b\b\b\b\n",
      "Epoch 35/100\n"
     ]
    },
    {
     "name": "stderr",
     "output_type": "stream",
     "text": [
      "2022-05-19 16:11:47.513874: I tensorflow/core/kernels/data/shuffle_dataset_op.cc:172] Filling up shuffle buffer (this may take a while): 41 of 64\n",
      "2022-05-19 16:11:51.145293: I tensorflow/core/kernels/data/shuffle_dataset_op.cc:221] Shuffle buffer filled.\n"
     ]
    },
    {
     "name": "stdout",
     "output_type": "stream",
     "text": [
      "4/4 [==============================] - 210s 53s/step - loss: 0.5198\b\b\b\b\b\b\b\b\b\b\b\b\b\b\b\b\b\b\b\b\b\b\b\b\b\b\b\b\b\b\b\b\b\b\b\b\b\b\b\b\b\b\b\b\b\b\b\b\b\b\b\b\b\b\b\b\b\b\b\b\b\b\b\b\b\b\b\b\b\b\b\b\b\b\b\b\b\b\b\b\b\b\b\b\b\b\b\b\b\b\b\b\b\b\b\b\b\b\b\b\b\b\b\b\b\b\b\b\b\b\b\b\b\b\b\b\b\b\b\b\b\b\b\b\b\b\b\b\b\b\b\b\b\b\b\b\b\b\b\b\b\b\b\b\b\b\b\b\b\b\b\b\b\b\b\b\b\b\b\b\b\b\b\b\b\b\b\b\b\b\b\b\b\b\b\b\b\b\b\b\b\b\b\b\b\b\b\b\b\b\b\b\b\b\b\b\b\b\b\b\b\b\b\b\b\b\b\b\b\b\b\b\b\b\b\b\b\b\b\b\b\b\b\b\b\b\b\b\b\b\b\b\b\b\b\b\b\b\b\b\b\n",
      "Epoch 36/100\n"
     ]
    },
    {
     "name": "stderr",
     "output_type": "stream",
     "text": [
      "2022-05-19 16:16:42.282428: I tensorflow/core/kernels/data/shuffle_dataset_op.cc:172] Filling up shuffle buffer (this may take a while): 33 of 64\n",
      "2022-05-19 16:16:47.925483: I tensorflow/core/kernels/data/shuffle_dataset_op.cc:221] Shuffle buffer filled.\n"
     ]
    },
    {
     "name": "stdout",
     "output_type": "stream",
     "text": [
      "4/4 [==============================] - 209s 52s/step - loss: 0.6522\b\b\b\b\b\b\b\b\b\b\b\b\b\b\b\b\b\b\b\b\b\b\b\b\b\b\b\b\b\b\b\b\b\b\b\b\b\b\b\b\b\b\b\b\b\b\b\b\b\b\b\b\b\b\b\b\b\b\b\b\b\b\b\b\b\b\b\b\b\b\b\b\b\b\b\b\b\b\b\b\b\b\b\b\b\b\b\b\b\b\b\b\b\b\b\b\b\b\b\b\b\b\b\b\b\b\b\b\b\b\b\b\b\b\b\b\b\b\b\b\b\b\b\b\b\b\b\b\b\b\b\b\b\b\b\b\b\b\b\b\b\b\b\b\b\b\b\b\b\b\b\b\b\b\b\b\b\b\b\b\b\b\b\b\b\b\b\b\b\b\b\b\b\b\b\b\b\b\b\b\b\b\b\b\b\b\b\b\b\b\b\b\b\b\b\b\b\b\b\b\b\b\b\b\b\b\b\b\b\b\b\b\b\b\b\b\b\b\b\b\b\b\b\b\b\b\b\b\b\b\b\b\b\b\b\b\b\b\b\b\b\n",
      "Epoch 37/100\n"
     ]
    },
    {
     "name": "stderr",
     "output_type": "stream",
     "text": [
      "2022-05-19 16:21:37.609618: I tensorflow/core/kernels/data/shuffle_dataset_op.cc:172] Filling up shuffle buffer (this may take a while): 33 of 64\n",
      "2022-05-19 16:21:43.515309: I tensorflow/core/kernels/data/shuffle_dataset_op.cc:221] Shuffle buffer filled.\n"
     ]
    },
    {
     "name": "stdout",
     "output_type": "stream",
     "text": [
      "4/4 [==============================] - 209s 52s/step - loss: 0.5123\b\b\b\b\b\b\b\b\b\b\b\b\b\b\b\b\b\b\b\b\b\b\b\b\b\b\b\b\b\b\b\b\b\b\b\b\b\b\b\b\b\b\b\b\b\b\b\b\b\b\b\b\b\b\b\b\b\b\b\b\b\b\b\b\b\b\b\b\b\b\b\b\b\b\b\b\b\b\b\b\b\b\b\b\b\b\b\b\b\b\b\b\b\b\b\b\b\b\b\b\b\b\b\b\b\b\b\b\b\b\b\b\b\b\b\b\b\b\b\b\b\b\b\b\b\b\b\b\b\b\b\b\b\b\b\b\b\b\b\b\b\b\b\b\b\b\b\b\b\b\b\b\b\b\b\b\b\b\b\b\b\b\b\b\b\b\b\b\b\b\b\b\b\b\b\b\b\b\b\b\b\b\b\b\b\b\b\b\b\b\b\b\b\b\b\b\b\b\b\b\b\b\b\b\b\b\b\b\b\b\b\b\b\b\b\b\b\b\b\b\b\b\b\b\b\b\b\b\b\b\b\b\b\b\b\b\b\b\b\b\b\n",
      "Epoch 38/100\n"
     ]
    },
    {
     "name": "stderr",
     "output_type": "stream",
     "text": [
      "2022-05-19 16:26:34.074806: I tensorflow/core/kernels/data/shuffle_dataset_op.cc:172] Filling up shuffle buffer (this may take a while): 41 of 64\n",
      "2022-05-19 16:26:38.208046: I tensorflow/core/kernels/data/shuffle_dataset_op.cc:221] Shuffle buffer filled.\n"
     ]
    },
    {
     "name": "stdout",
     "output_type": "stream",
     "text": [
      "4/4 [==============================] - 209s 52s/step - loss: 0.6858\b\b\b\b\b\b\b\b\b\b\b\b\b\b\b\b\b\b\b\b\b\b\b\b\b\b\b\b\b\b\b\b\b\b\b\b\b\b\b\b\b\b\b\b\b\b\b\b\b\b\b\b\b\b\b\b\b\b\b\b\b\b\b\b\b\b\b\b\b\b\b\b\b\b\b\b\b\b\b\b\b\b\b\b\b\b\b\b\b\b\b\b\b\b\b\b\b\b\b\b\b\b\b\b\b\b\b\b\b\b\b\b\b\b\b\b\b\b\b\b\b\b\b\b\b\b\b\b\b\b\b\b\b\b\b\b\b\b\b\b\b\b\b\b\b\b\b\b\b\b\b\b\b\b\b\b\b\b\b\b\b\b\b\b\b\b\b\b\b\b\b\b\b\b\b\b\b\b\b\b\b\b\b\b\b\b\b\b\b\b\b\b\b\b\b\b\b\b\b\b\b\b\b\b\b\b\b\b\b\b\b\b\b\b\b\b\b\b\b\b\b\b\b\b\b\b\b\b\b\b\b\b\b\b\b\b\b\b\b\b\b\n",
      "Epoch 39/100\n"
     ]
    },
    {
     "name": "stderr",
     "output_type": "stream",
     "text": [
      "2022-05-19 16:31:28.491940: I tensorflow/core/kernels/data/shuffle_dataset_op.cc:172] Filling up shuffle buffer (this may take a while): 41 of 64\n",
      "2022-05-19 16:31:32.348224: I tensorflow/core/kernels/data/shuffle_dataset_op.cc:221] Shuffle buffer filled.\n"
     ]
    },
    {
     "name": "stdout",
     "output_type": "stream",
     "text": [
      "4/4 [==============================] - 209s 52s/step - loss: 0.5653\b\b\b\b\b\b\b\b\b\b\b\b\b\b\b\b\b\b\b\b\b\b\b\b\b\b\b\b\b\b\b\b\b\b\b\b\b\b\b\b\b\b\b\b\b\b\b\b\b\b\b\b\b\b\b\b\b\b\b\b\b\b\b\b\b\b\b\b\b\b\b\b\b\b\b\b\b\b\b\b\b\b\b\b\b\b\b\b\b\b\b\b\b\b\b\b\b\b\b\b\b\b\b\b\b\b\b\b\b\b\b\b\b\b\b\b\b\b\b\b\b\b\b\b\b\b\b\b\b\b\b\b\b\b\b\b\b\b\b\b\b\b\b\b\b\b\b\b\b\b\b\b\b\b\b\b\b\b\b\b\b\b\b\b\b\b\b\b\b\b\b\b\b\b\b\b\b\b\b\b\b\b\b\b\b\b\b\b\b\b\b\b\b\b\b\b\b\b\b\b\b\b\b\b\b\b\b\b\b\b\b\b\b\b\b\b\b\b\b\b\b\b\b\b\b\b\b\b\b\b\b\b\b\b\b\b\b\b\b\b\b\n",
      "Epoch 40/100\n"
     ]
    },
    {
     "name": "stderr",
     "output_type": "stream",
     "text": [
      "2022-05-19 16:36:23.234143: I tensorflow/core/kernels/data/shuffle_dataset_op.cc:172] Filling up shuffle buffer (this may take a while): 41 of 64\n",
      "2022-05-19 16:36:26.998450: I tensorflow/core/kernels/data/shuffle_dataset_op.cc:221] Shuffle buffer filled.\n"
     ]
    },
    {
     "name": "stdout",
     "output_type": "stream",
     "text": [
      "4/4 [==============================] - 212s 53s/step - loss: 0.4478\b\b\b\b\b\b\b\b\b\b\b\b\b\b\b\b\b\b\b\b\b\b\b\b\b\b\b\b\b\b\b\b\b\b\b\b\b\b\b\b\b\b\b\b\b\b\b\b\b\b\b\b\b\b\b\b\b\b\b\b\b\b\b\b\b\b\b\b\b\b\b\b\b\b\b\b\b\b\b\b\b\b\b\b\b\b\b\b\b\b\b\b\b\b\b\b\b\b\b\b\b\b\b\b\b\b\b\b\b\b\b\b\b\b\b\b\b\b\b\b\b\b\b\b\b\b\b\b\b\b\b\b\b\b\b\b\b\b\b\b\b\b\b\b\b\b\b\b\b\b\b\b\b\b\b\b\b\b\b\b\b\b\b\b\b\b\b\b\b\b\b\b\b\b\b\b\b\b\b\b\b\b\b\b\b\b\b\b\b\b\b\b\b\b\b\b\b\b\b\b\b\b\b\b\b\b\b\b\b\b\b\b\b\b\b\b\b\b\b\b\b\b\b\b\b\b\b\b\b\b\b\b\b\b\b\b\b\b\b\b\b\n",
      "Epoch 41/100\n"
     ]
    },
    {
     "name": "stderr",
     "output_type": "stream",
     "text": [
      "2022-05-19 16:41:19.606640: I tensorflow/core/kernels/data/shuffle_dataset_op.cc:172] Filling up shuffle buffer (this may take a while): 33 of 64\n",
      "2022-05-19 16:41:26.168072: I tensorflow/core/kernels/data/shuffle_dataset_op.cc:221] Shuffle buffer filled.\n"
     ]
    },
    {
     "name": "stdout",
     "output_type": "stream",
     "text": [
      "4/4 [==============================] - 209s 52s/step - loss: 0.5383\b\b\b\b\b\b\b\b\b\b\b\b\b\b\b\b\b\b\b\b\b\b\b\b\b\b\b\b\b\b\b\b\b\b\b\b\b\b\b\b\b\b\b\b\b\b\b\b\b\b\b\b\b\b\b\b\b\b\b\b\b\b\b\b\b\b\b\b\b\b\b\b\b\b\b\b\b\b\b\b\b\b\b\b\b\b\b\b\b\b\b\b\b\b\b\b\b\b\b\b\b\b\b\b\b\b\b\b\b\b\b\b\b\b\b\b\b\b\b\b\b\b\b\b\b\b\b\b\b\b\b\b\b\b\b\b\b\b\b\b\b\b\b\b\b\b\b\b\b\b\b\b\b\b\b\b\b\b\b\b\b\b\b\b\b\b\b\b\b\b\b\b\b\b\b\b\b\b\b\b\b\b\b\b\b\b\b\b\b\b\b\b\b\b\b\b\b\b\b\b\b\b\b\b\b\b\b\b\b\b\b\b\b\b\b\b\b\b\b\b\b\b\b\b\b\b\b\b\b\b\b\b\b\b\b\b\b\b\b\b\b\n",
      "Epoch 42/100\n"
     ]
    },
    {
     "name": "stderr",
     "output_type": "stream",
     "text": [
      "2022-05-19 16:46:18.272848: I tensorflow/core/kernels/data/shuffle_dataset_op.cc:172] Filling up shuffle buffer (this may take a while): 41 of 64\n",
      "2022-05-19 16:46:21.842504: I tensorflow/core/kernels/data/shuffle_dataset_op.cc:221] Shuffle buffer filled.\n"
     ]
    },
    {
     "name": "stdout",
     "output_type": "stream",
     "text": [
      "4/4 [==============================] - 210s 52s/step - loss: 0.5370\b\b\b\b\b\b\b\b\b\b\b\b\b\b\b\b\b\b\b\b\b\b\b\b\b\b\b\b\b\b\b\b\b\b\b\b\b\b\b\b\b\b\b\b\b\b\b\b\b\b\b\b\b\b\b\b\b\b\b\b\b\b\b\b\b\b\b\b\b\b\b\b\b\b\b\b\b\b\b\b\b\b\b\b\b\b\b\b\b\b\b\b\b\b\b\b\b\b\b\b\b\b\b\b\b\b\b\b\b\b\b\b\b\b\b\b\b\b\b\b\b\b\b\b\b\b\b\b\b\b\b\b\b\b\b\b\b\b\b\b\b\b\b\b\b\b\b\b\b\b\b\b\b\b\b\b\b\b\b\b\b\b\b\b\b\b\b\b\b\b\b\b\b\b\b\b\b\b\b\b\b\b\b\b\b\b\b\b\b\b\b\b\b\b\b\b\b\b\b\b\b\b\b\b\b\b\b\b\b\b\b\b\b\b\b\b\b\b\b\b\b\b\b\b\b\b\b\b\b\b\b\b\b\b\b\b\b\b\b\b\b\n",
      "Epoch 43/100\n"
     ]
    },
    {
     "name": "stderr",
     "output_type": "stream",
     "text": [
      "2022-05-19 16:51:13.077374: I tensorflow/core/kernels/data/shuffle_dataset_op.cc:172] Filling up shuffle buffer (this may take a while): 41 of 64\n",
      "2022-05-19 16:51:16.689310: I tensorflow/core/kernels/data/shuffle_dataset_op.cc:221] Shuffle buffer filled.\n"
     ]
    },
    {
     "name": "stdout",
     "output_type": "stream",
     "text": [
      "4/4 [==============================] - 209s 52s/step - loss: 0.4401\b\b\b\b\b\b\b\b\b\b\b\b\b\b\b\b\b\b\b\b\b\b\b\b\b\b\b\b\b\b\b\b\b\b\b\b\b\b\b\b\b\b\b\b\b\b\b\b\b\b\b\b\b\b\b\b\b\b\b\b\b\b\b\b\b\b\b\b\b\b\b\b\b\b\b\b\b\b\b\b\b\b\b\b\b\b\b\b\b\b\b\b\b\b\b\b\b\b\b\b\b\b\b\b\b\b\b\b\b\b\b\b\b\b\b\b\b\b\b\b\b\b\b\b\b\b\b\b\b\b\b\b\b\b\b\b\b\b\b\b\b\b\b\b\b\b\b\b\b\b\b\b\b\b\b\b\b\b\b\b\b\b\b\b\b\b\b\b\b\b\b\b\b\b\b\b\b\b\b\b\b\b\b\b\b\b\b\b\b\b\b\b\b\b\b\b\b\b\b\b\b\b\b\b\b\b\b\b\b\b\b\b\b\b\b\b\b\b\b\b\b\b\b\b\b\b\b\b\b\b\b\b\b\b\b\b\b\b\b\b\b\n",
      "Epoch 44/100\n"
     ]
    },
    {
     "name": "stderr",
     "output_type": "stream",
     "text": [
      "2022-05-19 16:56:07.234465: I tensorflow/core/kernels/data/shuffle_dataset_op.cc:172] Filling up shuffle buffer (this may take a while): 41 of 64\n",
      "2022-05-19 16:56:10.812261: I tensorflow/core/kernels/data/shuffle_dataset_op.cc:221] Shuffle buffer filled.\n"
     ]
    },
    {
     "name": "stdout",
     "output_type": "stream",
     "text": [
      "4/4 [==============================] - 211s 53s/step - loss: 0.5002\b\b\b\b\b\b\b\b\b\b\b\b\b\b\b\b\b\b\b\b\b\b\b\b\b\b\b\b\b\b\b\b\b\b\b\b\b\b\b\b\b\b\b\b\b\b\b\b\b\b\b\b\b\b\b\b\b\b\b\b\b\b\b\b\b\b\b\b\b\b\b\b\b\b\b\b\b\b\b\b\b\b\b\b\b\b\b\b\b\b\b\b\b\b\b\b\b\b\b\b\b\b\b\b\b\b\b\b\b\b\b\b\b\b\b\b\b\b\b\b\b\b\b\b\b\b\b\b\b\b\b\b\b\b\b\b\b\b\b\b\b\b\b\b\b\b\b\b\b\b\b\b\b\b\b\b\b\b\b\b\b\b\b\b\b\b\b\b\b\b\b\b\b\b\b\b\b\b\b\b\b\b\b\b\b\b\b\b\b\b\b\b\b\b\b\b\b\b\b\b\b\b\b\b\b\b\b\b\b\b\b\b\b\b\b\b\b\b\b\b\b\b\b\b\b\b\b\b\b\b\b\b\b\b\b\b\b\b\b\b\b\n",
      "Epoch 45/100\n"
     ]
    },
    {
     "name": "stderr",
     "output_type": "stream",
     "text": [
      "2022-05-19 17:01:03.363834: I tensorflow/core/kernels/data/shuffle_dataset_op.cc:172] Filling up shuffle buffer (this may take a while): 41 of 64\n",
      "2022-05-19 17:01:07.516662: I tensorflow/core/kernels/data/shuffle_dataset_op.cc:221] Shuffle buffer filled.\n"
     ]
    },
    {
     "name": "stdout",
     "output_type": "stream",
     "text": [
      "4/4 [==============================] - 212s 53s/step - loss: 0.6486\b\b\b\b\b\b\b\b\b\b\b\b\b\b\b\b\b\b\b\b\b\b\b\b\b\b\b\b\b\b\b\b\b\b\b\b\b\b\b\b\b\b\b\b\b\b\b\b\b\b\b\b\b\b\b\b\b\b\b\b\b\b\b\b\b\b\b\b\b\b\b\b\b\b\b\b\b\b\b\b\b\b\b\b\b\b\b\b\b\b\b\b\b\b\b\b\b\b\b\b\b\b\b\b\b\b\b\b\b\b\b\b\b\b\b\b\b\b\b\b\b\b\b\b\b\b\b\b\b\b\b\b\b\b\b\b\b\b\b\b\b\b\b\b\b\b\b\b\b\b\b\b\b\b\b\b\b\b\b\b\b\b\b\b\b\b\b\b\b\b\b\b\b\b\b\b\b\b\b\b\b\b\b\b\b\b\b\b\b\b\b\b\b\b\b\b\b\b\b\b\b\b\b\b\b\b\b\b\b\b\b\b\b\b\b\b\b\b\b\b\b\b\b\b\b\b\b\b\b\b\b\b\b\b\b\b\b\b\b\b\b\n",
      "Epoch 46/100\n"
     ]
    },
    {
     "name": "stderr",
     "output_type": "stream",
     "text": [
      "2022-05-19 17:06:00.752819: I tensorflow/core/kernels/data/shuffle_dataset_op.cc:172] Filling up shuffle buffer (this may take a while): 41 of 64\n",
      "2022-05-19 17:06:04.398907: I tensorflow/core/kernels/data/shuffle_dataset_op.cc:221] Shuffle buffer filled.\n"
     ]
    },
    {
     "name": "stdout",
     "output_type": "stream",
     "text": [
      "4/4 [==============================] - 210s 52s/step - loss: 0.5261\b\b\b\b\b\b\b\b\b\b\b\b\b\b\b\b\b\b\b\b\b\b\b\b\b\b\b\b\b\b\b\b\b\b\b\b\b\b\b\b\b\b\b\b\b\b\b\b\b\b\b\b\b\b\b\b\b\b\b\b\b\b\b\b\b\b\b\b\b\b\b\b\b\b\b\b\b\b\b\b\b\b\b\b\b\b\b\b\b\b\b\b\b\b\b\b\b\b\b\b\b\b\b\b\b\b\b\b\b\b\b\b\b\b\b\b\b\b\b\b\b\b\b\b\b\b\b\b\b\b\b\b\b\b\b\b\b\b\b\b\b\b\b\b\b\b\b\b\b\b\b\b\b\b\b\b\b\b\b\b\b\b\b\b\b\b\b\b\b\b\b\b\b\b\b\b\b\b\b\b\b\b\b\b\b\b\b\b\b\b\b\b\b\b\b\b\b\b\b\b\b\b\b\b\b\b\b\b\b\b\b\b\b\b\b\b\b\b\b\b\b\b\b\b\b\b\b\b\b\b\b\b\b\b\b\b\b\b\b\b\b\n",
      "Epoch 47/100\n"
     ]
    },
    {
     "name": "stderr",
     "output_type": "stream",
     "text": [
      "2022-05-19 17:10:55.571881: I tensorflow/core/kernels/data/shuffle_dataset_op.cc:172] Filling up shuffle buffer (this may take a while): 41 of 64\n",
      "2022-05-19 17:10:59.093366: I tensorflow/core/kernels/data/shuffle_dataset_op.cc:221] Shuffle buffer filled.\n"
     ]
    },
    {
     "name": "stdout",
     "output_type": "stream",
     "text": [
      "4/4 [==============================] - 211s 53s/step - loss: 0.4594\b\b\b\b\b\b\b\b\b\b\b\b\b\b\b\b\b\b\b\b\b\b\b\b\b\b\b\b\b\b\b\b\b\b\b\b\b\b\b\b\b\b\b\b\b\b\b\b\b\b\b\b\b\b\b\b\b\b\b\b\b\b\b\b\b\b\b\b\b\b\b\b\b\b\b\b\b\b\b\b\b\b\b\b\b\b\b\b\b\b\b\b\b\b\b\b\b\b\b\b\b\b\b\b\b\b\b\b\b\b\b\b\b\b\b\b\b\b\b\b\b\b\b\b\b\b\b\b\b\b\b\b\b\b\b\b\b\b\b\b\b\b\b\b\b\b\b\b\b\b\b\b\b\b\b\b\b\b\b\b\b\b\b\b\b\b\b\b\b\b\b\b\b\b\b\b\b\b\b\b\b\b\b\b\b\b\b\b\b\b\b\b\b\b\b\b\b\b\b\b\b\b\b\b\b\b\b\b\b\b\b\b\b\b\b\b\b\b\b\b\b\b\b\b\b\b\b\b\b\b\b\b\b\b\b\b\b\b\b\b\b\n",
      "Epoch 48/100\n"
     ]
    },
    {
     "name": "stderr",
     "output_type": "stream",
     "text": [
      "2022-05-19 17:15:51.135510: I tensorflow/core/kernels/data/shuffle_dataset_op.cc:172] Filling up shuffle buffer (this may take a while): 41 of 64\n",
      "2022-05-19 17:15:54.998750: I tensorflow/core/kernels/data/shuffle_dataset_op.cc:221] Shuffle buffer filled.\n"
     ]
    },
    {
     "name": "stdout",
     "output_type": "stream",
     "text": [
      "4/4 [==============================] - 210s 52s/step - loss: 0.4067\b\b\b\b\b\b\b\b\b\b\b\b\b\b\b\b\b\b\b\b\b\b\b\b\b\b\b\b\b\b\b\b\b\b\b\b\b\b\b\b\b\b\b\b\b\b\b\b\b\b\b\b\b\b\b\b\b\b\b\b\b\b\b\b\b\b\b\b\b\b\b\b\b\b\b\b\b\b\b\b\b\b\b\b\b\b\b\b\b\b\b\b\b\b\b\b\b\b\b\b\b\b\b\b\b\b\b\b\b\b\b\b\b\b\b\b\b\b\b\b\b\b\b\b\b\b\b\b\b\b\b\b\b\b\b\b\b\b\b\b\b\b\b\b\b\b\b\b\b\b\b\b\b\b\b\b\b\b\b\b\b\b\b\b\b\b\b\b\b\b\b\b\b\b\b\b\b\b\b\b\b\b\b\b\b\b\b\b\b\b\b\b\b\b\b\b\b\b\b\b\b\b\b\b\b\b\b\b\b\b\b\b\b\b\b\b\b\b\b\b\b\b\b\b\b\b\b\b\b\b\b\b\b\b\b\b\b\b\b\b\b\n",
      "Epoch 49/100\n"
     ]
    },
    {
     "name": "stderr",
     "output_type": "stream",
     "text": [
      "2022-05-19 17:20:46.566151: I tensorflow/core/kernels/data/shuffle_dataset_op.cc:172] Filling up shuffle buffer (this may take a while): 41 of 64\n",
      "2022-05-19 17:20:50.025576: I tensorflow/core/kernels/data/shuffle_dataset_op.cc:221] Shuffle buffer filled.\n"
     ]
    },
    {
     "name": "stdout",
     "output_type": "stream",
     "text": [
      "4/4 [==============================] - 209s 52s/step - loss: 0.4406\b\b\b\b\b\b\b\b\b\b\b\b\b\b\b\b\b\b\b\b\b\b\b\b\b\b\b\b\b\b\b\b\b\b\b\b\b\b\b\b\b\b\b\b\b\b\b\b\b\b\b\b\b\b\b\b\b\b\b\b\b\b\b\b\b\b\b\b\b\b\b\b\b\b\b\b\b\b\b\b\b\b\b\b\b\b\b\b\b\b\b\b\b\b\b\b\b\b\b\b\b\b\b\b\b\b\b\b\b\b\b\b\b\b\b\b\b\b\b\b\b\b\b\b\b\b\b\b\b\b\b\b\b\b\b\b\b\b\b\b\b\b\b\b\b\b\b\b\b\b\b\b\b\b\b\b\b\b\b\b\b\b\b\b\b\b\b\b\b\b\b\b\b\b\b\b\b\b\b\b\b\b\b\b\b\b\b\b\b\b\b\b\b\b\b\b\b\b\b\b\b\b\b\b\b\b\b\b\b\b\b\b\b\b\b\b\b\b\b\b\b\b\b\b\b\b\b\b\b\b\b\b\b\b\b\b\b\b\b\b\b\n",
      "Epoch 50/100\n"
     ]
    },
    {
     "name": "stderr",
     "output_type": "stream",
     "text": [
      "2022-05-19 17:25:40.548617: I tensorflow/core/kernels/data/shuffle_dataset_op.cc:172] Filling up shuffle buffer (this may take a while): 41 of 64\n",
      "2022-05-19 17:25:44.108942: I tensorflow/core/kernels/data/shuffle_dataset_op.cc:221] Shuffle buffer filled.\n"
     ]
    },
    {
     "name": "stdout",
     "output_type": "stream",
     "text": [
      "4/4 [==============================] - 210s 53s/step - loss: 0.6451\b\b\b\b\b\b\b\b\b\b\b\b\b\b\b\b\b\b\b\b\b\b\b\b\b\b\b\b\b\b\b\b\b\b\b\b\b\b\b\b\b\b\b\b\b\b\b\b\b\b\b\b\b\b\b\b\b\b\b\b\b\b\b\b\b\b\b\b\b\b\b\b\b\b\b\b\b\b\b\b\b\b\b\b\b\b\b\b\b\b\b\b\b\b\b\b\b\b\b\b\b\b\b\b\b\b\b\b\b\b\b\b\b\b\b\b\b\b\b\b\b\b\b\b\b\b\b\b\b\b\b\b\b\b\b\b\b\b\b\b\b\b\b\b\b\b\b\b\b\b\b\b\b\b\b\b\b\b\b\b\b\b\b\b\b\b\b\b\b\b\b\b\b\b\b\b\b\b\b\b\b\b\b\b\b\b\b\b\b\b\b\b\b\b\b\b\b\b\b\b\b\b\b\b\b\b\b\b\b\b\b\b\b\b\b\b\b\b\b\b\b\b\b\b\b\b\b\b\b\b\b\b\b\b\b\b\b\b\b\b\b\n",
      "Epoch 51/100\n"
     ]
    },
    {
     "name": "stderr",
     "output_type": "stream",
     "text": [
      "2022-05-19 17:30:36.984870: I tensorflow/core/kernels/data/shuffle_dataset_op.cc:172] Filling up shuffle buffer (this may take a while): 41 of 64\n",
      "2022-05-19 17:30:40.455481: I tensorflow/core/kernels/data/shuffle_dataset_op.cc:221] Shuffle buffer filled.\n"
     ]
    },
    {
     "name": "stdout",
     "output_type": "stream",
     "text": [
      "4/4 [==============================] - 211s 53s/step - loss: 0.4410\b\b\b\b\b\b\b\b\b\b\b\b\b\b\b\b\b\b\b\b\b\b\b\b\b\b\b\b\b\b\b\b\b\b\b\b\b\b\b\b\b\b\b\b\b\b\b\b\b\b\b\b\b\b\b\b\b\b\b\b\b\b\b\b\b\b\b\b\b\b\b\b\b\b\b\b\b\b\b\b\b\b\b\b\b\b\b\b\b\b\b\b\b\b\b\b\b\b\b\b\b\b\b\b\b\b\b\b\b\b\b\b\b\b\b\b\b\b\b\b\b\b\b\b\b\b\b\b\b\b\b\b\b\b\b\b\b\b\b\b\b\b\b\b\b\b\b\b\b\b\b\b\b\b\b\b\b\b\b\b\b\b\b\b\b\b\b\b\b\b\b\b\b\b\b\b\b\b\b\b\b\b\b\b\b\b\b\b\b\b\b\b\b\b\b\b\b\b\b\b\b\b\b\b\b\b\b\b\b\b\b\b\b\b\b\b\b\b\b\b\b\b\b\b\b\b\b\b\b\b\b\b\b\b\b\b\b\b\b\b\b\n",
      "Epoch 52/100\n"
     ]
    },
    {
     "name": "stderr",
     "output_type": "stream",
     "text": [
      "2022-05-19 17:35:33.364060: I tensorflow/core/kernels/data/shuffle_dataset_op.cc:172] Filling up shuffle buffer (this may take a while): 41 of 64\n",
      "2022-05-19 17:35:37.792855: I tensorflow/core/kernels/data/shuffle_dataset_op.cc:221] Shuffle buffer filled.\n"
     ]
    },
    {
     "name": "stdout",
     "output_type": "stream",
     "text": [
      "4/4 [==============================] - 211s 53s/step - loss: 0.5259\b\b\b\b\b\b\b\b\b\b\b\b\b\b\b\b\b\b\b\b\b\b\b\b\b\b\b\b\b\b\b\b\b\b\b\b\b\b\b\b\b\b\b\b\b\b\b\b\b\b\b\b\b\b\b\b\b\b\b\b\b\b\b\b\b\b\b\b\b\b\b\b\b\b\b\b\b\b\b\b\b\b\b\b\b\b\b\b\b\b\b\b\b\b\b\b\b\b\b\b\b\b\b\b\b\b\b\b\b\b\b\b\b\b\b\b\b\b\b\b\b\b\b\b\b\b\b\b\b\b\b\b\b\b\b\b\b\b\b\b\b\b\b\b\b\b\b\b\b\b\b\b\b\b\b\b\b\b\b\b\b\b\b\b\b\b\b\b\b\b\b\b\b\b\b\b\b\b\b\b\b\b\b\b\b\b\b\b\b\b\b\b\b\b\b\b\b\b\b\b\b\b\b\b\b\b\b\b\b\b\b\b\b\b\b\b\b\b\b\b\b\b\b\b\b\b\b\b\b\b\b\b\b\b\b\b\b\b\b\b\b\n",
      "Epoch 53/100\n"
     ]
    },
    {
     "name": "stderr",
     "output_type": "stream",
     "text": [
      "2022-05-19 17:40:33.059444: I tensorflow/core/kernels/data/shuffle_dataset_op.cc:172] Filling up shuffle buffer (this may take a while): 41 of 64\n",
      "2022-05-19 17:40:36.987794: I tensorflow/core/kernels/data/shuffle_dataset_op.cc:221] Shuffle buffer filled.\n"
     ]
    },
    {
     "name": "stdout",
     "output_type": "stream",
     "text": [
      "4/4 [==============================] - 212s 53s/step - loss: 0.6031\b\b\b\b\b\b\b\b\b\b\b\b\b\b\b\b\b\b\b\b\b\b\b\b\b\b\b\b\b\b\b\b\b\b\b\b\b\b\b\b\b\b\b\b\b\b\b\b\b\b\b\b\b\b\b\b\b\b\b\b\b\b\b\b\b\b\b\b\b\b\b\b\b\b\b\b\b\b\b\b\b\b\b\b\b\b\b\b\b\b\b\b\b\b\b\b\b\b\b\b\b\b\b\b\b\b\b\b\b\b\b\b\b\b\b\b\b\b\b\b\b\b\b\b\b\b\b\b\b\b\b\b\b\b\b\b\b\b\b\b\b\b\b\b\b\b\b\b\b\b\b\b\b\b\b\b\b\b\b\b\b\b\b\b\b\b\b\b\b\b\b\b\b\b\b\b\b\b\b\b\b\b\b\b\b\b\b\b\b\b\b\b\b\b\b\b\b\b\b\b\b\b\b\b\b\b\b\b\b\b\b\b\b\b\b\b\b\b\b\b\b\b\b\b\b\b\b\b\b\b\b\b\b\b\b\b\b\b\b\b\b\n",
      "Epoch 54/100\n"
     ]
    },
    {
     "name": "stderr",
     "output_type": "stream",
     "text": [
      "2022-05-19 17:45:30.288748: I tensorflow/core/kernels/data/shuffle_dataset_op.cc:172] Filling up shuffle buffer (this may take a while): 41 of 64\n",
      "2022-05-19 17:45:33.963104: I tensorflow/core/kernels/data/shuffle_dataset_op.cc:221] Shuffle buffer filled.\n"
     ]
    },
    {
     "name": "stdout",
     "output_type": "stream",
     "text": [
      "4/4 [==============================] - 211s 53s/step - loss: 0.4707\b\b\b\b\b\b\b\b\b\b\b\b\b\b\b\b\b\b\b\b\b\b\b\b\b\b\b\b\b\b\b\b\b\b\b\b\b\b\b\b\b\b\b\b\b\b\b\b\b\b\b\b\b\b\b\b\b\b\b\b\b\b\b\b\b\b\b\b\b\b\b\b\b\b\b\b\b\b\b\b\b\b\b\b\b\b\b\b\b\b\b\b\b\b\b\b\b\b\b\b\b\b\b\b\b\b\b\b\b\b\b\b\b\b\b\b\b\b\b\b\b\b\b\b\b\b\b\b\b\b\b\b\b\b\b\b\b\b\b\b\b\b\b\b\b\b\b\b\b\b\b\b\b\b\b\b\b\b\b\b\b\b\b\b\b\b\b\b\b\b\b\b\b\b\b\b\b\b\b\b\b\b\b\b\b\b\b\b\b\b\b\b\b\b\b\b\b\b\b\b\b\b\b\b\b\b\b\b\b\b\b\b\b\b\b\b\b\b\b\b\b\b\b\b\b\b\b\b\b\b\b\b\b\b\b\b\b\b\b\b\b\n",
      "Epoch 55/100\n"
     ]
    },
    {
     "name": "stderr",
     "output_type": "stream",
     "text": [
      "2022-05-19 17:50:27.660686: I tensorflow/core/kernels/data/shuffle_dataset_op.cc:172] Filling up shuffle buffer (this may take a while): 41 of 64\n",
      "2022-05-19 17:50:31.494428: I tensorflow/core/kernels/data/shuffle_dataset_op.cc:221] Shuffle buffer filled.\n"
     ]
    },
    {
     "name": "stdout",
     "output_type": "stream",
     "text": [
      "4/4 [==============================] - 211s 53s/step - loss: 0.5062\b\b\b\b\b\b\b\b\b\b\b\b\b\b\b\b\b\b\b\b\b\b\b\b\b\b\b\b\b\b\b\b\b\b\b\b\b\b\b\b\b\b\b\b\b\b\b\b\b\b\b\b\b\b\b\b\b\b\b\b\b\b\b\b\b\b\b\b\b\b\b\b\b\b\b\b\b\b\b\b\b\b\b\b\b\b\b\b\b\b\b\b\b\b\b\b\b\b\b\b\b\b\b\b\b\b\b\b\b\b\b\b\b\b\b\b\b\b\b\b\b\b\b\b\b\b\b\b\b\b\b\b\b\b\b\b\b\b\b\b\b\b\b\b\b\b\b\b\b\b\b\b\b\b\b\b\b\b\b\b\b\b\b\b\b\b\b\b\b\b\b\b\b\b\b\b\b\b\b\b\b\b\b\b\b\b\b\b\b\b\b\b\b\b\b\b\b\b\b\b\b\b\b\b\b\b\b\b\b\b\b\b\b\b\b\b\b\b\b\b\b\b\b\b\b\b\b\b\b\b\b\b\b\b\b\b\b\b\b\b\b\n",
      "Epoch 56/100\n"
     ]
    },
    {
     "name": "stderr",
     "output_type": "stream",
     "text": [
      "2022-05-19 17:55:25.254186: I tensorflow/core/kernels/data/shuffle_dataset_op.cc:172] Filling up shuffle buffer (this may take a while): 41 of 64\n",
      "2022-05-19 17:55:29.463714: I tensorflow/core/kernels/data/shuffle_dataset_op.cc:221] Shuffle buffer filled.\n"
     ]
    },
    {
     "name": "stdout",
     "output_type": "stream",
     "text": [
      "4/4 [==============================] - 211s 53s/step - loss: 0.4751\b\b\b\b\b\b\b\b\b\b\b\b\b\b\b\b\b\b\b\b\b\b\b\b\b\b\b\b\b\b\b\b\b\b\b\b\b\b\b\b\b\b\b\b\b\b\b\b\b\b\b\b\b\b\b\b\b\b\b\b\b\b\b\b\b\b\b\b\b\b\b\b\b\b\b\b\b\b\b\b\b\b\b\b\b\b\b\b\b\b\b\b\b\b\b\b\b\b\b\b\b\b\b\b\b\b\b\b\b\b\b\b\b\b\b\b\b\b\b\b\b\b\b\b\b\b\b\b\b\b\b\b\b\b\b\b\b\b\b\b\b\b\b\b\b\b\b\b\b\b\b\b\b\b\b\b\b\b\b\b\b\b\b\b\b\b\b\b\b\b\b\b\b\b\b\b\b\b\b\b\b\b\b\b\b\b\b\b\b\b\b\b\b\b\b\b\b\b\b\b\b\b\b\b\b\b\b\b\b\b\b\b\b\b\b\b\b\b\b\b\b\b\b\b\b\b\b\b\b\b\b\b\b\b\b\b\b\b\b\b\b\n",
      "Epoch 57/100\n"
     ]
    },
    {
     "name": "stderr",
     "output_type": "stream",
     "text": [
      "2022-05-19 18:00:22.530804: I tensorflow/core/kernels/data/shuffle_dataset_op.cc:172] Filling up shuffle buffer (this may take a while): 41 of 64\n",
      "2022-05-19 18:00:26.264415: I tensorflow/core/kernels/data/shuffle_dataset_op.cc:221] Shuffle buffer filled.\n"
     ]
    },
    {
     "name": "stdout",
     "output_type": "stream",
     "text": [
      "4/4 [==============================] - 212s 53s/step - loss: 0.3846\b\b\b\b\b\b\b\b\b\b\b\b\b\b\b\b\b\b\b\b\b\b\b\b\b\b\b\b\b\b\b\b\b\b\b\b\b\b\b\b\b\b\b\b\b\b\b\b\b\b\b\b\b\b\b\b\b\b\b\b\b\b\b\b\b\b\b\b\b\b\b\b\b\b\b\b\b\b\b\b\b\b\b\b\b\b\b\b\b\b\b\b\b\b\b\b\b\b\b\b\b\b\b\b\b\b\b\b\b\b\b\b\b\b\b\b\b\b\b\b\b\b\b\b\b\b\b\b\b\b\b\b\b\b\b\b\b\b\b\b\b\b\b\b\b\b\b\b\b\b\b\b\b\b\b\b\b\b\b\b\b\b\b\b\b\b\b\b\b\b\b\b\b\b\b\b\b\b\b\b\b\b\b\b\b\b\b\b\b\b\b\b\b\b\b\b\b\b\b\b\b\b\b\b\b\b\b\b\b\b\b\b\b\b\b\b\b\b\b\b\b\b\b\b\b\b\b\b\b\b\b\b\b\b\b\b\b\b\b\b\b\n",
      "Epoch 58/100\n"
     ]
    },
    {
     "name": "stderr",
     "output_type": "stream",
     "text": [
      "2022-05-19 18:05:20.955925: I tensorflow/core/kernels/data/shuffle_dataset_op.cc:172] Filling up shuffle buffer (this may take a while): 41 of 64\n",
      "2022-05-19 18:05:24.548052: I tensorflow/core/kernels/data/shuffle_dataset_op.cc:221] Shuffle buffer filled.\n"
     ]
    },
    {
     "name": "stdout",
     "output_type": "stream",
     "text": [
      "4/4 [==============================] - 212s 53s/step - loss: 0.4849\b\b\b\b\b\b\b\b\b\b\b\b\b\b\b\b\b\b\b\b\b\b\b\b\b\b\b\b\b\b\b\b\b\b\b\b\b\b\b\b\b\b\b\b\b\b\b\b\b\b\b\b\b\b\b\b\b\b\b\b\b\b\b\b\b\b\b\b\b\b\b\b\b\b\b\b\b\b\b\b\b\b\b\b\b\b\b\b\b\b\b\b\b\b\b\b\b\b\b\b\b\b\b\b\b\b\b\b\b\b\b\b\b\b\b\b\b\b\b\b\b\b\b\b\b\b\b\b\b\b\b\b\b\b\b\b\b\b\b\b\b\b\b\b\b\b\b\b\b\b\b\b\b\b\b\b\b\b\b\b\b\b\b\b\b\b\b\b\b\b\b\b\b\b\b\b\b\b\b\b\b\b\b\b\b\b\b\b\b\b\b\b\b\b\b\b\b\b\b\b\b\b\b\b\b\b\b\b\b\b\b\b\b\b\b\b\b\b\b\b\b\b\b\b\b\b\b\b\b\b\b\b\b\b\b\b\b\b\b\b\b\n",
      "Epoch 59/100\n"
     ]
    },
    {
     "name": "stderr",
     "output_type": "stream",
     "text": [
      "2022-05-19 18:10:18.375557: I tensorflow/core/kernels/data/shuffle_dataset_op.cc:172] Filling up shuffle buffer (this may take a while): 41 of 64\n",
      "2022-05-19 18:10:22.238561: I tensorflow/core/kernels/data/shuffle_dataset_op.cc:221] Shuffle buffer filled.\n"
     ]
    },
    {
     "name": "stdout",
     "output_type": "stream",
     "text": [
      "4/4 [==============================] - 213s 53s/step - loss: 0.3781\b\b\b\b\b\b\b\b\b\b\b\b\b\b\b\b\b\b\b\b\b\b\b\b\b\b\b\b\b\b\b\b\b\b\b\b\b\b\b\b\b\b\b\b\b\b\b\b\b\b\b\b\b\b\b\b\b\b\b\b\b\b\b\b\b\b\b\b\b\b\b\b\b\b\b\b\b\b\b\b\b\b\b\b\b\b\b\b\b\b\b\b\b\b\b\b\b\b\b\b\b\b\b\b\b\b\b\b\b\b\b\b\b\b\b\b\b\b\b\b\b\b\b\b\b\b\b\b\b\b\b\b\b\b\b\b\b\b\b\b\b\b\b\b\b\b\b\b\b\b\b\b\b\b\b\b\b\b\b\b\b\b\b\b\b\b\b\b\b\b\b\b\b\b\b\b\b\b\b\b\b\b\b\b\b\b\b\b\b\b\b\b\b\b\b\b\b\b\b\b\b\b\b\b\b\b\b\b\b\b\b\b\b\b\b\b\b\b\b\b\b\b\b\b\b\b\b\b\b\b\b\b\b\b\b\b\b\b\b\b\b\n",
      "Epoch 60/100\n"
     ]
    },
    {
     "name": "stderr",
     "output_type": "stream",
     "text": [
      "2022-05-19 18:15:17.288160: I tensorflow/core/kernels/data/shuffle_dataset_op.cc:172] Filling up shuffle buffer (this may take a while): 41 of 64\n",
      "2022-05-19 18:15:21.052753: I tensorflow/core/kernels/data/shuffle_dataset_op.cc:221] Shuffle buffer filled.\n"
     ]
    },
    {
     "name": "stdout",
     "output_type": "stream",
     "text": [
      "4/4 [==============================] - 212s 53s/step - loss: 0.5281\b\b\b\b\b\b\b\b\b\b\b\b\b\b\b\b\b\b\b\b\b\b\b\b\b\b\b\b\b\b\b\b\b\b\b\b\b\b\b\b\b\b\b\b\b\b\b\b\b\b\b\b\b\b\b\b\b\b\b\b\b\b\b\b\b\b\b\b\b\b\b\b\b\b\b\b\b\b\b\b\b\b\b\b\b\b\b\b\b\b\b\b\b\b\b\b\b\b\b\b\b\b\b\b\b\b\b\b\b\b\b\b\b\b\b\b\b\b\b\b\b\b\b\b\b\b\b\b\b\b\b\b\b\b\b\b\b\b\b\b\b\b\b\b\b\b\b\b\b\b\b\b\b\b\b\b\b\b\b\b\b\b\b\b\b\b\b\b\b\b\b\b\b\b\b\b\b\b\b\b\b\b\b\b\b\b\b\b\b\b\b\b\b\b\b\b\b\b\b\b\b\b\b\b\b\b\b\b\b\b\b\b\b\b\b\b\b\b\b\b\b\b\b\b\b\b\b\b\b\b\b\b\b\b\b\b\b\b\b\b\b\n",
      "Epoch 61/100\n"
     ]
    },
    {
     "name": "stderr",
     "output_type": "stream",
     "text": [
      "2022-05-19 18:20:14.523440: I tensorflow/core/kernels/data/shuffle_dataset_op.cc:172] Filling up shuffle buffer (this may take a while): 33 of 64\n",
      "2022-05-19 18:20:20.061884: I tensorflow/core/kernels/data/shuffle_dataset_op.cc:221] Shuffle buffer filled.\n"
     ]
    },
    {
     "name": "stdout",
     "output_type": "stream",
     "text": [
      "4/4 [==============================] - 212s 53s/step - loss: 0.6546\b\b\b\b\b\b\b\b\b\b\b\b\b\b\b\b\b\b\b\b\b\b\b\b\b\b\b\b\b\b\b\b\b\b\b\b\b\b\b\b\b\b\b\b\b\b\b\b\b\b\b\b\b\b\b\b\b\b\b\b\b\b\b\b\b\b\b\b\b\b\b\b\b\b\b\b\b\b\b\b\b\b\b\b\b\b\b\b\b\b\b\b\b\b\b\b\b\b\b\b\b\b\b\b\b\b\b\b\b\b\b\b\b\b\b\b\b\b\b\b\b\b\b\b\b\b\b\b\b\b\b\b\b\b\b\b\b\b\b\b\b\b\b\b\b\b\b\b\b\b\b\b\b\b\b\b\b\b\b\b\b\b\b\b\b\b\b\b\b\b\b\b\b\b\b\b\b\b\b\b\b\b\b\b\b\b\b\b\b\b\b\b\b\b\b\b\b\b\b\b\b\b\b\b\b\b\b\b\b\b\b\b\b\b\b\b\b\b\b\b\b\b\b\b\b\b\b\b\b\b\b\b\b\b\b\b\b\b\b\b\b\n",
      "Epoch 62/100\n"
     ]
    },
    {
     "name": "stderr",
     "output_type": "stream",
     "text": [
      "2022-05-19 18:25:14.432407: I tensorflow/core/kernels/data/shuffle_dataset_op.cc:172] Filling up shuffle buffer (this may take a while): 41 of 64\n",
      "2022-05-19 18:25:18.248514: I tensorflow/core/kernels/data/shuffle_dataset_op.cc:221] Shuffle buffer filled.\n"
     ]
    },
    {
     "name": "stdout",
     "output_type": "stream",
     "text": [
      "4/4 [==============================] - 211s 53s/step - loss: 0.3341\b\b\b\b\b\b\b\b\b\b\b\b\b\b\b\b\b\b\b\b\b\b\b\b\b\b\b\b\b\b\b\b\b\b\b\b\b\b\b\b\b\b\b\b\b\b\b\b\b\b\b\b\b\b\b\b\b\b\b\b\b\b\b\b\b\b\b\b\b\b\b\b\b\b\b\b\b\b\b\b\b\b\b\b\b\b\b\b\b\b\b\b\b\b\b\b\b\b\b\b\b\b\b\b\b\b\b\b\b\b\b\b\b\b\b\b\b\b\b\b\b\b\b\b\b\b\b\b\b\b\b\b\b\b\b\b\b\b\b\b\b\b\b\b\b\b\b\b\b\b\b\b\b\b\b\b\b\b\b\b\b\b\b\b\b\b\b\b\b\b\b\b\b\b\b\b\b\b\b\b\b\b\b\b\b\b\b\b\b\b\b\b\b\b\b\b\b\b\b\b\b\b\b\b\b\b\b\b\b\b\b\b\b\b\b\b\b\b\b\b\b\b\b\b\b\b\b\b\b\b\b\b\b\b\b\b\b\b\b\b\b\n",
      "Epoch 63/100\n"
     ]
    },
    {
     "name": "stderr",
     "output_type": "stream",
     "text": [
      "2022-05-19 18:30:11.623099: I tensorflow/core/kernels/data/shuffle_dataset_op.cc:172] Filling up shuffle buffer (this may take a while): 41 of 64\n",
      "2022-05-19 18:30:15.662999: I tensorflow/core/kernels/data/shuffle_dataset_op.cc:221] Shuffle buffer filled.\n"
     ]
    },
    {
     "name": "stdout",
     "output_type": "stream",
     "text": [
      "4/4 [==============================] - 212s 53s/step - loss: 0.5170\b\b\b\b\b\b\b\b\b\b\b\b\b\b\b\b\b\b\b\b\b\b\b\b\b\b\b\b\b\b\b\b\b\b\b\b\b\b\b\b\b\b\b\b\b\b\b\b\b\b\b\b\b\b\b\b\b\b\b\b\b\b\b\b\b\b\b\b\b\b\b\b\b\b\b\b\b\b\b\b\b\b\b\b\b\b\b\b\b\b\b\b\b\b\b\b\b\b\b\b\b\b\b\b\b\b\b\b\b\b\b\b\b\b\b\b\b\b\b\b\b\b\b\b\b\b\b\b\b\b\b\b\b\b\b\b\b\b\b\b\b\b\b\b\b\b\b\b\b\b\b\b\b\b\b\b\b\b\b\b\b\b\b\b\b\b\b\b\b\b\b\b\b\b\b\b\b\b\b\b\b\b\b\b\b\b\b\b\b\b\b\b\b\b\b\b\b\b\b\b\b\b\b\b\b\b\b\b\b\b\b\b\b\b\b\b\b\b\b\b\b\b\b\b\b\b\b\b\b\b\b\b\b\b\b\b\b\b\b\b\b\n",
      "Epoch 64/100\n"
     ]
    },
    {
     "name": "stderr",
     "output_type": "stream",
     "text": [
      "2022-05-19 18:35:11.063515: I tensorflow/core/kernels/data/shuffle_dataset_op.cc:172] Filling up shuffle buffer (this may take a while): 41 of 64\n",
      "2022-05-19 18:35:14.833112: I tensorflow/core/kernels/data/shuffle_dataset_op.cc:221] Shuffle buffer filled.\n"
     ]
    },
    {
     "name": "stdout",
     "output_type": "stream",
     "text": [
      "4/4 [==============================] - 211s 53s/step - loss: 0.3977\b\b\b\b\b\b\b\b\b\b\b\b\b\b\b\b\b\b\b\b\b\b\b\b\b\b\b\b\b\b\b\b\b\b\b\b\b\b\b\b\b\b\b\b\b\b\b\b\b\b\b\b\b\b\b\b\b\b\b\b\b\b\b\b\b\b\b\b\b\b\b\b\b\b\b\b\b\b\b\b\b\b\b\b\b\b\b\b\b\b\b\b\b\b\b\b\b\b\b\b\b\b\b\b\b\b\b\b\b\b\b\b\b\b\b\b\b\b\b\b\b\b\b\b\b\b\b\b\b\b\b\b\b\b\b\b\b\b\b\b\b\b\b\b\b\b\b\b\b\b\b\b\b\b\b\b\b\b\b\b\b\b\b\b\b\b\b\b\b\b\b\b\b\b\b\b\b\b\b\b\b\b\b\b\b\b\b\b\b\b\b\b\b\b\b\b\b\b\b\b\b\b\b\b\b\b\b\b\b\b\b\b\b\b\b\b\b\b\b\b\b\b\b\b\b\b\b\b\b\b\b\b\b\b\b\b\b\b\b\b\b\n",
      "Epoch 65/100\n"
     ]
    },
    {
     "name": "stderr",
     "output_type": "stream",
     "text": [
      "2022-05-19 18:40:08.851960: I tensorflow/core/kernels/data/shuffle_dataset_op.cc:172] Filling up shuffle buffer (this may take a while): 41 of 64\n",
      "2022-05-19 18:40:12.418569: I tensorflow/core/kernels/data/shuffle_dataset_op.cc:221] Shuffle buffer filled.\n"
     ]
    },
    {
     "name": "stdout",
     "output_type": "stream",
     "text": [
      "4/4 [==============================] - 212s 53s/step - loss: 0.3292\b\b\b\b\b\b\b\b\b\b\b\b\b\b\b\b\b\b\b\b\b\b\b\b\b\b\b\b\b\b\b\b\b\b\b\b\b\b\b\b\b\b\b\b\b\b\b\b\b\b\b\b\b\b\b\b\b\b\b\b\b\b\b\b\b\b\b\b\b\b\b\b\b\b\b\b\b\b\b\b\b\b\b\b\b\b\b\b\b\b\b\b\b\b\b\b\b\b\b\b\b\b\b\b\b\b\b\b\b\b\b\b\b\b\b\b\b\b\b\b\b\b\b\b\b\b\b\b\b\b\b\b\b\b\b\b\b\b\b\b\b\b\b\b\b\b\b\b\b\b\b\b\b\b\b\b\b\b\b\b\b\b\b\b\b\b\b\b\b\b\b\b\b\b\b\b\b\b\b\b\b\b\b\b\b\b\b\b\b\b\b\b\b\b\b\b\b\b\b\b\b\b\b\b\b\b\b\b\b\b\b\b\b\b\b\b\b\b\b\b\b\b\b\b\b\b\b\b\b\b\b\b\b\b\b\b\b\b\b\b\b\n",
      "Epoch 66/100\n"
     ]
    },
    {
     "name": "stderr",
     "output_type": "stream",
     "text": [
      "2022-05-19 18:45:05.512403: I tensorflow/core/kernels/data/shuffle_dataset_op.cc:172] Filling up shuffle buffer (this may take a while): 33 of 64\n",
      "2022-05-19 18:45:11.467150: I tensorflow/core/kernels/data/shuffle_dataset_op.cc:221] Shuffle buffer filled.\n"
     ]
    },
    {
     "name": "stdout",
     "output_type": "stream",
     "text": [
      "4/4 [==============================] - 211s 53s/step - loss: 0.4303\b\b\b\b\b\b\b\b\b\b\b\b\b\b\b\b\b\b\b\b\b\b\b\b\b\b\b\b\b\b\b\b\b\b\b\b\b\b\b\b\b\b\b\b\b\b\b\b\b\b\b\b\b\b\b\b\b\b\b\b\b\b\b\b\b\b\b\b\b\b\b\b\b\b\b\b\b\b\b\b\b\b\b\b\b\b\b\b\b\b\b\b\b\b\b\b\b\b\b\b\b\b\b\b\b\b\b\b\b\b\b\b\b\b\b\b\b\b\b\b\b\b\b\b\b\b\b\b\b\b\b\b\b\b\b\b\b\b\b\b\b\b\b\b\b\b\b\b\b\b\b\b\b\b\b\b\b\b\b\b\b\b\b\b\b\b\b\b\b\b\b\b\b\b\b\b\b\b\b\b\b\b\b\b\b\b\b\b\b\b\b\b\b\b\b\b\b\b\b\b\b\b\b\b\b\b\b\b\b\b\b\b\b\b\b\b\b\b\b\b\b\b\b\b\b\b\b\b\b\b\b\b\b\b\b\b\b\b\b\b\b\n",
      "Epoch 67/100\n"
     ]
    },
    {
     "name": "stderr",
     "output_type": "stream",
     "text": [
      "2022-05-19 18:50:05.539528: I tensorflow/core/kernels/data/shuffle_dataset_op.cc:172] Filling up shuffle buffer (this may take a while): 41 of 64\n",
      "2022-05-19 18:50:09.418569: I tensorflow/core/kernels/data/shuffle_dataset_op.cc:221] Shuffle buffer filled.\n"
     ]
    },
    {
     "name": "stdout",
     "output_type": "stream",
     "text": [
      "4/4 [==============================] - 212s 53s/step - loss: 0.4086\b\b\b\b\b\b\b\b\b\b\b\b\b\b\b\b\b\b\b\b\b\b\b\b\b\b\b\b\b\b\b\b\b\b\b\b\b\b\b\b\b\b\b\b\b\b\b\b\b\b\b\b\b\b\b\b\b\b\b\b\b\b\b\b\b\b\b\b\b\b\b\b\b\b\b\b\b\b\b\b\b\b\b\b\b\b\b\b\b\b\b\b\b\b\b\b\b\b\b\b\b\b\b\b\b\b\b\b\b\b\b\b\b\b\b\b\b\b\b\b\b\b\b\b\b\b\b\b\b\b\b\b\b\b\b\b\b\b\b\b\b\b\b\b\b\b\b\b\b\b\b\b\b\b\b\b\b\b\b\b\b\b\b\b\b\b\b\b\b\b\b\b\b\b\b\b\b\b\b\b\b\b\b\b\b\b\b\b\b\b\b\b\b\b\b\b\b\b\b\b\b\b\b\b\b\b\b\b\b\b\b\b\b\b\b\b\b\b\b\b\b\b\b\b\b\b\b\b\b\b\b\b\b\b\b\b\b\b\b\b\b\n",
      "Epoch 68/100\n"
     ]
    },
    {
     "name": "stderr",
     "output_type": "stream",
     "text": [
      "2022-05-19 18:55:04.300325: I tensorflow/core/kernels/data/shuffle_dataset_op.cc:172] Filling up shuffle buffer (this may take a while): 41 of 64\n",
      "2022-05-19 18:55:08.071891: I tensorflow/core/kernels/data/shuffle_dataset_op.cc:221] Shuffle buffer filled.\n"
     ]
    },
    {
     "name": "stdout",
     "output_type": "stream",
     "text": [
      "4/4 [==============================] - 211s 53s/step - loss: 0.2842\b\b\b\b\b\b\b\b\b\b\b\b\b\b\b\b\b\b\b\b\b\b\b\b\b\b\b\b\b\b\b\b\b\b\b\b\b\b\b\b\b\b\b\b\b\b\b\b\b\b\b\b\b\b\b\b\b\b\b\b\b\b\b\b\b\b\b\b\b\b\b\b\b\b\b\b\b\b\b\b\b\b\b\b\b\b\b\b\b\b\b\b\b\b\b\b\b\b\b\b\b\b\b\b\b\b\b\b\b\b\b\b\b\b\b\b\b\b\b\b\b\b\b\b\b\b\b\b\b\b\b\b\b\b\b\b\b\b\b\b\b\b\b\b\b\b\b\b\b\b\b\b\b\b\b\b\b\b\b\b\b\b\b\b\b\b\b\b\b\b\b\b\b\b\b\b\b\b\b\b\b\b\b\b\b\b\b\b\b\b\b\b\b\b\b\b\b\b\b\b\b\b\b\b\b\b\b\b\b\b\b\b\b\b\b\b\b\b\b\b\b\b\b\b\b\b\b\b\b\b\b\b\b\b\b\b\b\b\b\b\b\n",
      "Epoch 69/100\n"
     ]
    },
    {
     "name": "stderr",
     "output_type": "stream",
     "text": [
      "2022-05-19 19:00:02.166118: I tensorflow/core/kernels/data/shuffle_dataset_op.cc:172] Filling up shuffle buffer (this may take a while): 41 of 64\n",
      "2022-05-19 19:00:06.350081: I tensorflow/core/kernels/data/shuffle_dataset_op.cc:221] Shuffle buffer filled.\n"
     ]
    },
    {
     "name": "stdout",
     "output_type": "stream",
     "text": [
      "4/4 [==============================] - 212s 53s/step - loss: 0.4415\b\b\b\b\b\b\b\b\b\b\b\b\b\b\b\b\b\b\b\b\b\b\b\b\b\b\b\b\b\b\b\b\b\b\b\b\b\b\b\b\b\b\b\b\b\b\b\b\b\b\b\b\b\b\b\b\b\b\b\b\b\b\b\b\b\b\b\b\b\b\b\b\b\b\b\b\b\b\b\b\b\b\b\b\b\b\b\b\b\b\b\b\b\b\b\b\b\b\b\b\b\b\b\b\b\b\b\b\b\b\b\b\b\b\b\b\b\b\b\b\b\b\b\b\b\b\b\b\b\b\b\b\b\b\b\b\b\b\b\b\b\b\b\b\b\b\b\b\b\b\b\b\b\b\b\b\b\b\b\b\b\b\b\b\b\b\b\b\b\b\b\b\b\b\b\b\b\b\b\b\b\b\b\b\b\b\b\b\b\b\b\b\b\b\b\b\b\b\b\b\b\b\b\b\b\b\b\b\b\b\b\b\b\b\b\b\b\b\b\b\b\b\b\b\b\b\b\b\b\b\b\b\b\b\b\b\b\b\b\b\b\n",
      "Epoch 70/100\n"
     ]
    },
    {
     "name": "stderr",
     "output_type": "stream",
     "text": [
      "2022-05-19 19:05:01.258208: I tensorflow/core/kernels/data/shuffle_dataset_op.cc:172] Filling up shuffle buffer (this may take a while): 41 of 64\n",
      "2022-05-19 19:05:05.372187: I tensorflow/core/kernels/data/shuffle_dataset_op.cc:221] Shuffle buffer filled.\n"
     ]
    },
    {
     "name": "stdout",
     "output_type": "stream",
     "text": [
      "4/4 [==============================] - 210s 53s/step - loss: 0.3116\b\b\b\b\b\b\b\b\b\b\b\b\b\b\b\b\b\b\b\b\b\b\b\b\b\b\b\b\b\b\b\b\b\b\b\b\b\b\b\b\b\b\b\b\b\b\b\b\b\b\b\b\b\b\b\b\b\b\b\b\b\b\b\b\b\b\b\b\b\b\b\b\b\b\b\b\b\b\b\b\b\b\b\b\b\b\b\b\b\b\b\b\b\b\b\b\b\b\b\b\b\b\b\b\b\b\b\b\b\b\b\b\b\b\b\b\b\b\b\b\b\b\b\b\b\b\b\b\b\b\b\b\b\b\b\b\b\b\b\b\b\b\b\b\b\b\b\b\b\b\b\b\b\b\b\b\b\b\b\b\b\b\b\b\b\b\b\b\b\b\b\b\b\b\b\b\b\b\b\b\b\b\b\b\b\b\b\b\b\b\b\b\b\b\b\b\b\b\b\b\b\b\b\b\b\b\b\b\b\b\b\b\b\b\b\b\b\b\b\b\b\b\b\b\b\b\b\b\b\b\b\b\b\b\b\b\b\b\b\b\b\n",
      "Epoch 71/100\n"
     ]
    },
    {
     "name": "stderr",
     "output_type": "stream",
     "text": [
      "2022-05-19 19:09:56.297025: I tensorflow/core/kernels/data/shuffle_dataset_op.cc:172] Filling up shuffle buffer (this may take a while): 33 of 64\n",
      "2022-05-19 19:10:02.380859: I tensorflow/core/kernels/data/shuffle_dataset_op.cc:221] Shuffle buffer filled.\n"
     ]
    },
    {
     "name": "stdout",
     "output_type": "stream",
     "text": [
      "4/4 [==============================] - 210s 52s/step - loss: 0.4316\b\b\b\b\b\b\b\b\b\b\b\b\b\b\b\b\b\b\b\b\b\b\b\b\b\b\b\b\b\b\b\b\b\b\b\b\b\b\b\b\b\b\b\b\b\b\b\b\b\b\b\b\b\b\b\b\b\b\b\b\b\b\b\b\b\b\b\b\b\b\b\b\b\b\b\b\b\b\b\b\b\b\b\b\b\b\b\b\b\b\b\b\b\b\b\b\b\b\b\b\b\b\b\b\b\b\b\b\b\b\b\b\b\b\b\b\b\b\b\b\b\b\b\b\b\b\b\b\b\b\b\b\b\b\b\b\b\b\b\b\b\b\b\b\b\b\b\b\b\b\b\b\b\b\b\b\b\b\b\b\b\b\b\b\b\b\b\b\b\b\b\b\b\b\b\b\b\b\b\b\b\b\b\b\b\b\b\b\b\b\b\b\b\b\b\b\b\b\b\b\b\b\b\b\b\b\b\b\b\b\b\b\b\b\b\b\b\b\b\b\b\b\b\b\b\b\b\b\b\b\b\b\b\b\b\b\b\b\b\b\b\n",
      "Epoch 72/100\n"
     ]
    },
    {
     "name": "stderr",
     "output_type": "stream",
     "text": [
      "2022-05-19 19:14:52.942841: I tensorflow/core/kernels/data/shuffle_dataset_op.cc:172] Filling up shuffle buffer (this may take a while): 33 of 64\n",
      "2022-05-19 19:14:58.589169: I tensorflow/core/kernels/data/shuffle_dataset_op.cc:221] Shuffle buffer filled.\n"
     ]
    },
    {
     "name": "stdout",
     "output_type": "stream",
     "text": [
      "4/4 [==============================] - 210s 52s/step - loss: 0.3390\b\b\b\b\b\b\b\b\b\b\b\b\b\b\b\b\b\b\b\b\b\b\b\b\b\b\b\b\b\b\b\b\b\b\b\b\b\b\b\b\b\b\b\b\b\b\b\b\b\b\b\b\b\b\b\b\b\b\b\b\b\b\b\b\b\b\b\b\b\b\b\b\b\b\b\b\b\b\b\b\b\b\b\b\b\b\b\b\b\b\b\b\b\b\b\b\b\b\b\b\b\b\b\b\b\b\b\b\b\b\b\b\b\b\b\b\b\b\b\b\b\b\b\b\b\b\b\b\b\b\b\b\b\b\b\b\b\b\b\b\b\b\b\b\b\b\b\b\b\b\b\b\b\b\b\b\b\b\b\b\b\b\b\b\b\b\b\b\b\b\b\b\b\b\b\b\b\b\b\b\b\b\b\b\b\b\b\b\b\b\b\b\b\b\b\b\b\b\b\b\b\b\b\b\b\b\b\b\b\b\b\b\b\b\b\b\b\b\b\b\b\b\b\b\b\b\b\b\b\b\b\b\b\b\b\b\b\b\b\b\b\n",
      "Epoch 73/100\n"
     ]
    },
    {
     "name": "stderr",
     "output_type": "stream",
     "text": [
      "2022-05-19 19:19:50.228043: I tensorflow/core/kernels/data/shuffle_dataset_op.cc:172] Filling up shuffle buffer (this may take a while): 41 of 64\n",
      "2022-05-19 19:19:54.193773: I tensorflow/core/kernels/data/shuffle_dataset_op.cc:221] Shuffle buffer filled.\n"
     ]
    },
    {
     "name": "stdout",
     "output_type": "stream",
     "text": [
      "4/4 [==============================] - 212s 53s/step - loss: 0.4999\b\b\b\b\b\b\b\b\b\b\b\b\b\b\b\b\b\b\b\b\b\b\b\b\b\b\b\b\b\b\b\b\b\b\b\b\b\b\b\b\b\b\b\b\b\b\b\b\b\b\b\b\b\b\b\b\b\b\b\b\b\b\b\b\b\b\b\b\b\b\b\b\b\b\b\b\b\b\b\b\b\b\b\b\b\b\b\b\b\b\b\b\b\b\b\b\b\b\b\b\b\b\b\b\b\b\b\b\b\b\b\b\b\b\b\b\b\b\b\b\b\b\b\b\b\b\b\b\b\b\b\b\b\b\b\b\b\b\b\b\b\b\b\b\b\b\b\b\b\b\b\b\b\b\b\b\b\b\b\b\b\b\b\b\b\b\b\b\b\b\b\b\b\b\b\b\b\b\b\b\b\b\b\b\b\b\b\b\b\b\b\b\b\b\b\b\b\b\b\b\b\b\b\b\b\b\b\b\b\b\b\b\b\b\b\b\b\b\b\b\b\b\b\b\b\b\b\b\b\b\b\b\b\b\b\b\b\b\b\b\b\n",
      "Epoch 74/100\n"
     ]
    },
    {
     "name": "stderr",
     "output_type": "stream",
     "text": [
      "2022-05-19 19:24:47.455654: I tensorflow/core/kernels/data/shuffle_dataset_op.cc:172] Filling up shuffle buffer (this may take a while): 41 of 64\n",
      "2022-05-19 19:24:51.037519: I tensorflow/core/kernels/data/shuffle_dataset_op.cc:221] Shuffle buffer filled.\n"
     ]
    },
    {
     "name": "stdout",
     "output_type": "stream",
     "text": [
      "4/4 [==============================] - 211s 53s/step - loss: 0.4059\b\b\b\b\b\b\b\b\b\b\b\b\b\b\b\b\b\b\b\b\b\b\b\b\b\b\b\b\b\b\b\b\b\b\b\b\b\b\b\b\b\b\b\b\b\b\b\b\b\b\b\b\b\b\b\b\b\b\b\b\b\b\b\b\b\b\b\b\b\b\b\b\b\b\b\b\b\b\b\b\b\b\b\b\b\b\b\b\b\b\b\b\b\b\b\b\b\b\b\b\b\b\b\b\b\b\b\b\b\b\b\b\b\b\b\b\b\b\b\b\b\b\b\b\b\b\b\b\b\b\b\b\b\b\b\b\b\b\b\b\b\b\b\b\b\b\b\b\b\b\b\b\b\b\b\b\b\b\b\b\b\b\b\b\b\b\b\b\b\b\b\b\b\b\b\b\b\b\b\b\b\b\b\b\b\b\b\b\b\b\b\b\b\b\b\b\b\b\b\b\b\b\b\b\b\b\b\b\b\b\b\b\b\b\b\b\b\b\b\b\b\b\b\b\b\b\b\b\b\b\b\b\b\b\b\b\b\b\b\b\b\n",
      "Epoch 75/100\n"
     ]
    },
    {
     "name": "stderr",
     "output_type": "stream",
     "text": [
      "2022-05-19 19:29:43.918150: I tensorflow/core/kernels/data/shuffle_dataset_op.cc:172] Filling up shuffle buffer (this may take a while): 33 of 64\n",
      "2022-05-19 19:29:49.552572: I tensorflow/core/kernels/data/shuffle_dataset_op.cc:221] Shuffle buffer filled.\n"
     ]
    },
    {
     "name": "stdout",
     "output_type": "stream",
     "text": [
      "4/4 [==============================] - 214s 53s/step - loss: 0.3643\b\b\b\b\b\b\b\b\b\b\b\b\b\b\b\b\b\b\b\b\b\b\b\b\b\b\b\b\b\b\b\b\b\b\b\b\b\b\b\b\b\b\b\b\b\b\b\b\b\b\b\b\b\b\b\b\b\b\b\b\b\b\b\b\b\b\b\b\b\b\b\b\b\b\b\b\b\b\b\b\b\b\b\b\b\b\b\b\b\b\b\b\b\b\b\b\b\b\b\b\b\b\b\b\b\b\b\b\b\b\b\b\b\b\b\b\b\b\b\b\b\b\b\b\b\b\b\b\b\b\b\b\b\b\b\b\b\b\b\b\b\b\b\b\b\b\b\b\b\b\b\b\b\b\b\b\b\b\b\b\b\b\b\b\b\b\b\b\b\b\b\b\b\b\b\b\b\b\b\b\b\b\b\b\b\b\b\b\b\b\b\b\b\b\b\b\b\b\b\b\b\b\b\b\b\b\b\b\b\b\b\b\b\b\b\b\b\b\b\b\b\b\b\b\b\b\b\b\b\b\b\b\b\b\b\b\b\b\b\b\b\n",
      "Epoch 76/100\n"
     ]
    },
    {
     "name": "stderr",
     "output_type": "stream",
     "text": [
      "2022-05-19 19:34:44.662441: I tensorflow/core/kernels/data/shuffle_dataset_op.cc:172] Filling up shuffle buffer (this may take a while): 33 of 64\n",
      "2022-05-19 19:34:50.916240: I tensorflow/core/kernels/data/shuffle_dataset_op.cc:221] Shuffle buffer filled.\n"
     ]
    },
    {
     "name": "stdout",
     "output_type": "stream",
     "text": [
      "4/4 [==============================] - 212s 53s/step - loss: 0.4961\b\b\b\b\b\b\b\b\b\b\b\b\b\b\b\b\b\b\b\b\b\b\b\b\b\b\b\b\b\b\b\b\b\b\b\b\b\b\b\b\b\b\b\b\b\b\b\b\b\b\b\b\b\b\b\b\b\b\b\b\b\b\b\b\b\b\b\b\b\b\b\b\b\b\b\b\b\b\b\b\b\b\b\b\b\b\b\b\b\b\b\b\b\b\b\b\b\b\b\b\b\b\b\b\b\b\b\b\b\b\b\b\b\b\b\b\b\b\b\b\b\b\b\b\b\b\b\b\b\b\b\b\b\b\b\b\b\b\b\b\b\b\b\b\b\b\b\b\b\b\b\b\b\b\b\b\b\b\b\b\b\b\b\b\b\b\b\b\b\b\b\b\b\b\b\b\b\b\b\b\b\b\b\b\b\b\b\b\b\b\b\b\b\b\b\b\b\b\b\b\b\b\b\b\b\b\b\b\b\b\b\b\b\b\b\b\b\b\b\b\b\b\b\b\b\b\b\b\b\b\b\b\b\b\b\b\b\b\b\b\b\n",
      "Epoch 77/100\n"
     ]
    },
    {
     "name": "stderr",
     "output_type": "stream",
     "text": [
      "2022-05-19 19:39:45.762011: I tensorflow/core/kernels/data/shuffle_dataset_op.cc:172] Filling up shuffle buffer (this may take a while): 41 of 64\n",
      "2022-05-19 19:39:49.548511: I tensorflow/core/kernels/data/shuffle_dataset_op.cc:221] Shuffle buffer filled.\n"
     ]
    },
    {
     "name": "stdout",
     "output_type": "stream",
     "text": [
      "4/4 [==============================] - 229s 57s/step - loss: 0.4155\b\b\b\b\b\b\b\b\b\b\b\b\b\b\b\b\b\b\b\b\b\b\b\b\b\b\b\b\b\b\b\b\b\b\b\b\b\b\b\b\b\b\b\b\b\b\b\b\b\b\b\b\b\b\b\b\b\b\b\b\b\b\b\b\b\b\b\b\b\b\b\b\b\b\b\b\b\b\b\b\b\b\b\b\b\b\b\b\b\b\b\b\b\b\b\b\b\b\b\b\b\b\b\b\b\b\b\b\b\b\b\b\b\b\b\b\b\b\b\b\b\b\b\b\b\b\b\b\b\b\b\b\b\b\b\b\b\b\b\b\b\b\b\b\b\b\b\b\b\b\b\b\b\b\b\b\b\b\b\b\b\b\b\b\b\b\b\b\b\b\b\b\b\b\b\b\b\b\b\b\b\b\b\b\b\b\b\b\b\b\b\b\b\b\b\b\b\b\b\b\b\b\b\b\b\b\b\b\b\b\b\b\b\b\b\b\b\b\b\b\b\b\b\b\b\b\b\b\b\b\b\b\b\b\b\b\b\b\b\b\b\n",
      "Epoch 78/100\n"
     ]
    },
    {
     "name": "stderr",
     "output_type": "stream",
     "text": [
      "2022-05-19 19:45:05.359377: I tensorflow/core/kernels/data/shuffle_dataset_op.cc:172] Filling up shuffle buffer (this may take a while): 41 of 64\n",
      "2022-05-19 19:45:08.812253: I tensorflow/core/kernels/data/shuffle_dataset_op.cc:221] Shuffle buffer filled.\n"
     ]
    },
    {
     "name": "stdout",
     "output_type": "stream",
     "text": [
      "4/4 [==============================] - 209s 52s/step - loss: 0.4542\b\b\b\b\b\b\b\b\b\b\b\b\b\b\b\b\b\b\b\b\b\b\b\b\b\b\b\b\b\b\b\b\b\b\b\b\b\b\b\b\b\b\b\b\b\b\b\b\b\b\b\b\b\b\b\b\b\b\b\b\b\b\b\b\b\b\b\b\b\b\b\b\b\b\b\b\b\b\b\b\b\b\b\b\b\b\b\b\b\b\b\b\b\b\b\b\b\b\b\b\b\b\b\b\b\b\b\b\b\b\b\b\b\b\b\b\b\b\b\b\b\b\b\b\b\b\b\b\b\b\b\b\b\b\b\b\b\b\b\b\b\b\b\b\b\b\b\b\b\b\b\b\b\b\b\b\b\b\b\b\b\b\b\b\b\b\b\b\b\b\b\b\b\b\b\b\b\b\b\b\b\b\b\b\b\b\b\b\b\b\b\b\b\b\b\b\b\b\b\b\b\b\b\b\b\b\b\b\b\b\b\b\b\b\b\b\b\b\b\b\b\b\b\b\b\b\b\b\b\b\b\b\b\b\b\b\b\b\b\b\b\n",
      "Epoch 79/100\n"
     ]
    },
    {
     "name": "stderr",
     "output_type": "stream",
     "text": [
      "2022-05-19 19:50:00.851521: I tensorflow/core/kernels/data/shuffle_dataset_op.cc:172] Filling up shuffle buffer (this may take a while): 41 of 64\n",
      "2022-05-19 19:50:05.061822: I tensorflow/core/kernels/data/shuffle_dataset_op.cc:221] Shuffle buffer filled.\n"
     ]
    },
    {
     "name": "stdout",
     "output_type": "stream",
     "text": [
      "4/4 [==============================] - 209s 52s/step - loss: 0.4539\b\b\b\b\b\b\b\b\b\b\b\b\b\b\b\b\b\b\b\b\b\b\b\b\b\b\b\b\b\b\b\b\b\b\b\b\b\b\b\b\b\b\b\b\b\b\b\b\b\b\b\b\b\b\b\b\b\b\b\b\b\b\b\b\b\b\b\b\b\b\b\b\b\b\b\b\b\b\b\b\b\b\b\b\b\b\b\b\b\b\b\b\b\b\b\b\b\b\b\b\b\b\b\b\b\b\b\b\b\b\b\b\b\b\b\b\b\b\b\b\b\b\b\b\b\b\b\b\b\b\b\b\b\b\b\b\b\b\b\b\b\b\b\b\b\b\b\b\b\b\b\b\b\b\b\b\b\b\b\b\b\b\b\b\b\b\b\b\b\b\b\b\b\b\b\b\b\b\b\b\b\b\b\b\b\b\b\b\b\b\b\b\b\b\b\b\b\b\b\b\b\b\b\b\b\b\b\b\b\b\b\b\b\b\b\b\b\b\b\b\b\b\b\b\b\b\b\b\b\b\b\b\b\b\b\b\b\b\b\b\b\n",
      "Epoch 80/100\n"
     ]
    },
    {
     "name": "stderr",
     "output_type": "stream",
     "text": [
      "2022-05-19 19:54:55.221130: I tensorflow/core/kernels/data/shuffle_dataset_op.cc:172] Filling up shuffle buffer (this may take a while): 41 of 64\n",
      "2022-05-19 19:54:58.772980: I tensorflow/core/kernels/data/shuffle_dataset_op.cc:221] Shuffle buffer filled.\n"
     ]
    },
    {
     "name": "stdout",
     "output_type": "stream",
     "text": [
      "4/4 [==============================] - 209s 52s/step - loss: 0.5383\b\b\b\b\b\b\b\b\b\b\b\b\b\b\b\b\b\b\b\b\b\b\b\b\b\b\b\b\b\b\b\b\b\b\b\b\b\b\b\b\b\b\b\b\b\b\b\b\b\b\b\b\b\b\b\b\b\b\b\b\b\b\b\b\b\b\b\b\b\b\b\b\b\b\b\b\b\b\b\b\b\b\b\b\b\b\b\b\b\b\b\b\b\b\b\b\b\b\b\b\b\b\b\b\b\b\b\b\b\b\b\b\b\b\b\b\b\b\b\b\b\b\b\b\b\b\b\b\b\b\b\b\b\b\b\b\b\b\b\b\b\b\b\b\b\b\b\b\b\b\b\b\b\b\b\b\b\b\b\b\b\b\b\b\b\b\b\b\b\b\b\b\b\b\b\b\b\b\b\b\b\b\b\b\b\b\b\b\b\b\b\b\b\b\b\b\b\b\b\b\b\b\b\b\b\b\b\b\b\b\b\b\b\b\b\b\b\b\b\b\b\b\b\b\b\b\b\b\b\b\b\b\b\b\b\b\b\b\b\b\b\n",
      "Epoch 81/100\n"
     ]
    },
    {
     "name": "stderr",
     "output_type": "stream",
     "text": [
      "2022-05-19 19:59:48.556377: I tensorflow/core/kernels/data/shuffle_dataset_op.cc:172] Filling up shuffle buffer (this may take a while): 41 of 64\n",
      "2022-05-19 19:59:52.186657: I tensorflow/core/kernels/data/shuffle_dataset_op.cc:221] Shuffle buffer filled.\n"
     ]
    },
    {
     "name": "stdout",
     "output_type": "stream",
     "text": [
      "4/4 [==============================] - 210s 52s/step - loss: 0.3790\b\b\b\b\b\b\b\b\b\b\b\b\b\b\b\b\b\b\b\b\b\b\b\b\b\b\b\b\b\b\b\b\b\b\b\b\b\b\b\b\b\b\b\b\b\b\b\b\b\b\b\b\b\b\b\b\b\b\b\b\b\b\b\b\b\b\b\b\b\b\b\b\b\b\b\b\b\b\b\b\b\b\b\b\b\b\b\b\b\b\b\b\b\b\b\b\b\b\b\b\b\b\b\b\b\b\b\b\b\b\b\b\b\b\b\b\b\b\b\b\b\b\b\b\b\b\b\b\b\b\b\b\b\b\b\b\b\b\b\b\b\b\b\b\b\b\b\b\b\b\b\b\b\b\b\b\b\b\b\b\b\b\b\b\b\b\b\b\b\b\b\b\b\b\b\b\b\b\b\b\b\b\b\b\b\b\b\b\b\b\b\b\b\b\b\b\b\b\b\b\b\b\b\b\b\b\b\b\b\b\b\b\b\b\b\b\b\b\b\b\b\b\b\b\b\b\b\b\b\b\b\b\b\b\b\b\b\b\b\b\b\n",
      "Epoch 82/100\n"
     ]
    },
    {
     "name": "stderr",
     "output_type": "stream",
     "text": [
      "2022-05-19 20:04:43.043379: I tensorflow/core/kernels/data/shuffle_dataset_op.cc:172] Filling up shuffle buffer (this may take a while): 33 of 64\n",
      "2022-05-19 20:04:48.446124: I tensorflow/core/kernels/data/shuffle_dataset_op.cc:221] Shuffle buffer filled.\n"
     ]
    },
    {
     "name": "stdout",
     "output_type": "stream",
     "text": [
      "4/4 [==============================] - 209s 52s/step - loss: 0.3361\b\b\b\b\b\b\b\b\b\b\b\b\b\b\b\b\b\b\b\b\b\b\b\b\b\b\b\b\b\b\b\b\b\b\b\b\b\b\b\b\b\b\b\b\b\b\b\b\b\b\b\b\b\b\b\b\b\b\b\b\b\b\b\b\b\b\b\b\b\b\b\b\b\b\b\b\b\b\b\b\b\b\b\b\b\b\b\b\b\b\b\b\b\b\b\b\b\b\b\b\b\b\b\b\b\b\b\b\b\b\b\b\b\b\b\b\b\b\b\b\b\b\b\b\b\b\b\b\b\b\b\b\b\b\b\b\b\b\b\b\b\b\b\b\b\b\b\b\b\b\b\b\b\b\b\b\b\b\b\b\b\b\b\b\b\b\b\b\b\b\b\b\b\b\b\b\b\b\b\b\b\b\b\b\b\b\b\b\b\b\b\b\b\b\b\b\b\b\b\b\b\b\b\b\b\b\b\b\b\b\b\b\b\b\b\b\b\b\b\b\b\b\b\b\b\b\b\b\b\b\b\b\b\b\b\b\b\b\b\b\b\n",
      "Epoch 83/100\n"
     ]
    },
    {
     "name": "stderr",
     "output_type": "stream",
     "text": [
      "2022-05-19 20:09:38.541056: I tensorflow/core/kernels/data/shuffle_dataset_op.cc:172] Filling up shuffle buffer (this may take a while): 41 of 64\n",
      "2022-05-19 20:09:42.157841: I tensorflow/core/kernels/data/shuffle_dataset_op.cc:221] Shuffle buffer filled.\n"
     ]
    },
    {
     "name": "stdout",
     "output_type": "stream",
     "text": [
      "4/4 [==============================] - 209s 52s/step - loss: 0.3636\b\b\b\b\b\b\b\b\b\b\b\b\b\b\b\b\b\b\b\b\b\b\b\b\b\b\b\b\b\b\b\b\b\b\b\b\b\b\b\b\b\b\b\b\b\b\b\b\b\b\b\b\b\b\b\b\b\b\b\b\b\b\b\b\b\b\b\b\b\b\b\b\b\b\b\b\b\b\b\b\b\b\b\b\b\b\b\b\b\b\b\b\b\b\b\b\b\b\b\b\b\b\b\b\b\b\b\b\b\b\b\b\b\b\b\b\b\b\b\b\b\b\b\b\b\b\b\b\b\b\b\b\b\b\b\b\b\b\b\b\b\b\b\b\b\b\b\b\b\b\b\b\b\b\b\b\b\b\b\b\b\b\b\b\b\b\b\b\b\b\b\b\b\b\b\b\b\b\b\b\b\b\b\b\b\b\b\b\b\b\b\b\b\b\b\b\b\b\b\b\b\b\b\b\b\b\b\b\b\b\b\b\b\b\b\b\b\b\b\b\b\b\b\b\b\b\b\b\b\b\b\b\b\b\b\b\b\b\b\b\b\n",
      "Epoch 84/100\n"
     ]
    },
    {
     "name": "stderr",
     "output_type": "stream",
     "text": [
      "2022-05-19 20:14:32.324845: I tensorflow/core/kernels/data/shuffle_dataset_op.cc:172] Filling up shuffle buffer (this may take a while): 41 of 64\n",
      "2022-05-19 20:14:36.121643: I tensorflow/core/kernels/data/shuffle_dataset_op.cc:221] Shuffle buffer filled.\n"
     ]
    },
    {
     "name": "stdout",
     "output_type": "stream",
     "text": [
      "4/4 [==============================] - 213s 53s/step - loss: 0.3113\b\b\b\b\b\b\b\b\b\b\b\b\b\b\b\b\b\b\b\b\b\b\b\b\b\b\b\b\b\b\b\b\b\b\b\b\b\b\b\b\b\b\b\b\b\b\b\b\b\b\b\b\b\b\b\b\b\b\b\b\b\b\b\b\b\b\b\b\b\b\b\b\b\b\b\b\b\b\b\b\b\b\b\b\b\b\b\b\b\b\b\b\b\b\b\b\b\b\b\b\b\b\b\b\b\b\b\b\b\b\b\b\b\b\b\b\b\b\b\b\b\b\b\b\b\b\b\b\b\b\b\b\b\b\b\b\b\b\b\b\b\b\b\b\b\b\b\b\b\b\b\b\b\b\b\b\b\b\b\b\b\b\b\b\b\b\b\b\b\b\b\b\b\b\b\b\b\b\b\b\b\b\b\b\b\b\b\b\b\b\b\b\b\b\b\b\b\b\b\b\b\b\b\b\b\b\b\b\b\b\b\b\b\b\b\b\b\b\b\b\b\b\b\b\b\b\b\b\b\b\b\b\b\b\b\b\b\b\b\b\b\n",
      "Epoch 85/100\n"
     ]
    },
    {
     "name": "stderr",
     "output_type": "stream",
     "text": [
      "2022-05-19 20:19:30.180743: I tensorflow/core/kernels/data/shuffle_dataset_op.cc:172] Filling up shuffle buffer (this may take a while): 41 of 64\n",
      "2022-05-19 20:19:34.021759: I tensorflow/core/kernels/data/shuffle_dataset_op.cc:221] Shuffle buffer filled.\n"
     ]
    },
    {
     "name": "stdout",
     "output_type": "stream",
     "text": [
      "4/4 [==============================] - 223s 56s/step - loss: 0.3347\b\b\b\b\b\b\b\b\b\b\b\b\b\b\b\b\b\b\b\b\b\b\b\b\b\b\b\b\b\b\b\b\b\b\b\b\b\b\b\b\b\b\b\b\b\b\b\b\b\b\b\b\b\b\b\b\b\b\b\b\b\b\b\b\b\b\b\b\b\b\b\b\b\b\b\b\b\b\b\b\b\b\b\b\b\b\b\b\b\b\b\b\b\b\b\b\b\b\b\b\b\b\b\b\b\b\b\b\b\b\b\b\b\b\b\b\b\b\b\b\b\b\b\b\b\b\b\b\b\b\b\b\b\b\b\b\b\b\b\b\b\b\b\b\b\b\b\b\b\b\b\b\b\b\b\b\b\b\b\b\b\b\b\b\b\b\b\b\b\b\b\b\b\b\b\b\b\b\b\b\b\b\b\b\b\b\b\b\b\b\b\b\b\b\b\b\b\b\b\b\b\b\b\b\b\b\b\b\b\b\b\b\b\b\b\b\b\b\b\b\b\b\b\b\b\b\b\b\b\b\b\b\b\b\b\b\b\b\b\b\b\n",
      "Epoch 86/100\n"
     ]
    },
    {
     "name": "stderr",
     "output_type": "stream",
     "text": [
      "2022-05-19 20:24:42.880158: I tensorflow/core/kernels/data/shuffle_dataset_op.cc:172] Filling up shuffle buffer (this may take a while): 33 of 64\n",
      "2022-05-19 20:24:48.574675: I tensorflow/core/kernels/data/shuffle_dataset_op.cc:221] Shuffle buffer filled.\n"
     ]
    },
    {
     "name": "stdout",
     "output_type": "stream",
     "text": [
      "4/4 [==============================] - 210s 52s/step - loss: 0.4630\b\b\b\b\b\b\b\b\b\b\b\b\b\b\b\b\b\b\b\b\b\b\b\b\b\b\b\b\b\b\b\b\b\b\b\b\b\b\b\b\b\b\b\b\b\b\b\b\b\b\b\b\b\b\b\b\b\b\b\b\b\b\b\b\b\b\b\b\b\b\b\b\b\b\b\b\b\b\b\b\b\b\b\b\b\b\b\b\b\b\b\b\b\b\b\b\b\b\b\b\b\b\b\b\b\b\b\b\b\b\b\b\b\b\b\b\b\b\b\b\b\b\b\b\b\b\b\b\b\b\b\b\b\b\b\b\b\b\b\b\b\b\b\b\b\b\b\b\b\b\b\b\b\b\b\b\b\b\b\b\b\b\b\b\b\b\b\b\b\b\b\b\b\b\b\b\b\b\b\b\b\b\b\b\b\b\b\b\b\b\b\b\b\b\b\b\b\b\b\b\b\b\b\b\b\b\b\b\b\b\b\b\b\b\b\b\b\b\b\b\b\b\b\b\b\b\b\b\b\b\b\b\b\b\b\b\b\b\b\b\b\n",
      "Epoch 87/100\n"
     ]
    },
    {
     "name": "stderr",
     "output_type": "stream",
     "text": [
      "2022-05-19 20:29:40.072212: I tensorflow/core/kernels/data/shuffle_dataset_op.cc:172] Filling up shuffle buffer (this may take a while): 41 of 64\n",
      "2022-05-19 20:29:43.704504: I tensorflow/core/kernels/data/shuffle_dataset_op.cc:221] Shuffle buffer filled.\n"
     ]
    },
    {
     "name": "stdout",
     "output_type": "stream",
     "text": [
      "4/4 [==============================] - 210s 52s/step - loss: 0.2881\b\b\b\b\b\b\b\b\b\b\b\b\b\b\b\b\b\b\b\b\b\b\b\b\b\b\b\b\b\b\b\b\b\b\b\b\b\b\b\b\b\b\b\b\b\b\b\b\b\b\b\b\b\b\b\b\b\b\b\b\b\b\b\b\b\b\b\b\b\b\b\b\b\b\b\b\b\b\b\b\b\b\b\b\b\b\b\b\b\b\b\b\b\b\b\b\b\b\b\b\b\b\b\b\b\b\b\b\b\b\b\b\b\b\b\b\b\b\b\b\b\b\b\b\b\b\b\b\b\b\b\b\b\b\b\b\b\b\b\b\b\b\b\b\b\b\b\b\b\b\b\b\b\b\b\b\b\b\b\b\b\b\b\b\b\b\b\b\b\b\b\b\b\b\b\b\b\b\b\b\b\b\b\b\b\b\b\b\b\b\b\b\b\b\b\b\b\b\b\b\b\b\b\b\b\b\b\b\b\b\b\b\b\b\b\b\b\b\b\b\b\b\b\b\b\b\b\b\b\b\b\b\b\b\b\b\b\b\b\b\b\n",
      "Epoch 88/100\n"
     ]
    },
    {
     "name": "stderr",
     "output_type": "stream",
     "text": [
      "2022-05-19 20:34:34.842201: I tensorflow/core/kernels/data/shuffle_dataset_op.cc:172] Filling up shuffle buffer (this may take a while): 41 of 64\n",
      "2022-05-19 20:34:38.662394: I tensorflow/core/kernels/data/shuffle_dataset_op.cc:221] Shuffle buffer filled.\n"
     ]
    },
    {
     "name": "stdout",
     "output_type": "stream",
     "text": [
      "4/4 [==============================] - 209s 52s/step - loss: 0.2427\b\b\b\b\b\b\b\b\b\b\b\b\b\b\b\b\b\b\b\b\b\b\b\b\b\b\b\b\b\b\b\b\b\b\b\b\b\b\b\b\b\b\b\b\b\b\b\b\b\b\b\b\b\b\b\b\b\b\b\b\b\b\b\b\b\b\b\b\b\b\b\b\b\b\b\b\b\b\b\b\b\b\b\b\b\b\b\b\b\b\b\b\b\b\b\b\b\b\b\b\b\b\b\b\b\b\b\b\b\b\b\b\b\b\b\b\b\b\b\b\b\b\b\b\b\b\b\b\b\b\b\b\b\b\b\b\b\b\b\b\b\b\b\b\b\b\b\b\b\b\b\b\b\b\b\b\b\b\b\b\b\b\b\b\b\b\b\b\b\b\b\b\b\b\b\b\b\b\b\b\b\b\b\b\b\b\b\b\b\b\b\b\b\b\b\b\b\b\b\b\b\b\b\b\b\b\b\b\b\b\b\b\b\b\b\b\b\b\b\b\b\b\b\b\b\b\b\b\b\b\b\b\b\b\b\b\b\b\b\b\b\n",
      "Epoch 89/100\n"
     ]
    },
    {
     "name": "stderr",
     "output_type": "stream",
     "text": [
      "2022-05-19 20:39:29.451418: I tensorflow/core/kernels/data/shuffle_dataset_op.cc:172] Filling up shuffle buffer (this may take a while): 41 of 64\n",
      "2022-05-19 20:39:32.948589: I tensorflow/core/kernels/data/shuffle_dataset_op.cc:221] Shuffle buffer filled.\n"
     ]
    },
    {
     "name": "stdout",
     "output_type": "stream",
     "text": [
      "4/4 [==============================] - 211s 53s/step - loss: 0.3131\b\b\b\b\b\b\b\b\b\b\b\b\b\b\b\b\b\b\b\b\b\b\b\b\b\b\b\b\b\b\b\b\b\b\b\b\b\b\b\b\b\b\b\b\b\b\b\b\b\b\b\b\b\b\b\b\b\b\b\b\b\b\b\b\b\b\b\b\b\b\b\b\b\b\b\b\b\b\b\b\b\b\b\b\b\b\b\b\b\b\b\b\b\b\b\b\b\b\b\b\b\b\b\b\b\b\b\b\b\b\b\b\b\b\b\b\b\b\b\b\b\b\b\b\b\b\b\b\b\b\b\b\b\b\b\b\b\b\b\b\b\b\b\b\b\b\b\b\b\b\b\b\b\b\b\b\b\b\b\b\b\b\b\b\b\b\b\b\b\b\b\b\b\b\b\b\b\b\b\b\b\b\b\b\b\b\b\b\b\b\b\b\b\b\b\b\b\b\b\b\b\b\b\b\b\b\b\b\b\b\b\b\b\b\b\b\b\b\b\b\b\b\b\b\b\b\b\b\b\b\b\b\b\b\b\b\b\b\b\b\b\n",
      "Epoch 90/100\n"
     ]
    },
    {
     "name": "stderr",
     "output_type": "stream",
     "text": [
      "2022-05-19 20:44:29.950777: I tensorflow/core/kernels/data/shuffle_dataset_op.cc:172] Filling up shuffle buffer (this may take a while): 41 of 64\n",
      "2022-05-19 20:44:33.555289: I tensorflow/core/kernels/data/shuffle_dataset_op.cc:221] Shuffle buffer filled.\n"
     ]
    },
    {
     "name": "stdout",
     "output_type": "stream",
     "text": [
      "4/4 [==============================] - 211s 53s/step - loss: 0.2310\b\b\b\b\b\b\b\b\b\b\b\b\b\b\b\b\b\b\b\b\b\b\b\b\b\b\b\b\b\b\b\b\b\b\b\b\b\b\b\b\b\b\b\b\b\b\b\b\b\b\b\b\b\b\b\b\b\b\b\b\b\b\b\b\b\b\b\b\b\b\b\b\b\b\b\b\b\b\b\b\b\b\b\b\b\b\b\b\b\b\b\b\b\b\b\b\b\b\b\b\b\b\b\b\b\b\b\b\b\b\b\b\b\b\b\b\b\b\b\b\b\b\b\b\b\b\b\b\b\b\b\b\b\b\b\b\b\b\b\b\b\b\b\b\b\b\b\b\b\b\b\b\b\b\b\b\b\b\b\b\b\b\b\b\b\b\b\b\b\b\b\b\b\b\b\b\b\b\b\b\b\b\b\b\b\b\b\b\b\b\b\b\b\b\b\b\b\b\b\b\b\b\b\b\b\b\b\b\b\b\b\b\b\b\b\b\b\b\b\b\b\b\b\b\b\b\b\b\b\b\b\b\b\b\b\b\b\b\b\b\b\n",
      "Epoch 91/100\n"
     ]
    },
    {
     "name": "stderr",
     "output_type": "stream",
     "text": [
      "2022-05-19 20:49:25.674483: I tensorflow/core/kernels/data/shuffle_dataset_op.cc:172] Filling up shuffle buffer (this may take a while): 41 of 64\n",
      "2022-05-19 20:49:29.186685: I tensorflow/core/kernels/data/shuffle_dataset_op.cc:221] Shuffle buffer filled.\n"
     ]
    },
    {
     "name": "stdout",
     "output_type": "stream",
     "text": [
      "4/4 [==============================] - 210s 52s/step - loss: 0.2285\b\b\b\b\b\b\b\b\b\b\b\b\b\b\b\b\b\b\b\b\b\b\b\b\b\b\b\b\b\b\b\b\b\b\b\b\b\b\b\b\b\b\b\b\b\b\b\b\b\b\b\b\b\b\b\b\b\b\b\b\b\b\b\b\b\b\b\b\b\b\b\b\b\b\b\b\b\b\b\b\b\b\b\b\b\b\b\b\b\b\b\b\b\b\b\b\b\b\b\b\b\b\b\b\b\b\b\b\b\b\b\b\b\b\b\b\b\b\b\b\b\b\b\b\b\b\b\b\b\b\b\b\b\b\b\b\b\b\b\b\b\b\b\b\b\b\b\b\b\b\b\b\b\b\b\b\b\b\b\b\b\b\b\b\b\b\b\b\b\b\b\b\b\b\b\b\b\b\b\b\b\b\b\b\b\b\b\b\b\b\b\b\b\b\b\b\b\b\b\b\b\b\b\b\b\b\b\b\b\b\b\b\b\b\b\b\b\b\b\b\b\b\b\b\b\b\b\b\b\b\b\b\b\b\b\b\b\b\b\b\b\n",
      "Epoch 92/100\n"
     ]
    },
    {
     "name": "stderr",
     "output_type": "stream",
     "text": [
      "2022-05-19 20:54:20.180859: I tensorflow/core/kernels/data/shuffle_dataset_op.cc:172] Filling up shuffle buffer (this may take a while): 41 of 64\n",
      "2022-05-19 20:54:23.393404: I tensorflow/core/kernels/data/shuffle_dataset_op.cc:221] Shuffle buffer filled.\n"
     ]
    },
    {
     "name": "stdout",
     "output_type": "stream",
     "text": [
      "4/4 [==============================] - 210s 52s/step - loss: 0.2841\b\b\b\b\b\b\b\b\b\b\b\b\b\b\b\b\b\b\b\b\b\b\b\b\b\b\b\b\b\b\b\b\b\b\b\b\b\b\b\b\b\b\b\b\b\b\b\b\b\b\b\b\b\b\b\b\b\b\b\b\b\b\b\b\b\b\b\b\b\b\b\b\b\b\b\b\b\b\b\b\b\b\b\b\b\b\b\b\b\b\b\b\b\b\b\b\b\b\b\b\b\b\b\b\b\b\b\b\b\b\b\b\b\b\b\b\b\b\b\b\b\b\b\b\b\b\b\b\b\b\b\b\b\b\b\b\b\b\b\b\b\b\b\b\b\b\b\b\b\b\b\b\b\b\b\b\b\b\b\b\b\b\b\b\b\b\b\b\b\b\b\b\b\b\b\b\b\b\b\b\b\b\b\b\b\b\b\b\b\b\b\b\b\b\b\b\b\b\b\b\b\b\b\b\b\b\b\b\b\b\b\b\b\b\b\b\b\b\b\b\b\b\b\b\b\b\b\b\b\b\b\b\b\b\b\b\b\b\b\b\b\n",
      "Epoch 93/100\n"
     ]
    },
    {
     "name": "stderr",
     "output_type": "stream",
     "text": [
      "2022-05-19 20:59:14.851929: I tensorflow/core/kernels/data/shuffle_dataset_op.cc:172] Filling up shuffle buffer (this may take a while): 49 of 64\n",
      "2022-05-19 20:59:16.626810: I tensorflow/core/kernels/data/shuffle_dataset_op.cc:221] Shuffle buffer filled.\n"
     ]
    },
    {
     "name": "stdout",
     "output_type": "stream",
     "text": [
      "4/4 [==============================] - 211s 53s/step - loss: 0.3159\b\b\b\b\b\b\b\b\b\b\b\b\b\b\b\b\b\b\b\b\b\b\b\b\b\b\b\b\b\b\b\b\b\b\b\b\b\b\b\b\b\b\b\b\b\b\b\b\b\b\b\b\b\b\b\b\b\b\b\b\b\b\b\b\b\b\b\b\b\b\b\b\b\b\b\b\b\b\b\b\b\b\b\b\b\b\b\b\b\b\b\b\b\b\b\b\b\b\b\b\b\b\b\b\b\b\b\b\b\b\b\b\b\b\b\b\b\b\b\b\b\b\b\b\b\b\b\b\b\b\b\b\b\b\b\b\b\b\b\b\b\b\b\b\b\b\b\b\b\b\b\b\b\b\b\b\b\b\b\b\b\b\b\b\b\b\b\b\b\b\b\b\b\b\b\b\b\b\b\b\b\b\b\b\b\b\b\b\b\b\b\b\b\b\b\b\b\b\b\b\b\b\b\b\b\b\b\b\b\b\b\b\b\b\b\b\b\b\b\b\b\b\b\b\b\b\b\b\b\b\b\b\b\b\b\b\b\b\b\b\b\n",
      "Epoch 94/100\n"
     ]
    },
    {
     "name": "stderr",
     "output_type": "stream",
     "text": [
      "2022-05-19 21:04:07.670547: I tensorflow/core/kernels/data/shuffle_dataset_op.cc:172] Filling up shuffle buffer (this may take a while): 41 of 64\n",
      "2022-05-19 21:04:11.253064: I tensorflow/core/kernels/data/shuffle_dataset_op.cc:221] Shuffle buffer filled.\n"
     ]
    },
    {
     "name": "stdout",
     "output_type": "stream",
     "text": [
      "4/4 [==============================] - 210s 52s/step - loss: 0.2631\b\b\b\b\b\b\b\b\b\b\b\b\b\b\b\b\b\b\b\b\b\b\b\b\b\b\b\b\b\b\b\b\b\b\b\b\b\b\b\b\b\b\b\b\b\b\b\b\b\b\b\b\b\b\b\b\b\b\b\b\b\b\b\b\b\b\b\b\b\b\b\b\b\b\b\b\b\b\b\b\b\b\b\b\b\b\b\b\b\b\b\b\b\b\b\b\b\b\b\b\b\b\b\b\b\b\b\b\b\b\b\b\b\b\b\b\b\b\b\b\b\b\b\b\b\b\b\b\b\b\b\b\b\b\b\b\b\b\b\b\b\b\b\b\b\b\b\b\b\b\b\b\b\b\b\b\b\b\b\b\b\b\b\b\b\b\b\b\b\b\b\b\b\b\b\b\b\b\b\b\b\b\b\b\b\b\b\b\b\b\b\b\b\b\b\b\b\b\b\b\b\b\b\b\b\b\b\b\b\b\b\b\b\b\b\b\b\b\b\b\b\b\b\b\b\b\b\b\b\b\b\b\b\b\b\b\b\b\b\b\b\n",
      "Epoch 95/100\n"
     ]
    },
    {
     "name": "stderr",
     "output_type": "stream",
     "text": [
      "2022-05-19 21:09:03.226278: I tensorflow/core/kernels/data/shuffle_dataset_op.cc:172] Filling up shuffle buffer (this may take a while): 49 of 64\n",
      "2022-05-19 21:09:05.049173: I tensorflow/core/kernels/data/shuffle_dataset_op.cc:221] Shuffle buffer filled.\n"
     ]
    },
    {
     "name": "stdout",
     "output_type": "stream",
     "text": [
      "4/4 [==============================] - 210s 52s/step - loss: 0.1975\b\b\b\b\b\b\b\b\b\b\b\b\b\b\b\b\b\b\b\b\b\b\b\b\b\b\b\b\b\b\b\b\b\b\b\b\b\b\b\b\b\b\b\b\b\b\b\b\b\b\b\b\b\b\b\b\b\b\b\b\b\b\b\b\b\b\b\b\b\b\b\b\b\b\b\b\b\b\b\b\b\b\b\b\b\b\b\b\b\b\b\b\b\b\b\b\b\b\b\b\b\b\b\b\b\b\b\b\b\b\b\b\b\b\b\b\b\b\b\b\b\b\b\b\b\b\b\b\b\b\b\b\b\b\b\b\b\b\b\b\b\b\b\b\b\b\b\b\b\b\b\b\b\b\b\b\b\b\b\b\b\b\b\b\b\b\b\b\b\b\b\b\b\b\b\b\b\b\b\b\b\b\b\b\b\b\b\b\b\b\b\b\b\b\b\b\b\b\b\b\b\b\b\b\b\b\b\b\b\b\b\b\b\b\b\b\b\b\b\b\b\b\b\b\b\b\b\b\b\b\b\b\b\b\b\b\b\b\b\b\b\n",
      "Epoch 96/100\n"
     ]
    },
    {
     "name": "stderr",
     "output_type": "stream",
     "text": [
      "2022-05-19 21:13:55.598215: I tensorflow/core/kernels/data/shuffle_dataset_op.cc:172] Filling up shuffle buffer (this may take a while): 41 of 64\n",
      "2022-05-19 21:13:58.835156: I tensorflow/core/kernels/data/shuffle_dataset_op.cc:221] Shuffle buffer filled.\n"
     ]
    },
    {
     "name": "stdout",
     "output_type": "stream",
     "text": [
      "4/4 [==============================] - 211s 53s/step - loss: 0.3812\b\b\b\b\b\b\b\b\b\b\b\b\b\b\b\b\b\b\b\b\b\b\b\b\b\b\b\b\b\b\b\b\b\b\b\b\b\b\b\b\b\b\b\b\b\b\b\b\b\b\b\b\b\b\b\b\b\b\b\b\b\b\b\b\b\b\b\b\b\b\b\b\b\b\b\b\b\b\b\b\b\b\b\b\b\b\b\b\b\b\b\b\b\b\b\b\b\b\b\b\b\b\b\b\b\b\b\b\b\b\b\b\b\b\b\b\b\b\b\b\b\b\b\b\b\b\b\b\b\b\b\b\b\b\b\b\b\b\b\b\b\b\b\b\b\b\b\b\b\b\b\b\b\b\b\b\b\b\b\b\b\b\b\b\b\b\b\b\b\b\b\b\b\b\b\b\b\b\b\b\b\b\b\b\b\b\b\b\b\b\b\b\b\b\b\b\b\b\b\b\b\b\b\b\b\b\b\b\b\b\b\b\b\b\b\b\b\b\b\b\b\b\b\b\b\b\b\b\b\b\b\b\b\b\b\b\b\b\b\b\b\n",
      "Epoch 97/100\n"
     ]
    },
    {
     "name": "stderr",
     "output_type": "stream",
     "text": [
      "2022-05-19 21:18:50.260438: I tensorflow/core/kernels/data/shuffle_dataset_op.cc:172] Filling up shuffle buffer (this may take a while): 43 of 64\n",
      "2022-05-19 21:18:53.786495: I tensorflow/core/kernels/data/shuffle_dataset_op.cc:221] Shuffle buffer filled.\n"
     ]
    },
    {
     "name": "stdout",
     "output_type": "stream",
     "text": [
      "4/4 [==============================] - 210s 52s/step - loss: 0.2589\b\b\b\b\b\b\b\b\b\b\b\b\b\b\b\b\b\b\b\b\b\b\b\b\b\b\b\b\b\b\b\b\b\b\b\b\b\b\b\b\b\b\b\b\b\b\b\b\b\b\b\b\b\b\b\b\b\b\b\b\b\b\b\b\b\b\b\b\b\b\b\b\b\b\b\b\b\b\b\b\b\b\b\b\b\b\b\b\b\b\b\b\b\b\b\b\b\b\b\b\b\b\b\b\b\b\b\b\b\b\b\b\b\b\b\b\b\b\b\b\b\b\b\b\b\b\b\b\b\b\b\b\b\b\b\b\b\b\b\b\b\b\b\b\b\b\b\b\b\b\b\b\b\b\b\b\b\b\b\b\b\b\b\b\b\b\b\b\b\b\b\b\b\b\b\b\b\b\b\b\b\b\b\b\b\b\b\b\b\b\b\b\b\b\b\b\b\b\b\b\b\b\b\b\b\b\b\b\b\b\b\b\b\b\b\b\b\b\b\b\b\b\b\b\b\b\b\b\b\b\b\b\b\b\b\b\b\b\b\b\b\n",
      "Epoch 98/100\n"
     ]
    },
    {
     "name": "stderr",
     "output_type": "stream",
     "text": [
      "2022-05-19 21:23:44.038032: I tensorflow/core/kernels/data/shuffle_dataset_op.cc:172] Filling up shuffle buffer (this may take a while): 41 of 64\n",
      "2022-05-19 21:23:47.407877: I tensorflow/core/kernels/data/shuffle_dataset_op.cc:221] Shuffle buffer filled.\n"
     ]
    },
    {
     "name": "stdout",
     "output_type": "stream",
     "text": [
      "4/4 [==============================] - 210s 53s/step - loss: 0.3403\b\b\b\b\b\b\b\b\b\b\b\b\b\b\b\b\b\b\b\b\b\b\b\b\b\b\b\b\b\b\b\b\b\b\b\b\b\b\b\b\b\b\b\b\b\b\b\b\b\b\b\b\b\b\b\b\b\b\b\b\b\b\b\b\b\b\b\b\b\b\b\b\b\b\b\b\b\b\b\b\b\b\b\b\b\b\b\b\b\b\b\b\b\b\b\b\b\b\b\b\b\b\b\b\b\b\b\b\b\b\b\b\b\b\b\b\b\b\b\b\b\b\b\b\b\b\b\b\b\b\b\b\b\b\b\b\b\b\b\b\b\b\b\b\b\b\b\b\b\b\b\b\b\b\b\b\b\b\b\b\b\b\b\b\b\b\b\b\b\b\b\b\b\b\b\b\b\b\b\b\b\b\b\b\b\b\b\b\b\b\b\b\b\b\b\b\b\b\b\b\b\b\b\b\b\b\b\b\b\b\b\b\b\b\b\b\b\b\b\b\b\b\b\b\b\b\b\b\b\b\b\b\b\b\b\b\b\b\b\b\b\n",
      "Epoch 99/100\n"
     ]
    },
    {
     "name": "stderr",
     "output_type": "stream",
     "text": [
      "2022-05-19 21:28:37.974446: I tensorflow/core/kernels/data/shuffle_dataset_op.cc:172] Filling up shuffle buffer (this may take a while): 41 of 64\n",
      "2022-05-19 21:28:41.299894: I tensorflow/core/kernels/data/shuffle_dataset_op.cc:221] Shuffle buffer filled.\n"
     ]
    },
    {
     "name": "stdout",
     "output_type": "stream",
     "text": [
      "4/4 [==============================] - 210s 52s/step - loss: 0.4091\b\b\b\b\b\b\b\b\b\b\b\b\b\b\b\b\b\b\b\b\b\b\b\b\b\b\b\b\b\b\b\b\b\b\b\b\b\b\b\b\b\b\b\b\b\b\b\b\b\b\b\b\b\b\b\b\b\b\b\b\b\b\b\b\b\b\b\b\b\b\b\b\b\b\b\b\b\b\b\b\b\b\b\b\b\b\b\b\b\b\b\b\b\b\b\b\b\b\b\b\b\b\b\b\b\b\b\b\b\b\b\b\b\b\b\b\b\b\b\b\b\b\b\b\b\b\b\b\b\b\b\b\b\b\b\b\b\b\b\b\b\b\b\b\b\b\b\b\b\b\b\b\b\b\b\b\b\b\b\b\b\b\b\b\b\b\b\b\b\b\b\b\b\b\b\b\b\b\b\b\b\b\b\b\b\b\b\b\b\b\b\b\b\b\b\b\b\b\b\b\b\b\b\b\b\b\b\b\b\b\b\b\b\b\b\b\b\b\b\b\b\b\b\b\b\b\b\b\b\b\b\b\b\b\b\b\b\b\b\b\b\n",
      "Epoch 100/100\n"
     ]
    },
    {
     "name": "stderr",
     "output_type": "stream",
     "text": [
      "2022-05-19 21:33:31.618449: I tensorflow/core/kernels/data/shuffle_dataset_op.cc:172] Filling up shuffle buffer (this may take a while): 41 of 64\n",
      "2022-05-19 21:33:34.992258: I tensorflow/core/kernels/data/shuffle_dataset_op.cc:221] Shuffle buffer filled.\n"
     ]
    },
    {
     "name": "stdout",
     "output_type": "stream",
     "text": [
      "4/4 [==============================] - 210s 52s/step - loss: 0.4222\b\b\b\b\b\b\b\b\b\b\b\b\b\b\b\b\b\b\b\b\b\b\b\b\b\b\b\b\b\b\b\b\b\b\b\b\b\b\b\b\b\b\b\b\b\b\b\b\b\b\b\b\b\b\b\b\b\b\b\b\b\b\b\b\b\b\b\b\b\b\b\b\b\b\b\b\b\b\b\b\b\b\b\b\b\b\b\b\b\b\b\b\b\b\b\b\b\b\b\b\b\b\b\b\b\b\b\b\b\b\b\b\b\b\b\b\b\b\b\b\b\b\b\b\b\b\b\b\b\b\b\b\b\b\b\b\b\b\b\b\b\b\b\b\b\b\b\b\b\b\b\b\b\b\b\b\b\b\b\b\b\b\b\b\b\b\b\b\b\b\b\b\b\b\b\b\b\b\b\b\b\b\b\b\b\b\b\b\b\b\b\b\b\b\b\b\b\b\b\b\b\b\b\b\b\b\b\b\b\b\b\b\b\b\b\b\b\b\b\b\b\b\b\b\b\b\b\b\b\b\b\b\b\b\b\b\b\b\b\b\b\n",
      "Evaluation 0:\n",
      "\tOutput of Transformer 0:\n"
     ]
    },
    {
     "data": {
      "text/plain": "<Figure size 216x216 with 1 Axes>",
      "image/png": "[encoded data removed]"
     },
     "metadata": {
      "needs_background": "light"
     },
     "output_type": "display_data"
    },
    {
     "name": "stdout",
     "output_type": "stream",
     "text": [
      "Generation stopped after n=1 evaluations\n"
     ]
    }
   ],
   "source": [
    "from deepvoxnet2.keras.optimizers import SGD, Adam\n",
    "from deepvoxnet2.keras.losses import get_loss\n",
    "\n",
    "my_own_unet_model.compile(optimizer=Adam(learning_rate=1e-3), loss=get_loss(\"dice_loss\", reduce_along_batch=True))\n",
    "my_own_unet_model.fit(my_tf_train_dataset, epochs=100)\n",
    "visualize_creator_outputs(x_put_creator, my_val_sampler[1])"
   ],
   "metadata": {
    "collapsed": false,
    "pycharm": {
     "name": "#%%\n"
    }
   }
  },
  {
   "cell_type": "markdown",
   "source": [
    "However, how to now have your creator for training, predictions, etc, in one place?\n",
    "we created the DvnModel for the sake of simplicity and to allow for a more holistic way of defining, and training or testing, the complete pipeline.\n",
    "\n",
    "## 6.3 The DvnModel object\n",
    "It should be clear that the set of data pairs used for training is different from the set that we are actually interested in, which was represented by the *x_put_creator*.\n",
    "However, this may not fully suffice, e.g. we do not yet have a prediction for our entire image.\n",
    "This is because usually there are even more different sets of pairs that are used.\n",
    "In order to group an arbitrary number of data pairs, together with training information such as loss functions and many more, we first create the most hollistic Transformer pipeline and then create a DvnModel."
   ],
   "metadata": {
    "collapsed": false,
    "pycharm": {
     "name": "#%% md\n"
    }
   }
  },
  {
   "cell_type": "code",
   "execution_count": 27,
   "outputs": [],
   "source": [
    "from deepvoxnet2.components.model import DvnModel\n",
    "\n",
    "# training part of the Transformer network\n",
    "x_affine, y_affine = AffineDeformation(x, rotation_window_width=(1, 0, 0), translation_window_width=(10, 10, 0))(x_input, y_input)\n",
    "x_flip, y_flip = Flip(flip_probabilities=(0.5, 0, 0), n=2)(x_affine, y_affine)\n",
    "mask_flip = Threshold(lower_threshold=0)(x_flip)\n",
    "x_flip_crop, y_flip_crop = RandomCrop(mask_flip, [(85, 85, 85), (53, 53, 53)], nonzero=True, n=4)(x_flip, y_flip)  # notice how we can take differently sized crops around the same coordinate\n",
    "y_train_pred, y_train = KerasModel(my_own_unet_model)(x_flip_crop), y_flip_crop\n",
    "# validation and testing part of the Transformer network\n",
    "mask = Threshold(lower_threshold=0)(x_input)\n",
    "x_crop, y_crop = RandomCrop(mask, [(85, 85, 85), (53, 53, 53)], nonzero=True, n=100)(x_input, y_input)  # notice that n is much larger now\n",
    "y_val_pred, y_val = KerasModel(my_own_unet_model)(x_crop), y_crop\n",
    "y_val_pred_buffer = Buffer(buffer_size=None)(y_val_pred)\n",
    "y_full_val_pred, y_full_val = Put(reference_connection=x_input)(y_val_pred_buffer), y_input\n",
    "# creating a single DvnModel of the complete pipeline, typically in a [y_pred, y_true, sample_weights] order, similar to keras, but substituted x by y_pred\n",
    "my_super_cool_dvnmodel = DvnModel(\n",
    "    outputs={\n",
    "        \"train\": [y_train_pred, y_train],\n",
    "        \"full_val\": [y_full_val_pred, y_full_val],\n",
    "        \"full_test\": [y_full_val_pred]\n",
    "    }\n",
    ")"
   ],
   "metadata": {
    "collapsed": false,
    "pycharm": {
     "name": "#%%\n"
    }
   }
  },
  {
   "cell_type": "markdown",
   "source": [
    "The DvnModel can be used to call the training routines directly, without the need to create Creator object and TfDataset objects.\n",
    "Furthermore, the DvnModel can be saved and will store both all the Creator objects and the KerasModel.\n",
    "We advise users to have a careful look at the DvnModel class for all its use cases and how ```compile```, ```fit```, ```predict``` methods, etc, can be used similar to the Keras API."
   ],
   "metadata": {
    "collapsed": false,
    "pycharm": {
     "name": "#%% md\n"
    }
   }
  },
  {
   "cell_type": "markdown",
   "metadata": {
    "pycharm": {
     "name": "#%% md\n"
    }
   },
   "source": [
    "# 7. Other functionalities in DVN2\n",
    "The main contribution of DVN2 is clearly the intuitive way of implementing preprocessing, sampling an postprocessing, and providing a way to store everything under one single object.\n",
    "However, there are other unexplored fruits available.\n",
    "\n",
    "## 7.1 Utilities\n",
    "Under ```deepvoxnet.utilities``` there are many useful utility functions available:\n",
    "\n",
    "- **conversions.py**\n",
    "Here you can find many useful loading and conversion functions.\n",
    "For example, reading a Dicom file (including time series such as CT perfusion data) from disk, conversions between Nifti, SimpleITK and Dicom.\n",
    "\n",
    "- **transformations.py**\n",
    "Perfect for doing resampling, registration, etc, mainly starting from Nifti files.\n",
    "This is unlike many other libraries that require SimpleITK file formats or you need to use via the Terminal.\n",
    "\n",
    "- **drawing.py**\n",
    "Some cool functions to draw overlays.\n",
    "\n",
    "## 7.2 Analysis\n",
    "Under ```deepvoxnet.analysis``` we can find several handy tools to:\n",
    "\n",
    "- **data.py**\n",
    "The Data class can be viewed as a single-column Pandas Dataframe with additional functionalities, specifically to work with data that has MultiIndex strucutre as Dataset>Case>Record.\n",
    "We could group or compute statistics across either of these indices.\n",
    "\n",
    "- **analysis.py**\n",
    "The Analysis class can be viewed as a multi-column Pandas Dataframe with additional functionalities.\n",
    "For example, when having two columns, we can apply a metric function to each row, such that a Data object is returned.\n",
    "\n",
    "- **plotting.py**\n",
    "This library uses the Figure class for plotting such that you can draw figures using an absolute scale.\n",
    "Furthermore, since typical plotting libraries cannot handle NaNs, we have the Series, SeriesGroup and GroupedSeries objects that compute statistics and can be used to plot, even if they contain NaNs."
   ]
  },
  {
   "cell_type": "markdown",
   "source": [
    "# 8. Conclusion\n",
    "We have provided a novel CNN framework that can be used to design end-to-end CNN pipelines for either 1D, 2D or 3D segmentation or classification.\n",
    "Some of the key design aspects of DVN2 is that it stays close to the supervised learning paradigm and that it keeps track of the spatiality of data pairs.\n",
    "While potentially memory and computationally hungry, DVN2 provides users with a multitude of intuitive abstractions, meant to increase the awareness of some of the underlying mechanisms of CNNs.\n",
    "On top of this, DVN2 provides other useful utility and analysis function for doing medical image analysis, for example functions related to image I/O, registration, statistical analysis and visualization."
   ],
   "metadata": {
    "collapsed": false,
    "pycharm": {
     "name": "#%% md\n"
    }
   }
  }
 ],
 "metadata": {
  "kernelspec": {
   "display_name": "Python 3 (ipykernel)",
   "language": "python",
   "name": "python3"
  },
  "language_info": {
   "codemirror_mode": {
    "name": "ipython",
    "version": 3
   },
   "file_extension": ".py",
   "mimetype": "text/x-python",
   "name": "python",
   "nbconvert_exporter": "python",
   "pygments_lexer": "ipython3",
   "version": "3.8.11"
  }
 },
 "nbformat": 4,
 "nbformat_minor": 1
}